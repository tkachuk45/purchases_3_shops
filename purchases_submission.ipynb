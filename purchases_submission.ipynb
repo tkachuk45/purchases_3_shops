{
 "cells": [
  {
   "cell_type": "markdown",
   "id": "40671651-f26f-4d1a-b1d7-2b734bcef0a8",
   "metadata": {},
   "source": [
    "# Введение"
   ]
  },
  {
   "cell_type": "markdown",
   "id": "5873875e-cde4-479e-b0d2-958f270a0f07",
   "metadata": {},
   "source": [
    "Заказчик - маркетинговое агентство. Заказчик предоставил данные за год о покупках в трех не связанных между собой магазинах: \n",
    " - магазин одежды\n",
    " - небольшой магазин подарков\n",
    " - маркетплейс\n",
    "\n",
    "Данные обезличены. Также у нас нет информации об ассортименте магазинов. Но есть дата покупки, цена и количество товара.\n",
    "\n",
    "**Цель:** предсказать факт покупки каждого клиента в ближайшие 30 дней.\n",
    "\n",
    "**Предварительный план работы:**\n",
    "\n",
    "1. Ознакомиться с данными.\n",
    "2. Проанализировать данные, найти полезные для создания признаков закономерности.\n",
    "3. Создать целевой признак, синтезировать обучающие признаки.\n",
    "4. Разделить данные на выборки, обосновать выбор метрики качества решения, провести обучение моделей.\n",
    "5. Выбрать лучшую модель, оценить ее.\n",
    "6. Подвести итоги исследования."
   ]
  },
  {
   "cell_type": "markdown",
   "id": "dadbd694-3eb4-469a-88da-9f3f7d05ee1b",
   "metadata": {},
   "source": [
    "# Загрузка данных"
   ]
  },
  {
   "cell_type": "code",
   "execution_count": 1,
   "id": "5dcec56f-c568-4cc9-b231-5386cde672f4",
   "metadata": {},
   "outputs": [],
   "source": [
    "# импортируем библиотеки\n",
    "from pathlib import Path\n",
    "from datetime import timedelta\n",
    "import warnings\n",
    "\n",
    "# отфильтруем предупреждение об ожидаемых изменениях в pandas 3.0\n",
    "warnings.filterwarnings(\"ignore\", \"\\nPyarrow\", DeprecationWarning)\n",
    "\n",
    "import pandas as pd\n",
    "import numpy as np\n",
    "import matplotlib.pyplot as plt\n",
    "import seaborn as sns\n",
    "import phik\n",
    "\n",
    "from phik.report import plot_correlation_matrix\n",
    "from catboost import (\n",
    "    CatBoostClassifier, \n",
    "    Pool\n",
    ")\n",
    "from sklearn.metrics import (\n",
    "    roc_auc_score,\n",
    "    roc_curve,\n",
    "    confusion_matrix,\n",
    "    f1_score,\n",
    "    recall_score,\n",
    "    precision_score\n",
    ")\n",
    "from sklearn.dummy import DummyClassifier\n",
    "from sklearn.model_selection import train_test_split\n",
    "from imblearn.over_sampling import SMOTE\n",
    "\n",
    "# сохраним путь к файлам\n",
    "PATH = Path(\"E:/purchases_submission/\")\n",
    "\n",
    "# зафиксируем параметр random state\n",
    "RS = 45"
   ]
  },
  {
   "cell_type": "code",
   "execution_count": 2,
   "id": "73d4c7e4-4466-4260-992e-e1b441a9ed10",
   "metadata": {},
   "outputs": [
    {
     "data": {
      "text/html": [
       "<div>\n",
       "<style scoped>\n",
       "    .dataframe tbody tr th:only-of-type {\n",
       "        vertical-align: middle;\n",
       "    }\n",
       "\n",
       "    .dataframe tbody tr th {\n",
       "        vertical-align: top;\n",
       "    }\n",
       "\n",
       "    .dataframe thead th {\n",
       "        text-align: right;\n",
       "    }\n",
       "</style>\n",
       "<table border=\"1\" class=\"dataframe\">\n",
       "  <thead>\n",
       "    <tr style=\"text-align: right;\">\n",
       "      <th></th>\n",
       "      <th>client_id</th>\n",
       "      <th>quantity</th>\n",
       "      <th>price</th>\n",
       "      <th>date</th>\n",
       "      <th>message_id</th>\n",
       "      <th>recommended_by</th>\n",
       "    </tr>\n",
       "  </thead>\n",
       "  <tbody>\n",
       "    <tr>\n",
       "      <th>0</th>\n",
       "      <td>1515915625468068833</td>\n",
       "      <td>1</td>\n",
       "      <td>3499.0</td>\n",
       "      <td>2023-09-08</td>\n",
       "      <td>1515915625468068833-13781-64fad81bece56</td>\n",
       "      <td>bulk_message</td>\n",
       "    </tr>\n",
       "    <tr>\n",
       "      <th>1</th>\n",
       "      <td>1515915625468068833</td>\n",
       "      <td>1</td>\n",
       "      <td>3499.0</td>\n",
       "      <td>2023-09-08</td>\n",
       "      <td>1515915625468068833-13781-64fad81bece56</td>\n",
       "      <td>bulk_message</td>\n",
       "    </tr>\n",
       "    <tr>\n",
       "      <th>2</th>\n",
       "      <td>1515915625468068833</td>\n",
       "      <td>1</td>\n",
       "      <td>3499.0</td>\n",
       "      <td>2023-09-08</td>\n",
       "      <td>1515915625468068833-13781-64fad81bece56</td>\n",
       "      <td>bulk_message</td>\n",
       "    </tr>\n",
       "  </tbody>\n",
       "</table>\n",
       "</div>"
      ],
      "text/plain": [
       "             client_id  quantity   price       date  \\\n",
       "0  1515915625468068833         1  3499.0 2023-09-08   \n",
       "1  1515915625468068833         1  3499.0 2023-09-08   \n",
       "2  1515915625468068833         1  3499.0 2023-09-08   \n",
       "\n",
       "                                message_id recommended_by  \n",
       "0  1515915625468068833-13781-64fad81bece56   bulk_message  \n",
       "1  1515915625468068833-13781-64fad81bece56   bulk_message  \n",
       "2  1515915625468068833-13781-64fad81bece56   bulk_message  "
      ]
     },
     "execution_count": 2,
     "metadata": {},
     "output_type": "execute_result"
    }
   ],
   "source": [
    "# загрузим данные магазина одежды\n",
    "apparel = pd.read_csv(\n",
    "    PATH/'apparel-purchases.csv',\n",
    "    parse_dates = ['date'] # спарсим даты заказов\n",
    ")\n",
    "\n",
    "# проверим результат\n",
    "apparel.head(3)"
   ]
  },
  {
   "cell_type": "code",
   "execution_count": 3,
   "id": "1b90ff40-8865-4b9c-b56c-f2f4892d9ff6",
   "metadata": {},
   "outputs": [
    {
     "data": {
      "text/html": [
       "<div>\n",
       "<style scoped>\n",
       "    .dataframe tbody tr th:only-of-type {\n",
       "        vertical-align: middle;\n",
       "    }\n",
       "\n",
       "    .dataframe tbody tr th {\n",
       "        vertical-align: top;\n",
       "    }\n",
       "\n",
       "    .dataframe thead th {\n",
       "        text-align: right;\n",
       "    }\n",
       "</style>\n",
       "<table border=\"1\" class=\"dataframe\">\n",
       "  <thead>\n",
       "    <tr style=\"text-align: right;\">\n",
       "      <th></th>\n",
       "      <th>client_id</th>\n",
       "      <th>quantity</th>\n",
       "      <th>price</th>\n",
       "      <th>date</th>\n",
       "      <th>message_id</th>\n",
       "      <th>recommended_by</th>\n",
       "    </tr>\n",
       "  </thead>\n",
       "  <tbody>\n",
       "    <tr>\n",
       "      <th>0</th>\n",
       "      <td>1515915625803894158</td>\n",
       "      <td>1</td>\n",
       "      <td>8943.0</td>\n",
       "      <td>2023-10-11</td>\n",
       "      <td>1515915625935652010-16166-6525589bca68f</td>\n",
       "      <td>bulk_message</td>\n",
       "    </tr>\n",
       "    <tr>\n",
       "      <th>1</th>\n",
       "      <td>1515915625803894158</td>\n",
       "      <td>1</td>\n",
       "      <td>46369.0</td>\n",
       "      <td>2023-10-11</td>\n",
       "      <td>1515915625935652010-16166-6525589bca68f</td>\n",
       "      <td>bulk_message</td>\n",
       "    </tr>\n",
       "    <tr>\n",
       "      <th>2</th>\n",
       "      <td>1515915625803894158</td>\n",
       "      <td>1</td>\n",
       "      <td>4666.0</td>\n",
       "      <td>2023-10-11</td>\n",
       "      <td>1515915625935652010-16166-6525589bca68f</td>\n",
       "      <td>bulk_message</td>\n",
       "    </tr>\n",
       "  </tbody>\n",
       "</table>\n",
       "</div>"
      ],
      "text/plain": [
       "             client_id  quantity    price       date  \\\n",
       "0  1515915625803894158         1   8943.0 2023-10-11   \n",
       "1  1515915625803894158         1  46369.0 2023-10-11   \n",
       "2  1515915625803894158         1   4666.0 2023-10-11   \n",
       "\n",
       "                                message_id recommended_by  \n",
       "0  1515915625935652010-16166-6525589bca68f   bulk_message  \n",
       "1  1515915625935652010-16166-6525589bca68f   bulk_message  \n",
       "2  1515915625935652010-16166-6525589bca68f   bulk_message  "
      ]
     },
     "execution_count": 3,
     "metadata": {},
     "output_type": "execute_result"
    }
   ],
   "source": [
    "# загрузим данные магазина подарков\n",
    "gifts = pd.read_csv(\n",
    "    PATH/'gifts-purchases.csv',\n",
    "    parse_dates = ['date'] # спарсим даты заказов\n",
    ")\n",
    "\n",
    "# проверим результат\n",
    "gifts.head(3)"
   ]
  },
  {
   "cell_type": "code",
   "execution_count": 4,
   "id": "7ab8dbd0-427b-4a5a-a825-8446828146c6",
   "metadata": {},
   "outputs": [
    {
     "data": {
      "text/html": [
       "<div>\n",
       "<style scoped>\n",
       "    .dataframe tbody tr th:only-of-type {\n",
       "        vertical-align: middle;\n",
       "    }\n",
       "\n",
       "    .dataframe tbody tr th {\n",
       "        vertical-align: top;\n",
       "    }\n",
       "\n",
       "    .dataframe thead th {\n",
       "        text-align: right;\n",
       "    }\n",
       "</style>\n",
       "<table border=\"1\" class=\"dataframe\">\n",
       "  <thead>\n",
       "    <tr style=\"text-align: right;\">\n",
       "      <th></th>\n",
       "      <th>client_id</th>\n",
       "      <th>quantity</th>\n",
       "      <th>price</th>\n",
       "      <th>message_id</th>\n",
       "      <th>created_at</th>\n",
       "      <th>date</th>\n",
       "    </tr>\n",
       "  </thead>\n",
       "  <tbody>\n",
       "    <tr>\n",
       "      <th>0</th>\n",
       "      <td>1515915625440944408</td>\n",
       "      <td>1</td>\n",
       "      <td>6298.0</td>\n",
       "      <td>1515915625440944408-1752-6450b79616277</td>\n",
       "      <td>2023-05-02</td>\n",
       "      <td>2023-05-02 08:49:57</td>\n",
       "    </tr>\n",
       "    <tr>\n",
       "      <th>1</th>\n",
       "      <td>1515915625440992498</td>\n",
       "      <td>1</td>\n",
       "      <td>7318.0</td>\n",
       "      <td>1515915625440992498-1818-646b35d089c98</td>\n",
       "      <td>2023-05-22</td>\n",
       "      <td>2023-05-22 13:52:13</td>\n",
       "    </tr>\n",
       "    <tr>\n",
       "      <th>2</th>\n",
       "      <td>1515915625441026424</td>\n",
       "      <td>1</td>\n",
       "      <td>65798.0</td>\n",
       "      <td>1515915625441026424-1802-64634e24a2cb9</td>\n",
       "      <td>2023-05-17</td>\n",
       "      <td>2023-05-17 11:21:04</td>\n",
       "    </tr>\n",
       "  </tbody>\n",
       "</table>\n",
       "</div>"
      ],
      "text/plain": [
       "             client_id  quantity    price  \\\n",
       "0  1515915625440944408         1   6298.0   \n",
       "1  1515915625440992498         1   7318.0   \n",
       "2  1515915625441026424         1  65798.0   \n",
       "\n",
       "                               message_id  created_at                date  \n",
       "0  1515915625440944408-1752-6450b79616277  2023-05-02 2023-05-02 08:49:57  \n",
       "1  1515915625440992498-1818-646b35d089c98  2023-05-22 2023-05-22 13:52:13  \n",
       "2  1515915625441026424-1802-64634e24a2cb9  2023-05-17 2023-05-17 11:21:04  "
      ]
     },
     "execution_count": 4,
     "metadata": {},
     "output_type": "execute_result"
    }
   ],
   "source": [
    "# загрузим данные маркетплейса\n",
    "marketplace = pd.read_csv(\n",
    "    PATH/'marketplace-purchases.csv',\n",
    "    parse_dates = ['date'] # спарсим даты заказов\n",
    ")\n",
    "\n",
    "# проверим результат\n",
    "marketplace.head(3)"
   ]
  },
  {
   "cell_type": "code",
   "execution_count": 5,
   "id": "0bb1c3dd-2fdd-4e8c-8074-bde0a1c02039",
   "metadata": {},
   "outputs": [],
   "source": [
    "# напишем функцию проверки датасета\n",
    "def check_data(df):\n",
    "    display(\n",
    "        df.info(),\n",
    "        df.nunique(),\n",
    "        df.describe(include='all', datetime_is_numeric=True),\n",
    "        df.sample(5, random_state=RS)\n",
    "    )\n",
    "    print('Полных дубликатов строк:', df.duplicated().sum())\n",
    "    print('Пропусков:')\n",
    "    display(df.isna().sum())\n",
    "\n",
    "    # проверим монотонность временного ряда\n",
    "    print('Временная последовательность соблюдена:', df['date'].is_monotonic_increasing)\n",
    "\n",
    "    # проверим временной ряд на повторы\n",
    "    print('Повторов timestamp нет:', df['date'].is_unique)"
   ]
  },
  {
   "cell_type": "code",
   "execution_count": 6,
   "id": "bdebf314-a514-4fd1-81c8-a5b5120285b6",
   "metadata": {},
   "outputs": [
    {
     "name": "stdout",
     "output_type": "stream",
     "text": [
      "<class 'pandas.core.frame.DataFrame'>\n",
      "RangeIndex: 133104 entries, 0 to 133103\n",
      "Data columns (total 6 columns):\n",
      " #   Column          Non-Null Count   Dtype         \n",
      "---  ------          --------------   -----         \n",
      " 0   client_id       133104 non-null  int64         \n",
      " 1   quantity        133104 non-null  int64         \n",
      " 2   price           133104 non-null  float64       \n",
      " 3   date            133104 non-null  datetime64[ns]\n",
      " 4   message_id      133104 non-null  object        \n",
      " 5   recommended_by  133104 non-null  object        \n",
      "dtypes: datetime64[ns](1), float64(1), int64(2), object(2)\n",
      "memory usage: 6.1+ MB\n"
     ]
    },
    {
     "data": {
      "text/plain": [
       "None"
      ]
     },
     "metadata": {},
     "output_type": "display_data"
    },
    {
     "data": {
      "text/plain": [
       "client_id         28891\n",
       "quantity             12\n",
       "price              3335\n",
       "date                366\n",
       "message_id        25426\n",
       "recommended_by        1\n",
       "dtype: int64"
      ]
     },
     "metadata": {},
     "output_type": "display_data"
    },
    {
     "data": {
      "text/html": [
       "<div>\n",
       "<style scoped>\n",
       "    .dataframe tbody tr th:only-of-type {\n",
       "        vertical-align: middle;\n",
       "    }\n",
       "\n",
       "    .dataframe tbody tr th {\n",
       "        vertical-align: top;\n",
       "    }\n",
       "\n",
       "    .dataframe thead th {\n",
       "        text-align: right;\n",
       "    }\n",
       "</style>\n",
       "<table border=\"1\" class=\"dataframe\">\n",
       "  <thead>\n",
       "    <tr style=\"text-align: right;\">\n",
       "      <th></th>\n",
       "      <th>client_id</th>\n",
       "      <th>quantity</th>\n",
       "      <th>price</th>\n",
       "      <th>date</th>\n",
       "      <th>message_id</th>\n",
       "      <th>recommended_by</th>\n",
       "    </tr>\n",
       "  </thead>\n",
       "  <tbody>\n",
       "    <tr>\n",
       "      <th>count</th>\n",
       "      <td>1.331040e+05</td>\n",
       "      <td>133104.000000</td>\n",
       "      <td>133104.000000</td>\n",
       "      <td>133104</td>\n",
       "      <td>133104</td>\n",
       "      <td>133104</td>\n",
       "    </tr>\n",
       "    <tr>\n",
       "      <th>unique</th>\n",
       "      <td>NaN</td>\n",
       "      <td>NaN</td>\n",
       "      <td>NaN</td>\n",
       "      <td>NaN</td>\n",
       "      <td>25426</td>\n",
       "      <td>1</td>\n",
       "    </tr>\n",
       "    <tr>\n",
       "      <th>top</th>\n",
       "      <td>NaN</td>\n",
       "      <td>NaN</td>\n",
       "      <td>NaN</td>\n",
       "      <td>NaN</td>\n",
       "      <td>1515915625489095763-6251-6311b13a4cf78</td>\n",
       "      <td>bulk_message</td>\n",
       "    </tr>\n",
       "    <tr>\n",
       "      <th>freq</th>\n",
       "      <td>NaN</td>\n",
       "      <td>NaN</td>\n",
       "      <td>NaN</td>\n",
       "      <td>NaN</td>\n",
       "      <td>271</td>\n",
       "      <td>133104</td>\n",
       "    </tr>\n",
       "    <tr>\n",
       "      <th>mean</th>\n",
       "      <td>1.515916e+18</td>\n",
       "      <td>1.004312</td>\n",
       "      <td>1110.433067</td>\n",
       "      <td>2023-04-04 04:27:23.562928128</td>\n",
       "      <td>NaN</td>\n",
       "      <td>NaN</td>\n",
       "    </tr>\n",
       "    <tr>\n",
       "      <th>min</th>\n",
       "      <td>1.515916e+18</td>\n",
       "      <td>1.000000</td>\n",
       "      <td>1.000000</td>\n",
       "      <td>2022-10-26 00:00:00</td>\n",
       "      <td>NaN</td>\n",
       "      <td>NaN</td>\n",
       "    </tr>\n",
       "    <tr>\n",
       "      <th>25%</th>\n",
       "      <td>1.515916e+18</td>\n",
       "      <td>1.000000</td>\n",
       "      <td>280.000000</td>\n",
       "      <td>2022-12-22 00:00:00</td>\n",
       "      <td>NaN</td>\n",
       "      <td>NaN</td>\n",
       "    </tr>\n",
       "    <tr>\n",
       "      <th>50%</th>\n",
       "      <td>1.515916e+18</td>\n",
       "      <td>1.000000</td>\n",
       "      <td>799.000000</td>\n",
       "      <td>2023-04-19 00:00:00</td>\n",
       "      <td>NaN</td>\n",
       "      <td>NaN</td>\n",
       "    </tr>\n",
       "    <tr>\n",
       "      <th>75%</th>\n",
       "      <td>1.515916e+18</td>\n",
       "      <td>1.000000</td>\n",
       "      <td>1499.000000</td>\n",
       "      <td>2023-06-16 00:00:00</td>\n",
       "      <td>NaN</td>\n",
       "      <td>NaN</td>\n",
       "    </tr>\n",
       "    <tr>\n",
       "      <th>max</th>\n",
       "      <td>1.515916e+18</td>\n",
       "      <td>30.000000</td>\n",
       "      <td>63499.000000</td>\n",
       "      <td>2023-10-26 00:00:00</td>\n",
       "      <td>NaN</td>\n",
       "      <td>NaN</td>\n",
       "    </tr>\n",
       "    <tr>\n",
       "      <th>std</th>\n",
       "      <td>1.422076e+08</td>\n",
       "      <td>0.149315</td>\n",
       "      <td>1257.080854</td>\n",
       "      <td>NaN</td>\n",
       "      <td>NaN</td>\n",
       "      <td>NaN</td>\n",
       "    </tr>\n",
       "  </tbody>\n",
       "</table>\n",
       "</div>"
      ],
      "text/plain": [
       "           client_id       quantity          price  \\\n",
       "count   1.331040e+05  133104.000000  133104.000000   \n",
       "unique           NaN            NaN            NaN   \n",
       "top              NaN            NaN            NaN   \n",
       "freq             NaN            NaN            NaN   \n",
       "mean    1.515916e+18       1.004312    1110.433067   \n",
       "min     1.515916e+18       1.000000       1.000000   \n",
       "25%     1.515916e+18       1.000000     280.000000   \n",
       "50%     1.515916e+18       1.000000     799.000000   \n",
       "75%     1.515916e+18       1.000000    1499.000000   \n",
       "max     1.515916e+18      30.000000   63499.000000   \n",
       "std     1.422076e+08       0.149315    1257.080854   \n",
       "\n",
       "                                 date                              message_id  \\\n",
       "count                          133104                                  133104   \n",
       "unique                            NaN                                   25426   \n",
       "top                               NaN  1515915625489095763-6251-6311b13a4cf78   \n",
       "freq                              NaN                                     271   \n",
       "mean    2023-04-04 04:27:23.562928128                                     NaN   \n",
       "min               2022-10-26 00:00:00                                     NaN   \n",
       "25%               2022-12-22 00:00:00                                     NaN   \n",
       "50%               2023-04-19 00:00:00                                     NaN   \n",
       "75%               2023-06-16 00:00:00                                     NaN   \n",
       "max               2023-10-26 00:00:00                                     NaN   \n",
       "std                               NaN                                     NaN   \n",
       "\n",
       "       recommended_by  \n",
       "count          133104  \n",
       "unique              1  \n",
       "top      bulk_message  \n",
       "freq           133104  \n",
       "mean              NaN  \n",
       "min               NaN  \n",
       "25%               NaN  \n",
       "50%               NaN  \n",
       "75%               NaN  \n",
       "max               NaN  \n",
       "std               NaN  "
      ]
     },
     "metadata": {},
     "output_type": "display_data"
    },
    {
     "data": {
      "text/html": [
       "<div>\n",
       "<style scoped>\n",
       "    .dataframe tbody tr th:only-of-type {\n",
       "        vertical-align: middle;\n",
       "    }\n",
       "\n",
       "    .dataframe tbody tr th {\n",
       "        vertical-align: top;\n",
       "    }\n",
       "\n",
       "    .dataframe thead th {\n",
       "        text-align: right;\n",
       "    }\n",
       "</style>\n",
       "<table border=\"1\" class=\"dataframe\">\n",
       "  <thead>\n",
       "    <tr style=\"text-align: right;\">\n",
       "      <th></th>\n",
       "      <th>client_id</th>\n",
       "      <th>quantity</th>\n",
       "      <th>price</th>\n",
       "      <th>date</th>\n",
       "      <th>message_id</th>\n",
       "      <th>recommended_by</th>\n",
       "    </tr>\n",
       "  </thead>\n",
       "  <tbody>\n",
       "    <tr>\n",
       "      <th>111934</th>\n",
       "      <td>1515915625658980016</td>\n",
       "      <td>1</td>\n",
       "      <td>280.0</td>\n",
       "      <td>2022-12-28</td>\n",
       "      <td>1515915625658980016-9111-63ac569dc6e0d</td>\n",
       "      <td>bulk_message</td>\n",
       "    </tr>\n",
       "    <tr>\n",
       "      <th>36733</th>\n",
       "      <td>1515915625489295977</td>\n",
       "      <td>1</td>\n",
       "      <td>1390.0</td>\n",
       "      <td>2023-06-23</td>\n",
       "      <td>1515915625489295977-13392-649554cd52578</td>\n",
       "      <td>bulk_message</td>\n",
       "    </tr>\n",
       "    <tr>\n",
       "      <th>85806</th>\n",
       "      <td>1515915625863557954</td>\n",
       "      <td>1</td>\n",
       "      <td>399.0</td>\n",
       "      <td>2022-11-26</td>\n",
       "      <td>1515915625863557954-8169-6381ebca6e56b</td>\n",
       "      <td>bulk_message</td>\n",
       "    </tr>\n",
       "    <tr>\n",
       "      <th>3601</th>\n",
       "      <td>1515915625468267004</td>\n",
       "      <td>1</td>\n",
       "      <td>2499.0</td>\n",
       "      <td>2023-04-14</td>\n",
       "      <td>1515915625468267004-11855-6439333698784</td>\n",
       "      <td>bulk_message</td>\n",
       "    </tr>\n",
       "    <tr>\n",
       "      <th>100199</th>\n",
       "      <td>1515915625975676420</td>\n",
       "      <td>1</td>\n",
       "      <td>99.0</td>\n",
       "      <td>2023-08-05</td>\n",
       "      <td>1515915625975676420-13578-64c90903d27d2</td>\n",
       "      <td>bulk_message</td>\n",
       "    </tr>\n",
       "  </tbody>\n",
       "</table>\n",
       "</div>"
      ],
      "text/plain": [
       "                  client_id  quantity   price       date  \\\n",
       "111934  1515915625658980016         1   280.0 2022-12-28   \n",
       "36733   1515915625489295977         1  1390.0 2023-06-23   \n",
       "85806   1515915625863557954         1   399.0 2022-11-26   \n",
       "3601    1515915625468267004         1  2499.0 2023-04-14   \n",
       "100199  1515915625975676420         1    99.0 2023-08-05   \n",
       "\n",
       "                                     message_id recommended_by  \n",
       "111934   1515915625658980016-9111-63ac569dc6e0d   bulk_message  \n",
       "36733   1515915625489295977-13392-649554cd52578   bulk_message  \n",
       "85806    1515915625863557954-8169-6381ebca6e56b   bulk_message  \n",
       "3601    1515915625468267004-11855-6439333698784   bulk_message  \n",
       "100199  1515915625975676420-13578-64c90903d27d2   bulk_message  "
      ]
     },
     "metadata": {},
     "output_type": "display_data"
    },
    {
     "name": "stdout",
     "output_type": "stream",
     "text": [
      "Полных дубликатов строк: 59250\n",
      "Пропусков:\n"
     ]
    },
    {
     "data": {
      "text/plain": [
       "client_id         0\n",
       "quantity          0\n",
       "price             0\n",
       "date              0\n",
       "message_id        0\n",
       "recommended_by    0\n",
       "dtype: int64"
      ]
     },
     "metadata": {},
     "output_type": "display_data"
    },
    {
     "name": "stdout",
     "output_type": "stream",
     "text": [
      "Временная последовательность соблюдена: False\n",
      "Повторов timestamp нет: False\n"
     ]
    }
   ],
   "source": [
    "# проверим данные магазина одежды\n",
    "check_data(apparel)"
   ]
  },
  {
   "cell_type": "markdown",
   "id": "c4eaa4fc-1161-46c4-a51b-4b592d54e65c",
   "metadata": {},
   "source": [
    "Столбцы message_id и recommended_by не содержат полезной информации - удалим их."
   ]
  },
  {
   "cell_type": "code",
   "execution_count": 7,
   "id": "db8540c3-0273-4637-a0fb-18fb06d7b245",
   "metadata": {},
   "outputs": [
    {
     "data": {
      "text/plain": [
       "True"
      ]
     },
     "metadata": {},
     "output_type": "display_data"
    },
    {
     "data": {
      "text/html": [
       "<div>\n",
       "<style scoped>\n",
       "    .dataframe tbody tr th:only-of-type {\n",
       "        vertical-align: middle;\n",
       "    }\n",
       "\n",
       "    .dataframe tbody tr th {\n",
       "        vertical-align: top;\n",
       "    }\n",
       "\n",
       "    .dataframe thead th {\n",
       "        text-align: right;\n",
       "    }\n",
       "</style>\n",
       "<table border=\"1\" class=\"dataframe\">\n",
       "  <thead>\n",
       "    <tr style=\"text-align: right;\">\n",
       "      <th></th>\n",
       "      <th>client_id</th>\n",
       "      <th>quantity</th>\n",
       "      <th>price</th>\n",
       "      <th>date</th>\n",
       "    </tr>\n",
       "  </thead>\n",
       "  <tbody>\n",
       "    <tr>\n",
       "      <th>42189</th>\n",
       "      <td>1515915625558655965</td>\n",
       "      <td>1</td>\n",
       "      <td>1150.0</td>\n",
       "      <td>2022-10-26</td>\n",
       "    </tr>\n",
       "    <tr>\n",
       "      <th>16873</th>\n",
       "      <td>1515915625489888679</td>\n",
       "      <td>1</td>\n",
       "      <td>7.0</td>\n",
       "      <td>2022-10-26</td>\n",
       "    </tr>\n",
       "    <tr>\n",
       "      <th>16872</th>\n",
       "      <td>1515915625489888679</td>\n",
       "      <td>1</td>\n",
       "      <td>7.0</td>\n",
       "      <td>2022-10-26</td>\n",
       "    </tr>\n",
       "  </tbody>\n",
       "</table>\n",
       "</div>"
      ],
      "text/plain": [
       "                 client_id  quantity   price       date\n",
       "42189  1515915625558655965         1  1150.0 2022-10-26\n",
       "16873  1515915625489888679         1     7.0 2022-10-26\n",
       "16872  1515915625489888679         1     7.0 2022-10-26"
      ]
     },
     "metadata": {},
     "output_type": "display_data"
    }
   ],
   "source": [
    "# удалим бесполезные столбцы и отсортируем по дате\n",
    "apparel = apparel.drop(['message_id', 'recommended_by'], axis=1).sort_values(by='date')\n",
    "\n",
    "# проверим результат\n",
    "display(\n",
    "    apparel['date'].is_monotonic_increasing,\n",
    "    apparel.head(3)\n",
    ")"
   ]
  },
  {
   "cell_type": "code",
   "execution_count": 8,
   "id": "6d8f71ad-649e-4b5a-92e6-1e65d932a84e",
   "metadata": {},
   "outputs": [
    {
     "name": "stdout",
     "output_type": "stream",
     "text": [
      "<class 'pandas.core.frame.DataFrame'>\n",
      "RangeIndex: 811 entries, 0 to 810\n",
      "Data columns (total 6 columns):\n",
      " #   Column          Non-Null Count  Dtype         \n",
      "---  ------          --------------  -----         \n",
      " 0   client_id       811 non-null    int64         \n",
      " 1   quantity        811 non-null    int64         \n",
      " 2   price           811 non-null    float64       \n",
      " 3   date            811 non-null    datetime64[ns]\n",
      " 4   message_id      811 non-null    object        \n",
      " 5   recommended_by  811 non-null    object        \n",
      "dtypes: datetime64[ns](1), float64(1), int64(2), object(2)\n",
      "memory usage: 38.1+ KB\n"
     ]
    },
    {
     "data": {
      "text/plain": [
       "None"
      ]
     },
     "metadata": {},
     "output_type": "display_data"
    },
    {
     "data": {
      "text/plain": [
       "client_id         326\n",
       "quantity            2\n",
       "price             598\n",
       "date              190\n",
       "message_id        342\n",
       "recommended_by      1\n",
       "dtype: int64"
      ]
     },
     "metadata": {},
     "output_type": "display_data"
    },
    {
     "data": {
      "text/html": [
       "<div>\n",
       "<style scoped>\n",
       "    .dataframe tbody tr th:only-of-type {\n",
       "        vertical-align: middle;\n",
       "    }\n",
       "\n",
       "    .dataframe tbody tr th {\n",
       "        vertical-align: top;\n",
       "    }\n",
       "\n",
       "    .dataframe thead th {\n",
       "        text-align: right;\n",
       "    }\n",
       "</style>\n",
       "<table border=\"1\" class=\"dataframe\">\n",
       "  <thead>\n",
       "    <tr style=\"text-align: right;\">\n",
       "      <th></th>\n",
       "      <th>client_id</th>\n",
       "      <th>quantity</th>\n",
       "      <th>price</th>\n",
       "      <th>date</th>\n",
       "      <th>message_id</th>\n",
       "      <th>recommended_by</th>\n",
       "    </tr>\n",
       "  </thead>\n",
       "  <tbody>\n",
       "    <tr>\n",
       "      <th>count</th>\n",
       "      <td>8.110000e+02</td>\n",
       "      <td>811.000000</td>\n",
       "      <td>811.000000</td>\n",
       "      <td>811</td>\n",
       "      <td>811</td>\n",
       "      <td>811</td>\n",
       "    </tr>\n",
       "    <tr>\n",
       "      <th>unique</th>\n",
       "      <td>NaN</td>\n",
       "      <td>NaN</td>\n",
       "      <td>NaN</td>\n",
       "      <td>NaN</td>\n",
       "      <td>342</td>\n",
       "      <td>1</td>\n",
       "    </tr>\n",
       "    <tr>\n",
       "      <th>top</th>\n",
       "      <td>NaN</td>\n",
       "      <td>NaN</td>\n",
       "      <td>NaN</td>\n",
       "      <td>NaN</td>\n",
       "      <td>1515915625935652010-16166-6525589bca68f</td>\n",
       "      <td>bulk_message</td>\n",
       "    </tr>\n",
       "    <tr>\n",
       "      <th>freq</th>\n",
       "      <td>NaN</td>\n",
       "      <td>NaN</td>\n",
       "      <td>NaN</td>\n",
       "      <td>NaN</td>\n",
       "      <td>22</td>\n",
       "      <td>811</td>\n",
       "    </tr>\n",
       "    <tr>\n",
       "      <th>mean</th>\n",
       "      <td>1.515916e+18</td>\n",
       "      <td>1.003699</td>\n",
       "      <td>14468.795314</td>\n",
       "      <td>2023-04-27 23:45:47.718865664</td>\n",
       "      <td>NaN</td>\n",
       "      <td>NaN</td>\n",
       "    </tr>\n",
       "    <tr>\n",
       "      <th>min</th>\n",
       "      <td>1.515916e+18</td>\n",
       "      <td>1.000000</td>\n",
       "      <td>656.000000</td>\n",
       "      <td>2022-10-26 00:00:00</td>\n",
       "      <td>NaN</td>\n",
       "      <td>NaN</td>\n",
       "    </tr>\n",
       "    <tr>\n",
       "      <th>25%</th>\n",
       "      <td>1.515916e+18</td>\n",
       "      <td>1.000000</td>\n",
       "      <td>3878.000000</td>\n",
       "      <td>2023-01-31 00:00:00</td>\n",
       "      <td>NaN</td>\n",
       "      <td>NaN</td>\n",
       "    </tr>\n",
       "    <tr>\n",
       "      <th>50%</th>\n",
       "      <td>1.515916e+18</td>\n",
       "      <td>1.000000</td>\n",
       "      <td>7533.000000</td>\n",
       "      <td>2023-05-22 00:00:00</td>\n",
       "      <td>NaN</td>\n",
       "      <td>NaN</td>\n",
       "    </tr>\n",
       "    <tr>\n",
       "      <th>75%</th>\n",
       "      <td>1.515916e+18</td>\n",
       "      <td>1.000000</td>\n",
       "      <td>17938.000000</td>\n",
       "      <td>2023-07-12 00:00:00</td>\n",
       "      <td>NaN</td>\n",
       "      <td>NaN</td>\n",
       "    </tr>\n",
       "    <tr>\n",
       "      <th>max</th>\n",
       "      <td>1.515916e+18</td>\n",
       "      <td>2.000000</td>\n",
       "      <td>173586.000000</td>\n",
       "      <td>2023-10-24 00:00:00</td>\n",
       "      <td>NaN</td>\n",
       "      <td>NaN</td>\n",
       "    </tr>\n",
       "    <tr>\n",
       "      <th>std</th>\n",
       "      <td>6.255407e+07</td>\n",
       "      <td>0.060745</td>\n",
       "      <td>17774.341837</td>\n",
       "      <td>NaN</td>\n",
       "      <td>NaN</td>\n",
       "      <td>NaN</td>\n",
       "    </tr>\n",
       "  </tbody>\n",
       "</table>\n",
       "</div>"
      ],
      "text/plain": [
       "           client_id    quantity          price  \\\n",
       "count   8.110000e+02  811.000000     811.000000   \n",
       "unique           NaN         NaN            NaN   \n",
       "top              NaN         NaN            NaN   \n",
       "freq             NaN         NaN            NaN   \n",
       "mean    1.515916e+18    1.003699   14468.795314   \n",
       "min     1.515916e+18    1.000000     656.000000   \n",
       "25%     1.515916e+18    1.000000    3878.000000   \n",
       "50%     1.515916e+18    1.000000    7533.000000   \n",
       "75%     1.515916e+18    1.000000   17938.000000   \n",
       "max     1.515916e+18    2.000000  173586.000000   \n",
       "std     6.255407e+07    0.060745   17774.341837   \n",
       "\n",
       "                                 date  \\\n",
       "count                             811   \n",
       "unique                            NaN   \n",
       "top                               NaN   \n",
       "freq                              NaN   \n",
       "mean    2023-04-27 23:45:47.718865664   \n",
       "min               2022-10-26 00:00:00   \n",
       "25%               2023-01-31 00:00:00   \n",
       "50%               2023-05-22 00:00:00   \n",
       "75%               2023-07-12 00:00:00   \n",
       "max               2023-10-24 00:00:00   \n",
       "std                               NaN   \n",
       "\n",
       "                                     message_id recommended_by  \n",
       "count                                       811            811  \n",
       "unique                                      342              1  \n",
       "top     1515915625935652010-16166-6525589bca68f   bulk_message  \n",
       "freq                                         22            811  \n",
       "mean                                        NaN            NaN  \n",
       "min                                         NaN            NaN  \n",
       "25%                                         NaN            NaN  \n",
       "50%                                         NaN            NaN  \n",
       "75%                                         NaN            NaN  \n",
       "max                                         NaN            NaN  \n",
       "std                                         NaN            NaN  "
      ]
     },
     "metadata": {},
     "output_type": "display_data"
    },
    {
     "data": {
      "text/html": [
       "<div>\n",
       "<style scoped>\n",
       "    .dataframe tbody tr th:only-of-type {\n",
       "        vertical-align: middle;\n",
       "    }\n",
       "\n",
       "    .dataframe tbody tr th {\n",
       "        vertical-align: top;\n",
       "    }\n",
       "\n",
       "    .dataframe thead th {\n",
       "        text-align: right;\n",
       "    }\n",
       "</style>\n",
       "<table border=\"1\" class=\"dataframe\">\n",
       "  <thead>\n",
       "    <tr style=\"text-align: right;\">\n",
       "      <th></th>\n",
       "      <th>client_id</th>\n",
       "      <th>quantity</th>\n",
       "      <th>price</th>\n",
       "      <th>date</th>\n",
       "      <th>message_id</th>\n",
       "      <th>recommended_by</th>\n",
       "    </tr>\n",
       "  </thead>\n",
       "  <tbody>\n",
       "    <tr>\n",
       "      <th>455</th>\n",
       "      <td>1515915625888075683</td>\n",
       "      <td>1</td>\n",
       "      <td>669.0</td>\n",
       "      <td>2023-01-20</td>\n",
       "      <td>1515915625888075683-9483-63c94f34ddd51</td>\n",
       "      <td>bulk_message</td>\n",
       "    </tr>\n",
       "    <tr>\n",
       "      <th>246</th>\n",
       "      <td>1515915625835001544</td>\n",
       "      <td>1</td>\n",
       "      <td>12990.0</td>\n",
       "      <td>2023-03-24</td>\n",
       "      <td>1515915625835001544-11036-64157d9de69a5</td>\n",
       "      <td>bulk_message</td>\n",
       "    </tr>\n",
       "    <tr>\n",
       "      <th>372</th>\n",
       "      <td>1515915625969512083</td>\n",
       "      <td>1</td>\n",
       "      <td>1946.0</td>\n",
       "      <td>2023-05-22</td>\n",
       "      <td>1515915625951752182-12742-646b14f266095</td>\n",
       "      <td>bulk_message</td>\n",
       "    </tr>\n",
       "    <tr>\n",
       "      <th>234</th>\n",
       "      <td>1515915625817415471</td>\n",
       "      <td>1</td>\n",
       "      <td>15112.0</td>\n",
       "      <td>2023-03-15</td>\n",
       "      <td>1515915625817415471-10893-640f2b5dcc047</td>\n",
       "      <td>bulk_message</td>\n",
       "    </tr>\n",
       "    <tr>\n",
       "      <th>66</th>\n",
       "      <td>1515915625803892965</td>\n",
       "      <td>1</td>\n",
       "      <td>22316.0</td>\n",
       "      <td>2023-07-18</td>\n",
       "      <td>1515915625864123161-14147-64b5459cbe15b</td>\n",
       "      <td>bulk_message</td>\n",
       "    </tr>\n",
       "  </tbody>\n",
       "</table>\n",
       "</div>"
      ],
      "text/plain": [
       "               client_id  quantity    price       date  \\\n",
       "455  1515915625888075683         1    669.0 2023-01-20   \n",
       "246  1515915625835001544         1  12990.0 2023-03-24   \n",
       "372  1515915625969512083         1   1946.0 2023-05-22   \n",
       "234  1515915625817415471         1  15112.0 2023-03-15   \n",
       "66   1515915625803892965         1  22316.0 2023-07-18   \n",
       "\n",
       "                                  message_id recommended_by  \n",
       "455   1515915625888075683-9483-63c94f34ddd51   bulk_message  \n",
       "246  1515915625835001544-11036-64157d9de69a5   bulk_message  \n",
       "372  1515915625951752182-12742-646b14f266095   bulk_message  \n",
       "234  1515915625817415471-10893-640f2b5dcc047   bulk_message  \n",
       "66   1515915625864123161-14147-64b5459cbe15b   bulk_message  "
      ]
     },
     "metadata": {},
     "output_type": "display_data"
    },
    {
     "name": "stdout",
     "output_type": "stream",
     "text": [
      "Полных дубликатов строк: 56\n",
      "Пропусков:\n"
     ]
    },
    {
     "data": {
      "text/plain": [
       "client_id         0\n",
       "quantity          0\n",
       "price             0\n",
       "date              0\n",
       "message_id        0\n",
       "recommended_by    0\n",
       "dtype: int64"
      ]
     },
     "metadata": {},
     "output_type": "display_data"
    },
    {
     "name": "stdout",
     "output_type": "stream",
     "text": [
      "Временная последовательность соблюдена: False\n",
      "Повторов timestamp нет: False\n"
     ]
    }
   ],
   "source": [
    "# проверим данные магазина подарков\n",
    "check_data(gifts)"
   ]
  },
  {
   "cell_type": "code",
   "execution_count": 9,
   "id": "1d53f150-ad68-4bbe-9f07-049dd779e272",
   "metadata": {},
   "outputs": [
    {
     "data": {
      "text/plain": [
       "True"
      ]
     },
     "metadata": {},
     "output_type": "display_data"
    },
    {
     "data": {
      "text/html": [
       "<div>\n",
       "<style scoped>\n",
       "    .dataframe tbody tr th:only-of-type {\n",
       "        vertical-align: middle;\n",
       "    }\n",
       "\n",
       "    .dataframe tbody tr th {\n",
       "        vertical-align: top;\n",
       "    }\n",
       "\n",
       "    .dataframe thead th {\n",
       "        text-align: right;\n",
       "    }\n",
       "</style>\n",
       "<table border=\"1\" class=\"dataframe\">\n",
       "  <thead>\n",
       "    <tr style=\"text-align: right;\">\n",
       "      <th></th>\n",
       "      <th>client_id</th>\n",
       "      <th>quantity</th>\n",
       "      <th>price</th>\n",
       "      <th>date</th>\n",
       "    </tr>\n",
       "  </thead>\n",
       "  <tbody>\n",
       "    <tr>\n",
       "      <th>209</th>\n",
       "      <td>1515915625857065470</td>\n",
       "      <td>1</td>\n",
       "      <td>59990.0</td>\n",
       "      <td>2022-10-26</td>\n",
       "    </tr>\n",
       "    <tr>\n",
       "      <th>210</th>\n",
       "      <td>1515915625857065470</td>\n",
       "      <td>1</td>\n",
       "      <td>54040.0</td>\n",
       "      <td>2022-10-26</td>\n",
       "    </tr>\n",
       "    <tr>\n",
       "      <th>211</th>\n",
       "      <td>1515915625857065470</td>\n",
       "      <td>1</td>\n",
       "      <td>36720.0</td>\n",
       "      <td>2022-10-26</td>\n",
       "    </tr>\n",
       "  </tbody>\n",
       "</table>\n",
       "</div>"
      ],
      "text/plain": [
       "               client_id  quantity    price       date\n",
       "209  1515915625857065470         1  59990.0 2022-10-26\n",
       "210  1515915625857065470         1  54040.0 2022-10-26\n",
       "211  1515915625857065470         1  36720.0 2022-10-26"
      ]
     },
     "metadata": {},
     "output_type": "display_data"
    }
   ],
   "source": [
    "# удалим бесполезные столбцы и отсортируем по дате\n",
    "gifts = gifts.drop(['message_id', 'recommended_by'], axis=1).sort_values(by='date')\n",
    "\n",
    "# проверим результат\n",
    "display(\n",
    "    gifts['date'].is_monotonic_increasing,\n",
    "    gifts.head(3)\n",
    ")"
   ]
  },
  {
   "cell_type": "code",
   "execution_count": 10,
   "id": "470f1a40-74f7-4ead-9404-4159122dba18",
   "metadata": {},
   "outputs": [
    {
     "name": "stdout",
     "output_type": "stream",
     "text": [
      "<class 'pandas.core.frame.DataFrame'>\n",
      "RangeIndex: 48182 entries, 0 to 48181\n",
      "Data columns (total 6 columns):\n",
      " #   Column      Non-Null Count  Dtype         \n",
      "---  ------      --------------  -----         \n",
      " 0   client_id   48182 non-null  int64         \n",
      " 1   quantity    48182 non-null  int64         \n",
      " 2   price       48182 non-null  float64       \n",
      " 3   message_id  48182 non-null  object        \n",
      " 4   created_at  48182 non-null  object        \n",
      " 5   date        48182 non-null  datetime64[ns]\n",
      "dtypes: datetime64[ns](1), float64(1), int64(2), object(2)\n",
      "memory usage: 2.2+ MB\n"
     ]
    },
    {
     "data": {
      "text/plain": [
       "None"
      ]
     },
     "metadata": {},
     "output_type": "display_data"
    },
    {
     "data": {
      "text/plain": [
       "client_id     17787\n",
       "quantity         15\n",
       "price          4991\n",
       "message_id    20940\n",
       "created_at      365\n",
       "date          31340\n",
       "dtype: int64"
      ]
     },
     "metadata": {},
     "output_type": "display_data"
    },
    {
     "data": {
      "text/html": [
       "<div>\n",
       "<style scoped>\n",
       "    .dataframe tbody tr th:only-of-type {\n",
       "        vertical-align: middle;\n",
       "    }\n",
       "\n",
       "    .dataframe tbody tr th {\n",
       "        vertical-align: top;\n",
       "    }\n",
       "\n",
       "    .dataframe thead th {\n",
       "        text-align: right;\n",
       "    }\n",
       "</style>\n",
       "<table border=\"1\" class=\"dataframe\">\n",
       "  <thead>\n",
       "    <tr style=\"text-align: right;\">\n",
       "      <th></th>\n",
       "      <th>client_id</th>\n",
       "      <th>quantity</th>\n",
       "      <th>price</th>\n",
       "      <th>message_id</th>\n",
       "      <th>created_at</th>\n",
       "      <th>date</th>\n",
       "    </tr>\n",
       "  </thead>\n",
       "  <tbody>\n",
       "    <tr>\n",
       "      <th>count</th>\n",
       "      <td>4.818200e+04</td>\n",
       "      <td>48182.000000</td>\n",
       "      <td>4.818200e+04</td>\n",
       "      <td>48182</td>\n",
       "      <td>48182</td>\n",
       "      <td>48182</td>\n",
       "    </tr>\n",
       "    <tr>\n",
       "      <th>unique</th>\n",
       "      <td>NaN</td>\n",
       "      <td>NaN</td>\n",
       "      <td>NaN</td>\n",
       "      <td>20940</td>\n",
       "      <td>365</td>\n",
       "      <td>NaN</td>\n",
       "    </tr>\n",
       "    <tr>\n",
       "      <th>top</th>\n",
       "      <td>NaN</td>\n",
       "      <td>NaN</td>\n",
       "      <td>NaN</td>\n",
       "      <td>1515915625557752721-1909-64942a0b0e7f5</td>\n",
       "      <td>2022-11-11</td>\n",
       "      <td>NaN</td>\n",
       "    </tr>\n",
       "    <tr>\n",
       "      <th>freq</th>\n",
       "      <td>NaN</td>\n",
       "      <td>NaN</td>\n",
       "      <td>NaN</td>\n",
       "      <td>180</td>\n",
       "      <td>848</td>\n",
       "      <td>NaN</td>\n",
       "    </tr>\n",
       "    <tr>\n",
       "      <th>mean</th>\n",
       "      <td>1.515916e+18</td>\n",
       "      <td>1.017413</td>\n",
       "      <td>2.791895e+04</td>\n",
       "      <td>NaN</td>\n",
       "      <td>NaN</td>\n",
       "      <td>2023-04-29 21:02:39.993960448</td>\n",
       "    </tr>\n",
       "    <tr>\n",
       "      <th>min</th>\n",
       "      <td>1.515916e+18</td>\n",
       "      <td>1.000000</td>\n",
       "      <td>0.000000e+00</td>\n",
       "      <td>NaN</td>\n",
       "      <td>NaN</td>\n",
       "      <td>2022-10-26 08:35:46</td>\n",
       "    </tr>\n",
       "    <tr>\n",
       "      <th>25%</th>\n",
       "      <td>1.515916e+18</td>\n",
       "      <td>1.000000</td>\n",
       "      <td>1.204250e+03</td>\n",
       "      <td>NaN</td>\n",
       "      <td>NaN</td>\n",
       "      <td>2023-02-03 19:49:36</td>\n",
       "    </tr>\n",
       "    <tr>\n",
       "      <th>50%</th>\n",
       "      <td>1.515916e+18</td>\n",
       "      <td>1.000000</td>\n",
       "      <td>9.998000e+03</td>\n",
       "      <td>NaN</td>\n",
       "      <td>NaN</td>\n",
       "      <td>2023-04-18 05:33:04.500000</td>\n",
       "    </tr>\n",
       "    <tr>\n",
       "      <th>75%</th>\n",
       "      <td>1.515916e+18</td>\n",
       "      <td>1.000000</td>\n",
       "      <td>3.599800e+04</td>\n",
       "      <td>NaN</td>\n",
       "      <td>NaN</td>\n",
       "      <td>2023-08-12 05:08:25.500000</td>\n",
       "    </tr>\n",
       "    <tr>\n",
       "      <th>max</th>\n",
       "      <td>1.515916e+18</td>\n",
       "      <td>50.000000</td>\n",
       "      <td>1.299998e+06</td>\n",
       "      <td>NaN</td>\n",
       "      <td>NaN</td>\n",
       "      <td>2023-10-26 13:34:11</td>\n",
       "    </tr>\n",
       "    <tr>\n",
       "      <th>std</th>\n",
       "      <td>3.173387e+07</td>\n",
       "      <td>0.540592</td>\n",
       "      <td>4.492274e+04</td>\n",
       "      <td>NaN</td>\n",
       "      <td>NaN</td>\n",
       "      <td>NaN</td>\n",
       "    </tr>\n",
       "  </tbody>\n",
       "</table>\n",
       "</div>"
      ],
      "text/plain": [
       "           client_id      quantity         price  \\\n",
       "count   4.818200e+04  48182.000000  4.818200e+04   \n",
       "unique           NaN           NaN           NaN   \n",
       "top              NaN           NaN           NaN   \n",
       "freq             NaN           NaN           NaN   \n",
       "mean    1.515916e+18      1.017413  2.791895e+04   \n",
       "min     1.515916e+18      1.000000  0.000000e+00   \n",
       "25%     1.515916e+18      1.000000  1.204250e+03   \n",
       "50%     1.515916e+18      1.000000  9.998000e+03   \n",
       "75%     1.515916e+18      1.000000  3.599800e+04   \n",
       "max     1.515916e+18     50.000000  1.299998e+06   \n",
       "std     3.173387e+07      0.540592  4.492274e+04   \n",
       "\n",
       "                                    message_id  created_at  \\\n",
       "count                                    48182       48182   \n",
       "unique                                   20940         365   \n",
       "top     1515915625557752721-1909-64942a0b0e7f5  2022-11-11   \n",
       "freq                                       180         848   \n",
       "mean                                       NaN         NaN   \n",
       "min                                        NaN         NaN   \n",
       "25%                                        NaN         NaN   \n",
       "50%                                        NaN         NaN   \n",
       "75%                                        NaN         NaN   \n",
       "max                                        NaN         NaN   \n",
       "std                                        NaN         NaN   \n",
       "\n",
       "                                 date  \n",
       "count                           48182  \n",
       "unique                            NaN  \n",
       "top                               NaN  \n",
       "freq                              NaN  \n",
       "mean    2023-04-29 21:02:39.993960448  \n",
       "min               2022-10-26 08:35:46  \n",
       "25%               2023-02-03 19:49:36  \n",
       "50%        2023-04-18 05:33:04.500000  \n",
       "75%        2023-08-12 05:08:25.500000  \n",
       "max               2023-10-26 13:34:11  \n",
       "std                               NaN  "
      ]
     },
     "metadata": {},
     "output_type": "display_data"
    },
    {
     "data": {
      "text/html": [
       "<div>\n",
       "<style scoped>\n",
       "    .dataframe tbody tr th:only-of-type {\n",
       "        vertical-align: middle;\n",
       "    }\n",
       "\n",
       "    .dataframe tbody tr th {\n",
       "        vertical-align: top;\n",
       "    }\n",
       "\n",
       "    .dataframe thead th {\n",
       "        text-align: right;\n",
       "    }\n",
       "</style>\n",
       "<table border=\"1\" class=\"dataframe\">\n",
       "  <thead>\n",
       "    <tr style=\"text-align: right;\">\n",
       "      <th></th>\n",
       "      <th>client_id</th>\n",
       "      <th>quantity</th>\n",
       "      <th>price</th>\n",
       "      <th>message_id</th>\n",
       "      <th>created_at</th>\n",
       "      <th>date</th>\n",
       "    </tr>\n",
       "  </thead>\n",
       "  <tbody>\n",
       "    <tr>\n",
       "      <th>10741</th>\n",
       "      <td>1515915625531418205</td>\n",
       "      <td>1</td>\n",
       "      <td>57998.0</td>\n",
       "      <td>1515915625531418205-1762-6453743118489</td>\n",
       "      <td>2023-05-04</td>\n",
       "      <td>2023-05-04 15:55:38</td>\n",
       "    </tr>\n",
       "    <tr>\n",
       "      <th>20061</th>\n",
       "      <td>1515915625553273421</td>\n",
       "      <td>1</td>\n",
       "      <td>5798.0</td>\n",
       "      <td>1515915625553273421-2094-6500222b41af3</td>\n",
       "      <td>2023-09-12</td>\n",
       "      <td>2023-09-12 17:33:07</td>\n",
       "    </tr>\n",
       "    <tr>\n",
       "      <th>47251</th>\n",
       "      <td>1515915625570041861</td>\n",
       "      <td>1</td>\n",
       "      <td>61998.0</td>\n",
       "      <td>1515915625525686313-1569-63f85a733fa5a</td>\n",
       "      <td>2023-02-24</td>\n",
       "      <td>2023-02-24 11:50:41</td>\n",
       "    </tr>\n",
       "    <tr>\n",
       "      <th>26501</th>\n",
       "      <td>1515915625516209860</td>\n",
       "      <td>1</td>\n",
       "      <td>79998.0</td>\n",
       "      <td>1515915625516209860-2046-64e31c1abcfa0</td>\n",
       "      <td>2023-08-22</td>\n",
       "      <td>2023-08-22 04:06:38</td>\n",
       "    </tr>\n",
       "    <tr>\n",
       "      <th>37216</th>\n",
       "      <td>1515915625586604069</td>\n",
       "      <td>1</td>\n",
       "      <td>17998.0</td>\n",
       "      <td>1515915625546393273-2047-64e3291cd3f02</td>\n",
       "      <td>2023-08-21</td>\n",
       "      <td>2023-08-21 11:24:50</td>\n",
       "    </tr>\n",
       "  </tbody>\n",
       "</table>\n",
       "</div>"
      ],
      "text/plain": [
       "                 client_id  quantity    price  \\\n",
       "10741  1515915625531418205         1  57998.0   \n",
       "20061  1515915625553273421         1   5798.0   \n",
       "47251  1515915625570041861         1  61998.0   \n",
       "26501  1515915625516209860         1  79998.0   \n",
       "37216  1515915625586604069         1  17998.0   \n",
       "\n",
       "                                   message_id  created_at                date  \n",
       "10741  1515915625531418205-1762-6453743118489  2023-05-04 2023-05-04 15:55:38  \n",
       "20061  1515915625553273421-2094-6500222b41af3  2023-09-12 2023-09-12 17:33:07  \n",
       "47251  1515915625525686313-1569-63f85a733fa5a  2023-02-24 2023-02-24 11:50:41  \n",
       "26501  1515915625516209860-2046-64e31c1abcfa0  2023-08-22 2023-08-22 04:06:38  \n",
       "37216  1515915625546393273-2047-64e3291cd3f02  2023-08-21 2023-08-21 11:24:50  "
      ]
     },
     "metadata": {},
     "output_type": "display_data"
    },
    {
     "name": "stdout",
     "output_type": "stream",
     "text": [
      "Полных дубликатов строк: 2159\n",
      "Пропусков:\n"
     ]
    },
    {
     "data": {
      "text/plain": [
       "client_id     0\n",
       "quantity      0\n",
       "price         0\n",
       "message_id    0\n",
       "created_at    0\n",
       "date          0\n",
       "dtype: int64"
      ]
     },
     "metadata": {},
     "output_type": "display_data"
    },
    {
     "name": "stdout",
     "output_type": "stream",
     "text": [
      "Временная последовательность соблюдена: False\n",
      "Повторов timestamp нет: False\n"
     ]
    }
   ],
   "source": [
    "# проверим данные маркетплейса\n",
    "check_data(marketplace)"
   ]
  },
  {
   "cell_type": "code",
   "execution_count": 11,
   "id": "a1759100-1a24-4970-bb24-f38dd1cb4f50",
   "metadata": {},
   "outputs": [
    {
     "data": {
      "text/html": [
       "<div>\n",
       "<style scoped>\n",
       "    .dataframe tbody tr th:only-of-type {\n",
       "        vertical-align: middle;\n",
       "    }\n",
       "\n",
       "    .dataframe tbody tr th {\n",
       "        vertical-align: top;\n",
       "    }\n",
       "\n",
       "    .dataframe thead th {\n",
       "        text-align: right;\n",
       "    }\n",
       "</style>\n",
       "<table border=\"1\" class=\"dataframe\">\n",
       "  <thead>\n",
       "    <tr style=\"text-align: right;\">\n",
       "      <th></th>\n",
       "      <th>client_id</th>\n",
       "      <th>quantity</th>\n",
       "      <th>price</th>\n",
       "      <th>message_id</th>\n",
       "      <th>created_at</th>\n",
       "      <th>date</th>\n",
       "    </tr>\n",
       "  </thead>\n",
       "  <tbody>\n",
       "  </tbody>\n",
       "</table>\n",
       "</div>"
      ],
      "text/plain": [
       "Empty DataFrame\n",
       "Columns: [client_id, quantity, price, message_id, created_at, date]\n",
       "Index: []"
      ]
     },
     "execution_count": 11,
     "metadata": {},
     "output_type": "execute_result"
    }
   ],
   "source": [
    "# проверим, что столбцы date и created_at содержат одну и ту же дату\n",
    "marketplace[pd.to_datetime(marketplace['created_at']).dt.day != marketplace['date'].dt.day].head()"
   ]
  },
  {
   "cell_type": "markdown",
   "id": "d95cd7ab-74f2-48be-829b-6da1eb88f8c8",
   "metadata": {},
   "source": [
    "Столбцы содержат одинаковые даты."
   ]
  },
  {
   "cell_type": "code",
   "execution_count": 12,
   "id": "cfc31fae-3728-4162-8524-72b1548f85de",
   "metadata": {},
   "outputs": [
    {
     "data": {
      "text/plain": [
       "True"
      ]
     },
     "metadata": {},
     "output_type": "display_data"
    },
    {
     "data": {
      "text/html": [
       "<div>\n",
       "<style scoped>\n",
       "    .dataframe tbody tr th:only-of-type {\n",
       "        vertical-align: middle;\n",
       "    }\n",
       "\n",
       "    .dataframe tbody tr th {\n",
       "        vertical-align: top;\n",
       "    }\n",
       "\n",
       "    .dataframe thead th {\n",
       "        text-align: right;\n",
       "    }\n",
       "</style>\n",
       "<table border=\"1\" class=\"dataframe\">\n",
       "  <thead>\n",
       "    <tr style=\"text-align: right;\">\n",
       "      <th></th>\n",
       "      <th>client_id</th>\n",
       "      <th>quantity</th>\n",
       "      <th>price</th>\n",
       "      <th>date</th>\n",
       "    </tr>\n",
       "  </thead>\n",
       "  <tbody>\n",
       "    <tr>\n",
       "      <th>26693</th>\n",
       "      <td>1515915625562386426</td>\n",
       "      <td>1</td>\n",
       "      <td>10598.0</td>\n",
       "      <td>2022-10-26</td>\n",
       "    </tr>\n",
       "    <tr>\n",
       "      <th>15660</th>\n",
       "      <td>1515915625519806198</td>\n",
       "      <td>1</td>\n",
       "      <td>2.0</td>\n",
       "      <td>2022-10-27</td>\n",
       "    </tr>\n",
       "    <tr>\n",
       "      <th>15662</th>\n",
       "      <td>1515915625519806198</td>\n",
       "      <td>1</td>\n",
       "      <td>77996.0</td>\n",
       "      <td>2022-10-27</td>\n",
       "    </tr>\n",
       "  </tbody>\n",
       "</table>\n",
       "</div>"
      ],
      "text/plain": [
       "                 client_id  quantity    price       date\n",
       "26693  1515915625562386426         1  10598.0 2022-10-26\n",
       "15660  1515915625519806198         1      2.0 2022-10-27\n",
       "15662  1515915625519806198         1  77996.0 2022-10-27"
      ]
     },
     "metadata": {},
     "output_type": "display_data"
    }
   ],
   "source": [
    "# удалим бесполезные столбцы и отсортируем по дате\n",
    "marketplace = marketplace.drop(['message_id', 'date'], axis=1).sort_values(by='created_at')\n",
    "marketplace.rename(columns={'created_at': 'date'}, inplace=True)\n",
    "marketplace['date'] = pd.to_datetime(marketplace['date'])\n",
    "\n",
    "# проверим результат\n",
    "display(\n",
    "    marketplace['date'].is_monotonic_increasing,\n",
    "    marketplace.head(3)\n",
    ")"
   ]
  },
  {
   "cell_type": "markdown",
   "id": "4f575054-858f-4f4c-a0bd-3d12934e5137",
   "metadata": {},
   "source": [
    "**Итоги загрузки:**\n",
    "\n",
    "1. Мы загрузили данные трех несвязанных между собой магазинов.\n",
    "2. Данные для магазина одежды и маркетплейса представлены за год: с 26.10.2022 по 26.10.2023. Данные магазина подарков содержат строки с 26.10.2022 по 24.10.2023.\n",
    "3. Мы обнаружили значительное количество полных дубликатов строк.\n",
    "4. Удалили бесполезные столбцы."
   ]
  },
  {
   "cell_type": "markdown",
   "id": "2e493c2b-f015-46fc-ae44-3943fca5f7e9",
   "metadata": {},
   "source": [
    "# Анализ данных"
   ]
  },
  {
   "cell_type": "markdown",
   "id": "6827bd3d-99e3-4bdc-adcf-98dfa19a626e",
   "metadata": {},
   "source": [
    "## Дубликаты"
   ]
  },
  {
   "cell_type": "code",
   "execution_count": 13,
   "id": "e051aa49-643d-4c50-bcad-f47b5fda10ad",
   "metadata": {},
   "outputs": [
    {
     "data": {
      "text/html": [
       "<div>\n",
       "<style scoped>\n",
       "    .dataframe tbody tr th:only-of-type {\n",
       "        vertical-align: middle;\n",
       "    }\n",
       "\n",
       "    .dataframe tbody tr th {\n",
       "        vertical-align: top;\n",
       "    }\n",
       "\n",
       "    .dataframe thead th {\n",
       "        text-align: right;\n",
       "    }\n",
       "</style>\n",
       "<table border=\"1\" class=\"dataframe\">\n",
       "  <thead>\n",
       "    <tr style=\"text-align: right;\">\n",
       "      <th></th>\n",
       "      <th>client_id</th>\n",
       "      <th>quantity</th>\n",
       "      <th>price</th>\n",
       "      <th>date</th>\n",
       "    </tr>\n",
       "  </thead>\n",
       "  <tbody>\n",
       "    <tr>\n",
       "      <th>16872</th>\n",
       "      <td>1515915625489888679</td>\n",
       "      <td>1</td>\n",
       "      <td>7.0</td>\n",
       "      <td>2022-10-26</td>\n",
       "    </tr>\n",
       "    <tr>\n",
       "      <th>560</th>\n",
       "      <td>1515915625468222486</td>\n",
       "      <td>1</td>\n",
       "      <td>3999.0</td>\n",
       "      <td>2022-10-26</td>\n",
       "    </tr>\n",
       "    <tr>\n",
       "      <th>82378</th>\n",
       "      <td>1515915625859359111</td>\n",
       "      <td>1</td>\n",
       "      <td>499.0</td>\n",
       "      <td>2022-10-27</td>\n",
       "    </tr>\n",
       "    <tr>\n",
       "      <th>82377</th>\n",
       "      <td>1515915625859359111</td>\n",
       "      <td>1</td>\n",
       "      <td>499.0</td>\n",
       "      <td>2022-10-27</td>\n",
       "    </tr>\n",
       "    <tr>\n",
       "      <th>2492</th>\n",
       "      <td>1515915625487057033</td>\n",
       "      <td>1</td>\n",
       "      <td>343.0</td>\n",
       "      <td>2022-10-27</td>\n",
       "    </tr>\n",
       "  </tbody>\n",
       "</table>\n",
       "</div>"
      ],
      "text/plain": [
       "                 client_id  quantity   price       date\n",
       "16872  1515915625489888679         1     7.0 2022-10-26\n",
       "560    1515915625468222486         1  3999.0 2022-10-26\n",
       "82378  1515915625859359111         1   499.0 2022-10-27\n",
       "82377  1515915625859359111         1   499.0 2022-10-27\n",
       "2492   1515915625487057033         1   343.0 2022-10-27"
      ]
     },
     "metadata": {},
     "output_type": "display_data"
    },
    {
     "data": {
      "text/html": [
       "<div>\n",
       "<style scoped>\n",
       "    .dataframe tbody tr th:only-of-type {\n",
       "        vertical-align: middle;\n",
       "    }\n",
       "\n",
       "    .dataframe tbody tr th {\n",
       "        vertical-align: top;\n",
       "    }\n",
       "\n",
       "    .dataframe thead th {\n",
       "        text-align: right;\n",
       "    }\n",
       "</style>\n",
       "<table border=\"1\" class=\"dataframe\">\n",
       "  <thead>\n",
       "    <tr style=\"text-align: right;\">\n",
       "      <th></th>\n",
       "      <th>client_id</th>\n",
       "      <th>quantity</th>\n",
       "      <th>price</th>\n",
       "      <th>date</th>\n",
       "    </tr>\n",
       "  </thead>\n",
       "  <tbody>\n",
       "    <tr>\n",
       "      <th>736</th>\n",
       "      <td>1515915625835005143</td>\n",
       "      <td>1</td>\n",
       "      <td>17100.0</td>\n",
       "      <td>2022-11-02</td>\n",
       "    </tr>\n",
       "    <tr>\n",
       "      <th>738</th>\n",
       "      <td>1515915625835005143</td>\n",
       "      <td>1</td>\n",
       "      <td>18000.0</td>\n",
       "      <td>2022-11-02</td>\n",
       "    </tr>\n",
       "    <tr>\n",
       "      <th>729</th>\n",
       "      <td>1515915625835005077</td>\n",
       "      <td>1</td>\n",
       "      <td>3627.0</td>\n",
       "      <td>2022-11-03</td>\n",
       "    </tr>\n",
       "    <tr>\n",
       "      <th>728</th>\n",
       "      <td>1515915625835005077</td>\n",
       "      <td>1</td>\n",
       "      <td>3627.0</td>\n",
       "      <td>2022-11-03</td>\n",
       "    </tr>\n",
       "    <tr>\n",
       "      <th>731</th>\n",
       "      <td>1515915625835005077</td>\n",
       "      <td>1</td>\n",
       "      <td>3627.0</td>\n",
       "      <td>2022-11-03</td>\n",
       "    </tr>\n",
       "  </tbody>\n",
       "</table>\n",
       "</div>"
      ],
      "text/plain": [
       "               client_id  quantity    price       date\n",
       "736  1515915625835005143         1  17100.0 2022-11-02\n",
       "738  1515915625835005143         1  18000.0 2022-11-02\n",
       "729  1515915625835005077         1   3627.0 2022-11-03\n",
       "728  1515915625835005077         1   3627.0 2022-11-03\n",
       "731  1515915625835005077         1   3627.0 2022-11-03"
      ]
     },
     "metadata": {},
     "output_type": "display_data"
    },
    {
     "data": {
      "text/html": [
       "<div>\n",
       "<style scoped>\n",
       "    .dataframe tbody tr th:only-of-type {\n",
       "        vertical-align: middle;\n",
       "    }\n",
       "\n",
       "    .dataframe tbody tr th {\n",
       "        vertical-align: top;\n",
       "    }\n",
       "\n",
       "    .dataframe thead th {\n",
       "        text-align: right;\n",
       "    }\n",
       "</style>\n",
       "<table border=\"1\" class=\"dataframe\">\n",
       "  <thead>\n",
       "    <tr style=\"text-align: right;\">\n",
       "      <th></th>\n",
       "      <th>client_id</th>\n",
       "      <th>quantity</th>\n",
       "      <th>price</th>\n",
       "      <th>date</th>\n",
       "    </tr>\n",
       "  </thead>\n",
       "  <tbody>\n",
       "    <tr>\n",
       "      <th>15668</th>\n",
       "      <td>1515915625519806198</td>\n",
       "      <td>1</td>\n",
       "      <td>84998.0</td>\n",
       "      <td>2022-10-27</td>\n",
       "    </tr>\n",
       "    <tr>\n",
       "      <th>19733</th>\n",
       "      <td>1515915625542470986</td>\n",
       "      <td>1</td>\n",
       "      <td>2.0</td>\n",
       "      <td>2022-10-28</td>\n",
       "    </tr>\n",
       "    <tr>\n",
       "      <th>19728</th>\n",
       "      <td>1515915625534205649</td>\n",
       "      <td>1</td>\n",
       "      <td>379998.0</td>\n",
       "      <td>2022-10-31</td>\n",
       "    </tr>\n",
       "    <tr>\n",
       "      <th>4732</th>\n",
       "      <td>1515915625466048507</td>\n",
       "      <td>1</td>\n",
       "      <td>2.0</td>\n",
       "      <td>2022-10-31</td>\n",
       "    </tr>\n",
       "    <tr>\n",
       "      <th>23020</th>\n",
       "      <td>1515915625552920208</td>\n",
       "      <td>1</td>\n",
       "      <td>6998.0</td>\n",
       "      <td>2022-10-31</td>\n",
       "    </tr>\n",
       "  </tbody>\n",
       "</table>\n",
       "</div>"
      ],
      "text/plain": [
       "                 client_id  quantity     price       date\n",
       "15668  1515915625519806198         1   84998.0 2022-10-27\n",
       "19733  1515915625542470986         1       2.0 2022-10-28\n",
       "19728  1515915625534205649         1  379998.0 2022-10-31\n",
       "4732   1515915625466048507         1       2.0 2022-10-31\n",
       "23020  1515915625552920208         1    6998.0 2022-10-31"
      ]
     },
     "metadata": {},
     "output_type": "display_data"
    }
   ],
   "source": [
    "# посмотрим на дубликаты строк\n",
    "display(\n",
    "    apparel[apparel.duplicated()].head(),\n",
    "    gifts[gifts.duplicated()].head(),\n",
    "    marketplace[marketplace.duplicated()].head()\n",
    ")"
   ]
  },
  {
   "cell_type": "markdown",
   "id": "be0a4917-be31-46fc-8816-7705f06bc24d",
   "metadata": {},
   "source": [
    "У нас нет информации о типах товаров в магазинах, поэтому можем предположить, что полные дубликаты строк - это похожие товары в одном заказе, имеющие небольшие различия. Например, одежда разных размеров или предметы разных цветов. Оставим дубликаты как есть."
   ]
  },
  {
   "cell_type": "markdown",
   "id": "a64d1d0c-ae81-49f5-9eb3-a830af5fbe61",
   "metadata": {},
   "source": [
    "## Распределение покупок во времени"
   ]
  },
  {
   "cell_type": "markdown",
   "id": "7244d068-7746-4b10-91a4-0591269279e6",
   "metadata": {},
   "source": [
    "Проверим количество покупок по датам на протяжении всего срока наблюдений:"
   ]
  },
  {
   "cell_type": "code",
   "execution_count": 14,
   "id": "159efe11-e435-48b8-b671-d4a7760b5080",
   "metadata": {},
   "outputs": [
    {
     "data": {
      "image/png": "[encoded data removed]",
      "text/plain": [
       "<Figure size 1080x504 with 1 Axes>"
      ]
     },
     "metadata": {},
     "output_type": "display_data"
    }
   ],
   "source": [
    "# используем стиль графиков seaborn\n",
    "sns.set_theme()\n",
    "\n",
    "# сгруппируем покупки по датам\n",
    "def purchase_dates_plot(df, df_name):\n",
    "    purchase_dates = df.groupby('date')['client_id'].count()\n",
    "    purchase_dates.plot(figsize=(15, 7))\n",
    "    plt.title(f'Количество покупок в {df_name} во времени')\n",
    "    plt.ylabel('Количество покупок')\n",
    "    plt.xlabel('Даты')\n",
    "    plt.show()\n",
    "\n",
    "# получим распределение покупок во времени в магазине одежды\n",
    "purchase_dates_plot(apparel, 'магазине одежды')"
   ]
  },
  {
   "cell_type": "markdown",
   "id": "acea6415-0f4f-449f-b7b2-c12e872a2711",
   "metadata": {},
   "source": [
    "В магазине одежды видны всплески в середине ноября, перед новым годом, перед началом мая и в середине июня. Всплески можно объяснить черной пятницей, покупкой одежды к празднованию нового года и в качестве подарка, а также перед периодами массовых отпусков."
   ]
  },
  {
   "cell_type": "code",
   "execution_count": 15,
   "id": "fe097267-53c3-4d15-8283-92766dbf36d3",
   "metadata": {},
   "outputs": [
    {
     "data": {
      "image/png": "[encoded data removed]",
      "text/plain": [
       "<Figure size 1080x504 with 1 Axes>"
      ]
     },
     "metadata": {},
     "output_type": "display_data"
    }
   ],
   "source": [
    "# получим распределение покупок во времени в магазине подарков\n",
    "purchase_dates_plot(gifts, 'магазине подарков')"
   ]
  },
  {
   "cell_type": "markdown",
   "id": "72280c03-8232-4c40-a2a5-4b7b6d4ff44f",
   "metadata": {},
   "source": [
    "В случае с магазином подарков не удалось выяснить логику всплесков покупательской активности, поскольку мы ничего не знаем о товарах."
   ]
  },
  {
   "cell_type": "code",
   "execution_count": 16,
   "id": "891c36ac-a206-4be6-9947-4e99aa4017e6",
   "metadata": {},
   "outputs": [
    {
     "data": {
      "image/png": "[encoded data removed]",
      "text/plain": [
       "<Figure size 1080x504 with 1 Axes>"
      ]
     },
     "metadata": {},
     "output_type": "display_data"
    }
   ],
   "source": [
    "# получим распределение покупок во времени в маркетплейсе\n",
    "purchase_dates_plot(marketplace, 'маркетплейсе')"
   ]
  },
  {
   "cell_type": "markdown",
   "id": "eb2785ae-3e87-49f2-bd77-0bd921410139",
   "metadata": {},
   "source": [
    "Продажи маркетплейса распределилилсь довольно равномерно в течении года, с периодическими всплесками. Наибольшая просадка продаж заметна в январе - видимо она связана с новогодними праздниками и общим спадом активности.\n",
    "\n",
    "Мы, к сожалению, не сможем использовать информацию о сезонных всплесках покупок, поскольку данные представлены лишь за один год, а предсказать нам нужно только последние 30 дней. Далее извлечем статистическую информацию о покупках клиентов:"
   ]
  },
  {
   "cell_type": "code",
   "execution_count": 17,
   "id": "6f9c4e95-952c-40f6-82e0-d5d11e7f2c43",
   "metadata": {},
   "outputs": [],
   "source": [
    "def get_stats(data):\n",
    "    df = data.copy()\n",
    "    # найдем сумму каждой покупки\n",
    "    df['total'] = df['quantity'] * df['price']\n",
    "\n",
    "    # объединим заказы клиента за день в один заказ\n",
    "    df = df.groupby(['client_id', 'date']).agg({'total': ['sum']})  # суммируем покупки за день\n",
    "    df.columns = ['total']\n",
    "    df.reset_index(inplace=True)\n",
    "    \n",
    "    # посчитаем количество и сумму покупок каждого клиента\n",
    "    client_purchases = df.groupby(['client_id']).agg({\n",
    "        'date': ['count'],  \n",
    "        'total': ['sum']   \n",
    "    })\n",
    "    client_purchases.columns = ['num_purchases', 'user_total']\n",
    "    client_purchases.reset_index(inplace=True)\n",
    "\n",
    "    # найдем интервал с каждого предыдущего заказа клиента\n",
    "    df['days_interval'] = df.groupby(['client_id'])['date'].diff().dt.days\n",
    "\n",
    "     # найдем минимальное и максимальное количество дней между заказами\n",
    "    user_order_stats = df.groupby(['client_id'])['days_interval'].agg(['max'])\n",
    "    user_order_stats.columns = ['max_interval']\n",
    "\n",
    "    # найдем давность последней сделки клиента\n",
    "    # найдем последнюю дату покупки\n",
    "    last_order = df.groupby(['client_id'])['date'].agg(['max'])\n",
    "    last_order.columns = ['date']\n",
    "    # добавим столбец для фильтрации предыдущей даты покупки\n",
    "    last_order['last_order'] = 1\n",
    "    prev_order = df.merge(last_order, on=['client_id', 'date'], how='left')\n",
    "    prev_order.fillna(0, inplace=True)\n",
    "    # найдем предыдущую дату покупки\n",
    "    prev_order = prev_order[prev_order['last_order'] != 1].groupby(['client_id'])['date'].agg(['max'])\n",
    "    # вычтем из последней даты предыдущую, получим давность последней сделки клиента\n",
    "    last_order['recency'] = np.subtract(last_order['date'], prev_order['max']).dt.days\n",
    "    recency = last_order['recency'].to_frame()\n",
    "\n",
    "    # добавим количество и сумму покупок каждого клиента, статы интервалов заказов клиента\n",
    "    df = client_purchases.merge(user_order_stats, on=['client_id'], how='left')\n",
    "    # добавим давность последней сделки клиента\n",
    "    df = df.merge(recency, on=['client_id'], how='left')          \n",
    "    \n",
    "    # заполним нулями значения для единичных заказов\n",
    "    df = df.fillna(0)\n",
    "\n",
    "    # сохраним в индекс id клиентов чтобы не включать их в графики\n",
    "    df = df.set_index('client_id')\n",
    "\n",
    "    # конвертируем числа с плавающей точкой в целые\n",
    "    df = df.astype(int)\n",
    "\n",
    "    return df"
   ]
  },
  {
   "cell_type": "code",
   "execution_count": 18,
   "id": "518f99f3-5a69-40a0-9c6f-4580190a7e91",
   "metadata": {},
   "outputs": [
    {
     "data": {
      "text/html": [
       "<div>\n",
       "<style scoped>\n",
       "    .dataframe tbody tr th:only-of-type {\n",
       "        vertical-align: middle;\n",
       "    }\n",
       "\n",
       "    .dataframe tbody tr th {\n",
       "        vertical-align: top;\n",
       "    }\n",
       "\n",
       "    .dataframe thead th {\n",
       "        text-align: right;\n",
       "    }\n",
       "</style>\n",
       "<table border=\"1\" class=\"dataframe\">\n",
       "  <thead>\n",
       "    <tr style=\"text-align: right;\">\n",
       "      <th></th>\n",
       "      <th>num_purchases</th>\n",
       "      <th>user_total</th>\n",
       "      <th>max_interval</th>\n",
       "      <th>recency</th>\n",
       "    </tr>\n",
       "    <tr>\n",
       "      <th>client_id</th>\n",
       "      <th></th>\n",
       "      <th></th>\n",
       "      <th></th>\n",
       "      <th></th>\n",
       "    </tr>\n",
       "  </thead>\n",
       "  <tbody>\n",
       "    <tr>\n",
       "      <th>1515915625468061003</th>\n",
       "      <td>1</td>\n",
       "      <td>16235</td>\n",
       "      <td>0</td>\n",
       "      <td>0</td>\n",
       "    </tr>\n",
       "    <tr>\n",
       "      <th>1515915625468061170</th>\n",
       "      <td>3</td>\n",
       "      <td>33601</td>\n",
       "      <td>80</td>\n",
       "      <td>80</td>\n",
       "    </tr>\n",
       "    <tr>\n",
       "      <th>1515915625468061994</th>\n",
       "      <td>2</td>\n",
       "      <td>1012</td>\n",
       "      <td>29</td>\n",
       "      <td>29</td>\n",
       "    </tr>\n",
       "  </tbody>\n",
       "</table>\n",
       "</div>"
      ],
      "text/plain": [
       "                     num_purchases  user_total  max_interval  recency\n",
       "client_id                                                            \n",
       "1515915625468061003              1       16235             0        0\n",
       "1515915625468061170              3       33601            80       80\n",
       "1515915625468061994              2        1012            29       29"
      ]
     },
     "metadata": {},
     "output_type": "display_data"
    },
    {
     "data": {
      "text/html": [
       "<div>\n",
       "<style scoped>\n",
       "    .dataframe tbody tr th:only-of-type {\n",
       "        vertical-align: middle;\n",
       "    }\n",
       "\n",
       "    .dataframe tbody tr th {\n",
       "        vertical-align: top;\n",
       "    }\n",
       "\n",
       "    .dataframe thead th {\n",
       "        text-align: right;\n",
       "    }\n",
       "</style>\n",
       "<table border=\"1\" class=\"dataframe\">\n",
       "  <thead>\n",
       "    <tr style=\"text-align: right;\">\n",
       "      <th></th>\n",
       "      <th>num_purchases</th>\n",
       "      <th>user_total</th>\n",
       "      <th>max_interval</th>\n",
       "      <th>recency</th>\n",
       "    </tr>\n",
       "    <tr>\n",
       "      <th>client_id</th>\n",
       "      <th></th>\n",
       "      <th></th>\n",
       "      <th></th>\n",
       "      <th></th>\n",
       "    </tr>\n",
       "  </thead>\n",
       "  <tbody>\n",
       "    <tr>\n",
       "      <th>1515915625803180506</th>\n",
       "      <td>1</td>\n",
       "      <td>33961</td>\n",
       "      <td>0</td>\n",
       "      <td>0</td>\n",
       "    </tr>\n",
       "    <tr>\n",
       "      <th>1515915625803180756</th>\n",
       "      <td>1</td>\n",
       "      <td>5990</td>\n",
       "      <td>0</td>\n",
       "      <td>0</td>\n",
       "    </tr>\n",
       "    <tr>\n",
       "      <th>1515915625803180771</th>\n",
       "      <td>1</td>\n",
       "      <td>4824</td>\n",
       "      <td>0</td>\n",
       "      <td>0</td>\n",
       "    </tr>\n",
       "  </tbody>\n",
       "</table>\n",
       "</div>"
      ],
      "text/plain": [
       "                     num_purchases  user_total  max_interval  recency\n",
       "client_id                                                            \n",
       "1515915625803180506              1       33961             0        0\n",
       "1515915625803180756              1        5990             0        0\n",
       "1515915625803180771              1        4824             0        0"
      ]
     },
     "metadata": {},
     "output_type": "display_data"
    },
    {
     "data": {
      "text/html": [
       "<div>\n",
       "<style scoped>\n",
       "    .dataframe tbody tr th:only-of-type {\n",
       "        vertical-align: middle;\n",
       "    }\n",
       "\n",
       "    .dataframe tbody tr th {\n",
       "        vertical-align: top;\n",
       "    }\n",
       "\n",
       "    .dataframe thead th {\n",
       "        text-align: right;\n",
       "    }\n",
       "</style>\n",
       "<table border=\"1\" class=\"dataframe\">\n",
       "  <thead>\n",
       "    <tr style=\"text-align: right;\">\n",
       "      <th></th>\n",
       "      <th>num_purchases</th>\n",
       "      <th>user_total</th>\n",
       "      <th>max_interval</th>\n",
       "      <th>recency</th>\n",
       "    </tr>\n",
       "    <tr>\n",
       "      <th>client_id</th>\n",
       "      <th></th>\n",
       "      <th></th>\n",
       "      <th></th>\n",
       "      <th></th>\n",
       "    </tr>\n",
       "  </thead>\n",
       "  <tbody>\n",
       "    <tr>\n",
       "      <th>1515915625440099873</th>\n",
       "      <td>2</td>\n",
       "      <td>33216</td>\n",
       "      <td>24</td>\n",
       "      <td>24</td>\n",
       "    </tr>\n",
       "    <tr>\n",
       "      <th>1515915625440939402</th>\n",
       "      <td>1</td>\n",
       "      <td>75998</td>\n",
       "      <td>0</td>\n",
       "      <td>0</td>\n",
       "    </tr>\n",
       "    <tr>\n",
       "      <th>1515915625440944408</th>\n",
       "      <td>3</td>\n",
       "      <td>81178</td>\n",
       "      <td>62</td>\n",
       "      <td>50</td>\n",
       "    </tr>\n",
       "  </tbody>\n",
       "</table>\n",
       "</div>"
      ],
      "text/plain": [
       "                     num_purchases  user_total  max_interval  recency\n",
       "client_id                                                            \n",
       "1515915625440099873              2       33216            24       24\n",
       "1515915625440939402              1       75998             0        0\n",
       "1515915625440944408              3       81178            62       50"
      ]
     },
     "metadata": {},
     "output_type": "display_data"
    }
   ],
   "source": [
    "# найдем статы клиентов для каждого магазина\n",
    "apparel_stats = get_stats(apparel)\n",
    "gifts_stats = get_stats(gifts)\n",
    "marketplace_stats = get_stats(marketplace)\n",
    "\n",
    "# проверим результат\n",
    "display(\n",
    "    apparel_stats.head(3),\n",
    "    gifts_stats.head(3),\n",
    "    marketplace_stats.head(3)\n",
    ")"
   ]
  },
  {
   "cell_type": "code",
   "execution_count": 19,
   "id": "66997fd1-0f65-4f3e-ac93-06f8fb08312c",
   "metadata": {},
   "outputs": [
    {
     "data": {
      "image/png": "[encoded data removed]",
      "text/plain": [
       "<Figure size 720x360 with 1 Axes>"
      ]
     },
     "metadata": {},
     "output_type": "display_data"
    },
    {
     "data": {
      "image/png": "[encoded data removed]",
      "text/plain": [
       "<Figure size 720x360 with 1 Axes>"
      ]
     },
     "metadata": {},
     "output_type": "display_data"
    }
   ],
   "source": [
    "# проверим распределение количества и суммы заказов в магазине одежды\n",
    "apparel_stats['num_purchases'].hist(bins=50, figsize=(10, 5));\n",
    "plt.title('Распределение количества заказов в магазине одежды')\n",
    "plt.ylabel('Частота')\n",
    "plt.xlabel('Количество заказов клиента')\n",
    "plt.xlim(0, 5)\n",
    "plt.show()\n",
    "\n",
    "apparel_stats['user_total'].hist(bins=700, figsize=(10, 5));\n",
    "plt.title('Распределение стоимости всех заказов клиента в магазине одежды')\n",
    "plt.ylabel('Частота')\n",
    "plt.xlabel('Сумма всех заказов клиента')\n",
    "plt.xlim(0, 35000)\n",
    "plt.show()"
   ]
  },
  {
   "cell_type": "markdown",
   "id": "022a56e8-869d-490e-a70e-9e4566ec33c1",
   "metadata": {},
   "source": [
    "Большая часть клиентов магазина одежды сделала один заказ. Подавляющее большинство клиентов суммарно потратило не более 5000 р."
   ]
  },
  {
   "cell_type": "code",
   "execution_count": 20,
   "id": "eed77317-b9ed-4b39-812f-5618c8300a0f",
   "metadata": {},
   "outputs": [
    {
     "data": {
      "image/png": "[encoded data removed]",
      "text/plain": [
       "<Figure size 720x360 with 1 Axes>"
      ]
     },
     "metadata": {},
     "output_type": "display_data"
    },
    {
     "data": {
      "image/png": "[encoded data removed]",
      "text/plain": [
       "<Figure size 720x360 with 1 Axes>"
      ]
     },
     "metadata": {},
     "output_type": "display_data"
    }
   ],
   "source": [
    "# проверим распределение количества и суммы заказов в магазине подарков\n",
    "gifts_stats['num_purchases'].hist(bins=10, figsize=(10, 5));\n",
    "plt.title('Распределение количества заказов в магазине подарков')\n",
    "plt.ylabel('Частота')\n",
    "plt.xlabel('Количество заказов клиента')\n",
    "plt.xlim(1, 3)\n",
    "plt.show()\n",
    "\n",
    "gifts_stats['user_total'].hist(bins=50, figsize=(10, 5));\n",
    "plt.title('Распределение сумм всех заказов клиентов в магазине подарков')\n",
    "plt.ylabel('Частота')\n",
    "plt.xlabel('Сумма всех заказов клиента')\n",
    "plt.xlim(0, 200000)\n",
    "plt.show()"
   ]
  },
  {
   "cell_type": "markdown",
   "id": "e533f575-b5ba-4f8a-b46a-c17ec0183b0b",
   "metadata": {},
   "source": [
    "Большая часть клиентов магазина подарков тоже сделала один заказ. Подавляющее большинство клиентов суммарно потратило не более 35000 р."
   ]
  },
  {
   "cell_type": "code",
   "execution_count": 21,
   "id": "047fa9fa-1553-4893-8b58-67401f8f4a50",
   "metadata": {},
   "outputs": [
    {
     "data": {
      "image/png": "[encoded data removed]",
      "text/plain": [
       "<Figure size 720x360 with 1 Axes>"
      ]
     },
     "metadata": {},
     "output_type": "display_data"
    },
    {
     "data": {
      "image/png": "[encoded data removed]",
      "text/plain": [
       "<Figure size 720x360 with 1 Axes>"
      ]
     },
     "metadata": {},
     "output_type": "display_data"
    }
   ],
   "source": [
    "# проверим распределение количества и суммы заказов в маркетплейсе\n",
    "marketplace_stats['num_purchases'].hist(bins=50, figsize=(10, 5));\n",
    "plt.title('Распределение количества заказов на маркетплейсе')\n",
    "plt.ylabel('Частота')\n",
    "plt.xlabel('Количество заказов клиента')\n",
    "plt.xlim(0, 8)\n",
    "plt.show()\n",
    "\n",
    "marketplace_stats['user_total'].hist(bins=7000, figsize=(10, 5));\n",
    "plt.title('Распределение сумм всех заказов клиентов на маркетплейсе')\n",
    "plt.ylabel('Частота')\n",
    "plt.xlabel('Сумма всех заказов клиента')\n",
    "plt.xlim(0, 330000)\n",
    "plt.show()"
   ]
  },
  {
   "cell_type": "markdown",
   "id": "caeb5a01-c5da-4457-b978-acb6c4d778eb",
   "metadata": {},
   "source": [
    "Большая часть клиентов маркетплейса тоже сделала один заказ. Подавляющее большинство клиентов суммарно потратило не более 50 000 р. При этом значительное количество клиентов потратило небольшую сумму. Рассмотрим эти данные ближе:"
   ]
  },
  {
   "cell_type": "code",
   "execution_count": 22,
   "id": "00baa95b-4280-4aea-9248-d8d2d9f7b5ab",
   "metadata": {},
   "outputs": [
    {
     "data": {
      "image/png": "[encoded data removed]",
      "text/plain": [
       "<Figure size 720x360 with 1 Axes>"
      ]
     },
     "metadata": {},
     "output_type": "display_data"
    }
   ],
   "source": [
    "marketplace_stats['user_total'].hist(bins=10000, figsize=(10, 5));\n",
    "plt.title('Распределение сумм всех заказов клиентов на маркетплейсе в пределах 20 000 р.')\n",
    "plt.ylabel('Частота')\n",
    "plt.xlabel('Сумма всех заказов клиента')\n",
    "plt.xlim(0, 20000)\n",
    "plt.show()"
   ]
  },
  {
   "cell_type": "markdown",
   "id": "973983f3-90d3-4caa-bb42-dd64b5e3fc51",
   "metadata": {},
   "source": [
    "Довольно много клиентов маркетплейса потратили не более 5000 рублей\n",
    "\n",
    "Во всех трех магазинах подавляющее большинство клиентов совершило по одному заказу. Общие суммы покупок каждого клиента различны во всех магазинах. В магазине одежды клиенты суммарно тратят меньше всего. В магазине подарков и на маркетиплейсе тратят существенно больше.\n",
    "\n",
    "При обработке данных попробуем создать на кластеры клиентов по общей сумме и найти признак по таргету для каждого кластера - это будет доля клиентов, совершивших покупку в целевом периоде. Предположим, что клиенты с более высокой общей суммой чаще оформляют заказы и попадают в целевой период.\n",
    "\n",
    "**Итоги анализа данных:**\n",
    "\n",
    "- Продажи во всех магазинах имеют нормальный характер, с вплесками и падениями в определенные периоды.\n",
    "- Чаще всего клиенты совершают один заказ в магазине.\n",
    "- При обработке данных проверим гипотезу об увеличении доли целевого признака в кластерах клиентов с высокими общими суммами покупок."
   ]
  },
  {
   "cell_type": "markdown",
   "id": "b009116f-0aab-45d7-b39c-5dbada269a82",
   "metadata": {},
   "source": [
    "# Обработка данных"
   ]
  },
  {
   "cell_type": "markdown",
   "id": "2dfc8046-9821-437f-ab69-cca8dcb5e0a2",
   "metadata": {},
   "source": [
    "## Синтез признаков"
   ]
  },
  {
   "cell_type": "markdown",
   "id": "07371b85-7740-4e15-812e-3aedb00912c7",
   "metadata": {},
   "source": [
    "Создадим целевой признак на основе последних 30 дней датасета. Если клиент совершил покупку в этот период, присваиваем ему положительный класс."
   ]
  },
  {
   "cell_type": "code",
   "execution_count": 23,
   "id": "fd8be599-811c-4788-a76f-b57be1d6f95a",
   "metadata": {},
   "outputs": [],
   "source": [
    "def get_target(data, target_period):\n",
    "    df = data.copy()\n",
    "    # найдем порог целевого периода датасета\n",
    "    threshold = df['date'].max() - timedelta(days=target_period)\n",
    "    # найдем клиентов, совершивших покупку в целевой период\n",
    "    target_clients = df[df['date'] > threshold]['client_id'].drop_duplicates().to_frame()\n",
    "    # добавим столбец целевого признака\n",
    "    target_clients['target'] = 1\n",
    "\n",
    "    # уберем целевой период из датасета\n",
    "    df = df[df['date'] <= threshold]\n",
    "\n",
    "    # добавим целевой признак всем клиентам\n",
    "    df = df.merge(target_clients, on=['client_id'], how='left')\n",
    "    df.fillna(0, inplace=True)\n",
    "    df['target'] = df['target'].astype(int)\n",
    "    \n",
    "    return df"
   ]
  },
  {
   "cell_type": "markdown",
   "id": "6970959f-704c-42f1-a749-c43c54214db5",
   "metadata": {},
   "source": [
    "Данные для магазина подарков представляены только до 24 октября 2023, что на два дня меньше чем у маркетплейса и магазина одежды. Но мы обрабатываем отдельно данные каждого магазина, поэтому будет корректно отсечь 30 дней и для магазина подарков тоже:"
   ]
  },
  {
   "cell_type": "code",
   "execution_count": 24,
   "id": "2592a7d5-8954-4a89-96a0-31a8b52535c7",
   "metadata": {},
   "outputs": [
    {
     "data": {
      "text/html": [
       "<div>\n",
       "<style scoped>\n",
       "    .dataframe tbody tr th:only-of-type {\n",
       "        vertical-align: middle;\n",
       "    }\n",
       "\n",
       "    .dataframe tbody tr th {\n",
       "        vertical-align: top;\n",
       "    }\n",
       "\n",
       "    .dataframe thead th {\n",
       "        text-align: right;\n",
       "    }\n",
       "</style>\n",
       "<table border=\"1\" class=\"dataframe\">\n",
       "  <thead>\n",
       "    <tr style=\"text-align: right;\">\n",
       "      <th></th>\n",
       "      <th>client_id</th>\n",
       "      <th>quantity</th>\n",
       "      <th>price</th>\n",
       "      <th>date</th>\n",
       "      <th>target</th>\n",
       "    </tr>\n",
       "  </thead>\n",
       "  <tbody>\n",
       "    <tr>\n",
       "      <th>0</th>\n",
       "      <td>1515915625558655965</td>\n",
       "      <td>1</td>\n",
       "      <td>1150.0</td>\n",
       "      <td>2022-10-26</td>\n",
       "      <td>0</td>\n",
       "    </tr>\n",
       "    <tr>\n",
       "      <th>1</th>\n",
       "      <td>1515915625489888679</td>\n",
       "      <td>1</td>\n",
       "      <td>7.0</td>\n",
       "      <td>2022-10-26</td>\n",
       "      <td>0</td>\n",
       "    </tr>\n",
       "    <tr>\n",
       "      <th>2</th>\n",
       "      <td>1515915625489888679</td>\n",
       "      <td>1</td>\n",
       "      <td>7.0</td>\n",
       "      <td>2022-10-26</td>\n",
       "      <td>0</td>\n",
       "    </tr>\n",
       "  </tbody>\n",
       "</table>\n",
       "</div>"
      ],
      "text/plain": [
       "             client_id  quantity   price       date  target\n",
       "0  1515915625558655965         1  1150.0 2022-10-26       0\n",
       "1  1515915625489888679         1     7.0 2022-10-26       0\n",
       "2  1515915625489888679         1     7.0 2022-10-26       0"
      ]
     },
     "metadata": {},
     "output_type": "display_data"
    },
    {
     "data": {
      "text/plain": [
       "129695"
      ]
     },
     "metadata": {},
     "output_type": "display_data"
    },
    {
     "data": {
      "text/html": [
       "<div>\n",
       "<style scoped>\n",
       "    .dataframe tbody tr th:only-of-type {\n",
       "        vertical-align: middle;\n",
       "    }\n",
       "\n",
       "    .dataframe tbody tr th {\n",
       "        vertical-align: top;\n",
       "    }\n",
       "\n",
       "    .dataframe thead th {\n",
       "        text-align: right;\n",
       "    }\n",
       "</style>\n",
       "<table border=\"1\" class=\"dataframe\">\n",
       "  <thead>\n",
       "    <tr style=\"text-align: right;\">\n",
       "      <th></th>\n",
       "      <th>client_id</th>\n",
       "      <th>quantity</th>\n",
       "      <th>price</th>\n",
       "      <th>date</th>\n",
       "      <th>target</th>\n",
       "    </tr>\n",
       "  </thead>\n",
       "  <tbody>\n",
       "    <tr>\n",
       "      <th>0</th>\n",
       "      <td>1515915625857065470</td>\n",
       "      <td>1</td>\n",
       "      <td>59990.0</td>\n",
       "      <td>2022-10-26</td>\n",
       "      <td>0</td>\n",
       "    </tr>\n",
       "    <tr>\n",
       "      <th>1</th>\n",
       "      <td>1515915625857065470</td>\n",
       "      <td>1</td>\n",
       "      <td>54040.0</td>\n",
       "      <td>2022-10-26</td>\n",
       "      <td>0</td>\n",
       "    </tr>\n",
       "    <tr>\n",
       "      <th>2</th>\n",
       "      <td>1515915625857065470</td>\n",
       "      <td>1</td>\n",
       "      <td>36720.0</td>\n",
       "      <td>2022-10-26</td>\n",
       "      <td>0</td>\n",
       "    </tr>\n",
       "  </tbody>\n",
       "</table>\n",
       "</div>"
      ],
      "text/plain": [
       "             client_id  quantity    price       date  target\n",
       "0  1515915625857065470         1  59990.0 2022-10-26       0\n",
       "1  1515915625857065470         1  54040.0 2022-10-26       0\n",
       "2  1515915625857065470         1  36720.0 2022-10-26       0"
      ]
     },
     "metadata": {},
     "output_type": "display_data"
    },
    {
     "data": {
      "text/plain": [
       "751"
      ]
     },
     "metadata": {},
     "output_type": "display_data"
    },
    {
     "data": {
      "text/html": [
       "<div>\n",
       "<style scoped>\n",
       "    .dataframe tbody tr th:only-of-type {\n",
       "        vertical-align: middle;\n",
       "    }\n",
       "\n",
       "    .dataframe tbody tr th {\n",
       "        vertical-align: top;\n",
       "    }\n",
       "\n",
       "    .dataframe thead th {\n",
       "        text-align: right;\n",
       "    }\n",
       "</style>\n",
       "<table border=\"1\" class=\"dataframe\">\n",
       "  <thead>\n",
       "    <tr style=\"text-align: right;\">\n",
       "      <th></th>\n",
       "      <th>client_id</th>\n",
       "      <th>quantity</th>\n",
       "      <th>price</th>\n",
       "      <th>date</th>\n",
       "      <th>target</th>\n",
       "    </tr>\n",
       "  </thead>\n",
       "  <tbody>\n",
       "    <tr>\n",
       "      <th>0</th>\n",
       "      <td>1515915625562386426</td>\n",
       "      <td>1</td>\n",
       "      <td>10598.0</td>\n",
       "      <td>2022-10-26</td>\n",
       "      <td>0</td>\n",
       "    </tr>\n",
       "    <tr>\n",
       "      <th>1</th>\n",
       "      <td>1515915625519806198</td>\n",
       "      <td>1</td>\n",
       "      <td>2.0</td>\n",
       "      <td>2022-10-27</td>\n",
       "      <td>0</td>\n",
       "    </tr>\n",
       "    <tr>\n",
       "      <th>2</th>\n",
       "      <td>1515915625519806198</td>\n",
       "      <td>1</td>\n",
       "      <td>77996.0</td>\n",
       "      <td>2022-10-27</td>\n",
       "      <td>0</td>\n",
       "    </tr>\n",
       "  </tbody>\n",
       "</table>\n",
       "</div>"
      ],
      "text/plain": [
       "             client_id  quantity    price       date  target\n",
       "0  1515915625562386426         1  10598.0 2022-10-26       0\n",
       "1  1515915625519806198         1      2.0 2022-10-27       0\n",
       "2  1515915625519806198         1  77996.0 2022-10-27       0"
      ]
     },
     "metadata": {},
     "output_type": "display_data"
    },
    {
     "data": {
      "text/plain": [
       "43456"
      ]
     },
     "metadata": {},
     "output_type": "display_data"
    }
   ],
   "source": [
    "# получим целевой признак\n",
    "apparel_targeted = get_target(apparel, 30)\n",
    "gifts_targeted = get_target(gifts, 30)\n",
    "marketplace_targeted = get_target(marketplace, 30)\n",
    "\n",
    "# проверим результат\n",
    "display(\n",
    "    apparel_targeted.head(3),\n",
    "    apparel_targeted.shape[0],\n",
    "    gifts_targeted.head(3),\n",
    "    gifts_targeted.shape[0],\n",
    "    marketplace_targeted.head(3),\n",
    "    marketplace_targeted.shape[0]\n",
    ")"
   ]
  },
  {
   "cell_type": "markdown",
   "id": "2daa9e88-b255-41d6-b0f5-09a47202e8e9",
   "metadata": {},
   "source": [
    "Добавим прочие признаки к датасету:"
   ]
  },
  {
   "cell_type": "code",
   "execution_count": 25,
   "id": "979f0521-c62d-48dc-a739-d19fc2b3939b",
   "metadata": {},
   "outputs": [],
   "source": [
    "def get_features(df_targeted):\n",
    "    # получим и добавим признаки\n",
    "    df = get_stats(df_targeted)\n",
    "    df = df_targeted[['client_id', 'target']].drop_duplicates().merge(df, on=['client_id'], how='left')\n",
    "    return df"
   ]
  },
  {
   "cell_type": "code",
   "execution_count": 26,
   "id": "8f860ed1-05c4-477b-b15f-a26fdaacb14b",
   "metadata": {},
   "outputs": [
    {
     "data": {
      "text/html": [
       "<div>\n",
       "<style scoped>\n",
       "    .dataframe tbody tr th:only-of-type {\n",
       "        vertical-align: middle;\n",
       "    }\n",
       "\n",
       "    .dataframe tbody tr th {\n",
       "        vertical-align: top;\n",
       "    }\n",
       "\n",
       "    .dataframe thead th {\n",
       "        text-align: right;\n",
       "    }\n",
       "</style>\n",
       "<table border=\"1\" class=\"dataframe\">\n",
       "  <thead>\n",
       "    <tr style=\"text-align: right;\">\n",
       "      <th></th>\n",
       "      <th>client_id</th>\n",
       "      <th>target</th>\n",
       "      <th>num_purchases</th>\n",
       "      <th>user_total</th>\n",
       "      <th>max_interval</th>\n",
       "      <th>recency</th>\n",
       "    </tr>\n",
       "  </thead>\n",
       "  <tbody>\n",
       "    <tr>\n",
       "      <th>0</th>\n",
       "      <td>1515915625558655965</td>\n",
       "      <td>0</td>\n",
       "      <td>1</td>\n",
       "      <td>3298</td>\n",
       "      <td>0</td>\n",
       "      <td>0</td>\n",
       "    </tr>\n",
       "    <tr>\n",
       "      <th>1</th>\n",
       "      <td>1515915625489888679</td>\n",
       "      <td>0</td>\n",
       "      <td>1</td>\n",
       "      <td>2213</td>\n",
       "      <td>0</td>\n",
       "      <td>0</td>\n",
       "    </tr>\n",
       "    <tr>\n",
       "      <th>2</th>\n",
       "      <td>1515915625587818098</td>\n",
       "      <td>0</td>\n",
       "      <td>1</td>\n",
       "      <td>17998</td>\n",
       "      <td>0</td>\n",
       "      <td>0</td>\n",
       "    </tr>\n",
       "  </tbody>\n",
       "</table>\n",
       "</div>"
      ],
      "text/plain": [
       "             client_id  target  num_purchases  user_total  max_interval  \\\n",
       "0  1515915625558655965       0              1        3298             0   \n",
       "1  1515915625489888679       0              1        2213             0   \n",
       "2  1515915625587818098       0              1       17998             0   \n",
       "\n",
       "   recency  \n",
       "0        0  \n",
       "1        0  \n",
       "2        0  "
      ]
     },
     "metadata": {},
     "output_type": "display_data"
    },
    {
     "data": {
      "text/plain": [
       "28236"
      ]
     },
     "metadata": {},
     "output_type": "display_data"
    },
    {
     "data": {
      "text/html": [
       "<div>\n",
       "<style scoped>\n",
       "    .dataframe tbody tr th:only-of-type {\n",
       "        vertical-align: middle;\n",
       "    }\n",
       "\n",
       "    .dataframe tbody tr th {\n",
       "        vertical-align: top;\n",
       "    }\n",
       "\n",
       "    .dataframe thead th {\n",
       "        text-align: right;\n",
       "    }\n",
       "</style>\n",
       "<table border=\"1\" class=\"dataframe\">\n",
       "  <thead>\n",
       "    <tr style=\"text-align: right;\">\n",
       "      <th></th>\n",
       "      <th>client_id</th>\n",
       "      <th>target</th>\n",
       "      <th>num_purchases</th>\n",
       "      <th>user_total</th>\n",
       "      <th>max_interval</th>\n",
       "      <th>recency</th>\n",
       "    </tr>\n",
       "  </thead>\n",
       "  <tbody>\n",
       "    <tr>\n",
       "      <th>0</th>\n",
       "      <td>1515915625857065470</td>\n",
       "      <td>0</td>\n",
       "      <td>1</td>\n",
       "      <td>174768</td>\n",
       "      <td>0</td>\n",
       "      <td>0</td>\n",
       "    </tr>\n",
       "    <tr>\n",
       "      <th>1</th>\n",
       "      <td>1515915625842031428</td>\n",
       "      <td>0</td>\n",
       "      <td>1</td>\n",
       "      <td>4821</td>\n",
       "      <td>0</td>\n",
       "      <td>0</td>\n",
       "    </tr>\n",
       "    <tr>\n",
       "      <th>2</th>\n",
       "      <td>1515915625835005143</td>\n",
       "      <td>0</td>\n",
       "      <td>1</td>\n",
       "      <td>70200</td>\n",
       "      <td>0</td>\n",
       "      <td>0</td>\n",
       "    </tr>\n",
       "  </tbody>\n",
       "</table>\n",
       "</div>"
      ],
      "text/plain": [
       "             client_id  target  num_purchases  user_total  max_interval  \\\n",
       "0  1515915625857065470       0              1      174768             0   \n",
       "1  1515915625842031428       0              1        4821             0   \n",
       "2  1515915625835005143       0              1       70200             0   \n",
       "\n",
       "   recency  \n",
       "0        0  \n",
       "1        0  \n",
       "2        0  "
      ]
     },
     "metadata": {},
     "output_type": "display_data"
    },
    {
     "data": {
      "text/plain": [
       "308"
      ]
     },
     "metadata": {},
     "output_type": "display_data"
    },
    {
     "data": {
      "text/html": [
       "<div>\n",
       "<style scoped>\n",
       "    .dataframe tbody tr th:only-of-type {\n",
       "        vertical-align: middle;\n",
       "    }\n",
       "\n",
       "    .dataframe tbody tr th {\n",
       "        vertical-align: top;\n",
       "    }\n",
       "\n",
       "    .dataframe thead th {\n",
       "        text-align: right;\n",
       "    }\n",
       "</style>\n",
       "<table border=\"1\" class=\"dataframe\">\n",
       "  <thead>\n",
       "    <tr style=\"text-align: right;\">\n",
       "      <th></th>\n",
       "      <th>client_id</th>\n",
       "      <th>target</th>\n",
       "      <th>num_purchases</th>\n",
       "      <th>user_total</th>\n",
       "      <th>max_interval</th>\n",
       "      <th>recency</th>\n",
       "    </tr>\n",
       "  </thead>\n",
       "  <tbody>\n",
       "    <tr>\n",
       "      <th>0</th>\n",
       "      <td>1515915625562386426</td>\n",
       "      <td>0</td>\n",
       "      <td>1</td>\n",
       "      <td>10598</td>\n",
       "      <td>0</td>\n",
       "      <td>0</td>\n",
       "    </tr>\n",
       "    <tr>\n",
       "      <th>1</th>\n",
       "      <td>1515915625519806198</td>\n",
       "      <td>0</td>\n",
       "      <td>1</td>\n",
       "      <td>461985</td>\n",
       "      <td>0</td>\n",
       "      <td>0</td>\n",
       "    </tr>\n",
       "    <tr>\n",
       "      <th>2</th>\n",
       "      <td>1515915625561420490</td>\n",
       "      <td>0</td>\n",
       "      <td>1</td>\n",
       "      <td>11</td>\n",
       "      <td>0</td>\n",
       "      <td>0</td>\n",
       "    </tr>\n",
       "  </tbody>\n",
       "</table>\n",
       "</div>"
      ],
      "text/plain": [
       "             client_id  target  num_purchases  user_total  max_interval  \\\n",
       "0  1515915625562386426       0              1       10598             0   \n",
       "1  1515915625519806198       0              1      461985             0   \n",
       "2  1515915625561420490       0              1          11             0   \n",
       "\n",
       "   recency  \n",
       "0        0  \n",
       "1        0  \n",
       "2        0  "
      ]
     },
     "metadata": {},
     "output_type": "display_data"
    },
    {
     "data": {
      "text/plain": [
       "16149"
      ]
     },
     "metadata": {},
     "output_type": "display_data"
    }
   ],
   "source": [
    "# добавим признаки по каждому магазину\n",
    "apparel_featured = get_features(apparel_targeted)\n",
    "gifts_featured = get_features(gifts_targeted)\n",
    "marketplace_featured = get_features(marketplace_targeted)\n",
    "\n",
    "# проверим результат\n",
    "display(\n",
    "    apparel_featured.head(3),\n",
    "    apparel_featured.shape[0],\n",
    "    gifts_featured.head(3),\n",
    "    gifts_featured.shape[0],\n",
    "    marketplace_featured.head(3),\n",
    "    marketplace_featured.shape[0]\n",
    ")"
   ]
  },
  {
   "cell_type": "markdown",
   "id": "4c17a711-30ef-481e-8a0b-b028801c2044",
   "metadata": {},
   "source": [
    "## Корреляционный анализ признаков"
   ]
  },
  {
   "cell_type": "markdown",
   "id": "40cd7e21-1be3-4353-96e8-440343f9fb53",
   "metadata": {},
   "source": [
    "Визуализируем фи-матрицу корреляции признаков:"
   ]
  },
  {
   "cell_type": "code",
   "execution_count": 27,
   "id": "333e936f-4ead-4f6a-bc42-c89457ae4ab1",
   "metadata": {},
   "outputs": [],
   "source": [
    "def get_correlation_plot(df, interval_cols):\n",
    "    # создадим матрицу фи-коэффициентов\n",
    "    # передадим методу список численных признаков\n",
    "    phik_matrix = df.phik_matrix(interval_cols=interval_cols)\n",
    "    \n",
    "    # визуализируем матрицу фи-коэффициентов\n",
    "    plot_correlation_matrix(\n",
    "        phik_matrix.values,\n",
    "        x_labels=phik_matrix.columns,\n",
    "        y_labels=phik_matrix.index,\n",
    "        vmin=0,\n",
    "        vmax=1,\n",
    "        color_map='Greens',\n",
    "        title=r'$\\phi_K$ корреляция признаков',\n",
    "        fontsize_factor=1.2,\n",
    "        figsize=(10, 7))\n",
    "    plt.xticks(rotation=0)\n",
    "    plt.tight_layout()"
   ]
  },
  {
   "cell_type": "code",
   "execution_count": 28,
   "id": "31739632-dc29-4461-b3b2-d706e0a59a3a",
   "metadata": {},
   "outputs": [
    {
     "data": {
      "text/plain": [
       "['num_purchases', 'user_total', 'max_interval', 'recency']"
      ]
     },
     "metadata": {},
     "output_type": "display_data"
    },
    {
     "data": {
      "image/png": "[encoded data removed]",
      "text/plain": [
       "<Figure size 720x504 with 2 Axes>"
      ]
     },
     "metadata": {},
     "output_type": "display_data"
    },
    {
     "data": {
      "image/png": "[encoded data removed]",
      "text/plain": [
       "<Figure size 720x504 with 2 Axes>"
      ]
     },
     "metadata": {},
     "output_type": "display_data"
    },
    {
     "data": {
      "image/png": "[encoded data removed]",
      "text/plain": [
       "<Figure size 720x504 with 2 Axes>"
      ]
     },
     "metadata": {},
     "output_type": "display_data"
    }
   ],
   "source": [
    "# создадим список численных признаков для матрицы\n",
    "interval_cols = list(apparel_featured.drop(['client_id', 'target'], axis=1).columns)\n",
    "# проверим список\n",
    "display(interval_cols)\n",
    "\n",
    "# создадим матрицу для каждого магазина\n",
    "get_correlation_plot(apparel_featured.drop(['client_id'], axis=1), interval_cols)\n",
    "get_correlation_plot(gifts_featured.drop(['client_id'], axis=1), interval_cols)\n",
    "get_correlation_plot(marketplace_featured.drop(['client_id'], axis=1), interval_cols)"
   ]
  },
  {
   "cell_type": "markdown",
   "id": "4c272424-5c79-48ad-af87-6580a000e338",
   "metadata": {},
   "source": [
    "**Анализ корреляции:**\n",
    "\n",
    "- Сильнейшую корреляцию показал максимальный интервал между заказами и давность последней сделки клиента. Эти признаки не тождественны, но могут совпадать, особенно если заказов не очень много.\n",
    "- Общая сумма покупок и количество заказов заметно коррелируют, но это естественно: чем больше заказов клиент совершил, тем выше накопленная общая стоимость заказов.\n",
    "- Многие признаки в датасете магазина подарков сильно коррелируют. Дело в том, что данных из этого магазина очень мало - лишь несколько сотен строк.\n",
    "- Сильнее всего с целевым признаком коррелируют максимальный интервал между заказами и количество заказов."
   ]
  },
  {
   "cell_type": "markdown",
   "id": "a1b81903-231f-4fa0-a8d3-453d423ae5bf",
   "metadata": {},
   "source": [
    "## Разделение на выборки"
   ]
  },
  {
   "cell_type": "markdown",
   "id": "d81c1e81-7663-47a7-b068-85e34d912e98",
   "metadata": {},
   "source": [
    "Сформируем выборки по каждому магазину отдельно. Так мы обеспечим нужную пропорцию разделения для магазина подарков, где данных крайне мало:"
   ]
  },
  {
   "cell_type": "code",
   "execution_count": 29,
   "id": "6bee65a8-38d4-4346-8d0c-4f8ef33866aa",
   "metadata": {},
   "outputs": [
    {
     "data": {
      "text/plain": [
       "(22588, 5)"
      ]
     },
     "metadata": {},
     "output_type": "display_data"
    },
    {
     "data": {
      "text/plain": [
       "(5648, 5)"
      ]
     },
     "metadata": {},
     "output_type": "display_data"
    },
    {
     "data": {
      "text/plain": [
       "(22588,)"
      ]
     },
     "metadata": {},
     "output_type": "display_data"
    },
    {
     "data": {
      "text/plain": [
       "(5648,)"
      ]
     },
     "metadata": {},
     "output_type": "display_data"
    }
   ],
   "source": [
    "# сформируем выборки по магазину одежды\n",
    "apparel_X_train, apparel_X_test, apparel_y_train, apparel_y_test = train_test_split(\n",
    "    apparel_featured.drop(['target'], axis=1), \n",
    "    apparel_featured['target'],\n",
    "    train_size=.8, \n",
    "    random_state=RS\n",
    ")\n",
    "\n",
    "# проверим результат\n",
    "display(   \n",
    "    apparel_X_train.shape,\n",
    "    apparel_X_test.shape,\n",
    "    apparel_y_train.shape,\n",
    "    apparel_y_test.shape\n",
    ")"
   ]
  },
  {
   "cell_type": "markdown",
   "id": "d7242ca8-1757-4a3a-a211-00179d7b5c64",
   "metadata": {},
   "source": [
    "Данных магазина подарков очень мало. Чтобы оба класса попали в тестовую выборку, увеличим ее долю."
   ]
  },
  {
   "cell_type": "code",
   "execution_count": 30,
   "id": "a3d9bccf-3ead-404e-b048-0eb782549414",
   "metadata": {},
   "outputs": [
    {
     "data": {
      "text/plain": [
       "(215, 5)"
      ]
     },
     "metadata": {},
     "output_type": "display_data"
    },
    {
     "data": {
      "text/plain": [
       "(93, 5)"
      ]
     },
     "metadata": {},
     "output_type": "display_data"
    },
    {
     "data": {
      "text/plain": [
       "(215,)"
      ]
     },
     "metadata": {},
     "output_type": "display_data"
    },
    {
     "data": {
      "text/plain": [
       "(93,)"
      ]
     },
     "metadata": {},
     "output_type": "display_data"
    }
   ],
   "source": [
    "# сформируем выборки по магазину подарков\n",
    "gifts_X_train, gifts_X_test, gifts_y_train, gifts_y_test = train_test_split(\n",
    "    gifts_featured.drop(['target'], axis=1), \n",
    "    gifts_featured['target'],\n",
    "    train_size=.7, \n",
    "    random_state=RS\n",
    ")\n",
    "\n",
    "# проверим результат\n",
    "display(   \n",
    "    gifts_X_train.shape,\n",
    "    gifts_X_test.shape,\n",
    "    gifts_y_train.shape,\n",
    "    gifts_y_test.shape\n",
    ")"
   ]
  },
  {
   "cell_type": "code",
   "execution_count": 31,
   "id": "0d329875-f8a9-4d77-983a-698a03954727",
   "metadata": {},
   "outputs": [
    {
     "data": {
      "text/plain": [
       "(12919, 5)"
      ]
     },
     "metadata": {},
     "output_type": "display_data"
    },
    {
     "data": {
      "text/plain": [
       "(3230, 5)"
      ]
     },
     "metadata": {},
     "output_type": "display_data"
    },
    {
     "data": {
      "text/plain": [
       "(12919,)"
      ]
     },
     "metadata": {},
     "output_type": "display_data"
    },
    {
     "data": {
      "text/plain": [
       "(3230,)"
      ]
     },
     "metadata": {},
     "output_type": "display_data"
    }
   ],
   "source": [
    "# сформируем выборки по маркетплейсу\n",
    "marketplace_X_train, marketplace_X_test, marketplace_y_train, marketplace_y_test = train_test_split(\n",
    "    marketplace_featured.drop(['target'], axis=1), \n",
    "    marketplace_featured['target'],\n",
    "    train_size=.8, \n",
    "    random_state=RS\n",
    ")\n",
    "\n",
    "# проверим результат\n",
    "display(   \n",
    "    marketplace_X_train.shape,\n",
    "    marketplace_X_test.shape,\n",
    "    marketplace_y_train.shape,\n",
    "    marketplace_y_test.shape\n",
    ")"
   ]
  },
  {
   "cell_type": "code",
   "execution_count": 32,
   "id": "c0673e20-f668-4742-970f-1bc1244878ee",
   "metadata": {},
   "outputs": [
    {
     "data": {
      "text/plain": [
       "0    22459\n",
       "1      129\n",
       "Name: target, dtype: int64"
      ]
     },
     "metadata": {},
     "output_type": "display_data"
    },
    {
     "data": {
      "text/plain": [
       "0    5619\n",
       "1      29\n",
       "Name: target, dtype: int64"
      ]
     },
     "metadata": {},
     "output_type": "display_data"
    },
    {
     "data": {
      "text/plain": [
       "0    212\n",
       "1      3\n",
       "Name: target, dtype: int64"
      ]
     },
     "metadata": {},
     "output_type": "display_data"
    },
    {
     "data": {
      "text/plain": [
       "0    92\n",
       "1     1\n",
       "Name: target, dtype: int64"
      ]
     },
     "metadata": {},
     "output_type": "display_data"
    },
    {
     "data": {
      "text/plain": [
       "0    12519\n",
       "1      400\n",
       "Name: target, dtype: int64"
      ]
     },
     "metadata": {},
     "output_type": "display_data"
    },
    {
     "data": {
      "text/plain": [
       "0    3139\n",
       "1      91\n",
       "Name: target, dtype: int64"
      ]
     },
     "metadata": {},
     "output_type": "display_data"
    }
   ],
   "source": [
    "# проверим дисбаланс целевого признака для каждого магазина\n",
    "display(\n",
    "    apparel_y_train.value_counts(),\n",
    "    apparel_y_test.value_counts(),\n",
    "    gifts_y_train.value_counts(),\n",
    "    gifts_y_test.value_counts(),\n",
    "    marketplace_y_train.value_counts(),\n",
    "    marketplace_y_test.value_counts(),\n",
    ")"
   ]
  },
  {
   "cell_type": "markdown",
   "id": "a259efce-9fe4-49be-8ce1-11a365ed554a",
   "metadata": {},
   "source": [
    "У всех магазинов ярко выраженный дисбаланс классов. Клиентов, совершивших покупку в целевом периоде крайне мало."
   ]
  },
  {
   "cell_type": "markdown",
   "id": "6c3d6ebd-e9fd-44ce-9c69-7b71ee69e7b5",
   "metadata": {},
   "source": [
    "## Обработка дисбаланса"
   ]
  },
  {
   "cell_type": "markdown",
   "id": "9c910e3f-70f9-48fd-9cb0-dd1df40fcff5",
   "metadata": {},
   "source": [
    "Данных у нас мало, поэтому целесообразно использовать upsampling. Синтезируем новые данные при помощи SMOTE."
   ]
  },
  {
   "cell_type": "code",
   "execution_count": 33,
   "id": "c30d65c9-d95c-4f4e-8705-20f295229b41",
   "metadata": {},
   "outputs": [],
   "source": [
    "def get_upsample(X_train, y_train, k_neighbors, random_state):\n",
    "    # настроим синтезатор\n",
    "    upsampler = SMOTE(random_state=random_state, k_neighbors=k_neighbors)\n",
    "    \n",
    "    # сбалансируем тренировочную выборку\n",
    "    X_train_up, y_train_up = upsampler.fit_resample(X_train, y_train)\n",
    "\n",
    "    return X_train_up, y_train_up"
   ]
  },
  {
   "cell_type": "code",
   "execution_count": 34,
   "id": "eee440f5-67b9-4b6c-8f46-3c1403fc849c",
   "metadata": {},
   "outputs": [
    {
     "data": {
      "text/plain": [
       "(44918, 5)"
      ]
     },
     "metadata": {},
     "output_type": "display_data"
    },
    {
     "data": {
      "text/plain": [
       "0    22459\n",
       "1    22459\n",
       "Name: target, dtype: int64"
      ]
     },
     "metadata": {},
     "output_type": "display_data"
    },
    {
     "data": {
      "text/plain": [
       "(424, 5)"
      ]
     },
     "metadata": {},
     "output_type": "display_data"
    },
    {
     "data": {
      "text/plain": [
       "0    212\n",
       "1    212\n",
       "Name: target, dtype: int64"
      ]
     },
     "metadata": {},
     "output_type": "display_data"
    },
    {
     "data": {
      "text/plain": [
       "(25038, 5)"
      ]
     },
     "metadata": {},
     "output_type": "display_data"
    },
    {
     "data": {
      "text/plain": [
       "0    12519\n",
       "1    12519\n",
       "Name: target, dtype: int64"
      ]
     },
     "metadata": {},
     "output_type": "display_data"
    }
   ],
   "source": [
    "# сбалансируем тренировочную выборку\n",
    "apparel_X_train_up, apparel_y_train_up = get_upsample(apparel_X_train, apparel_y_train, 5, RS)\n",
    "gifts_X_train_up, gifts_y_train_up = get_upsample(gifts_X_train, gifts_y_train, 2, RS)  # снизим число соседей для магазина подарков, так как данных коайне мало\n",
    "marketplace_X_train_up, marketplace_y_train_up = get_upsample(marketplace_X_train, marketplace_y_train, 5, RS)\n",
    "\n",
    "# проверим результат\n",
    "display(\n",
    "    apparel_X_train_up.shape,\n",
    "    apparel_y_train_up.value_counts(),\n",
    "    gifts_X_train_up.shape,\n",
    "    gifts_y_train_up.value_counts(),\n",
    "    marketplace_X_train_up.shape,\n",
    "    marketplace_y_train_up.value_counts()\n",
    ")"
   ]
  },
  {
   "cell_type": "markdown",
   "id": "5195a50e-bf1c-4839-998c-273f3ba8a006",
   "metadata": {},
   "source": [
    "## Кластеризация клиентов по общей сумме покупок"
   ]
  },
  {
   "cell_type": "markdown",
   "id": "c5fa9325-feaa-4a88-b430-1b7dd5826702",
   "metadata": {},
   "source": [
    "Проверим нашу гипотезу о высокой доли целевого признака у клиентов с большими общими суммами покупок."
   ]
  },
  {
   "cell_type": "code",
   "execution_count": 35,
   "id": "c665f41e-1ff9-4087-a676-4c691004b34f",
   "metadata": {},
   "outputs": [],
   "source": [
    "def check_cluster_target(df_featured, cluster_threshold):\n",
    "    df = df_featured.copy()\n",
    "    # найдем признак кластера с высокой общей суммой покупок\n",
    "    df['total_cluster'] = np.where(df['user_total'] > cluster_threshold, 1, 0)\n",
    "    \n",
    "    print(\n",
    "        f'Доля клиентов, входящих в кластер с общей суммой покупок больше {cluster_threshold}: ', \n",
    "        round(len(df[df['total_cluster'] == 1]) / len(df), 5)\n",
    "    )\n",
    "    print(\n",
    "        f'Доля клиентов из кластера с общей суммой покупок больше {cluster_threshold}, совершивших целевую покупку: ', \n",
    "        round(df[df['total_cluster'] == 1]['target'].mean(), 5)\n",
    "    )\n",
    "    print(\n",
    "        f'Доля клиентов из кластера с общей суммой покупок меньше {cluster_threshold}, совершивших целевую покупку: ', \n",
    "        round(df[df['total_cluster'] == 0]['target'].mean(), 5)\n",
    "    )\n",
    "    print(\n",
    "        'Доля всех клиентов, совершивших целевую покупку: ', \n",
    "        round(df['target'].mean(), 5)\n",
    "    )"
   ]
  },
  {
   "cell_type": "code",
   "execution_count": 36,
   "id": "edbd7bdb-5eb4-4680-9667-08dd6eac8540",
   "metadata": {},
   "outputs": [
    {
     "name": "stdout",
     "output_type": "stream",
     "text": [
      "Доля клиентов, входящих в кластер с общей суммой покупок больше 6000:  0.24865\n",
      "Доля клиентов из кластера с общей суммой покупок больше 6000, совершивших целевую покупку:  0.00826\n",
      "Доля клиентов из кластера с общей суммой покупок меньше 6000, совершивших целевую покупку:  0.00471\n",
      "Доля всех клиентов, совершивших целевую покупку:  0.0056\n"
     ]
    }
   ],
   "source": [
    "# проверим гипотезу для магазина одежды\n",
    "check_cluster_target(apparel_featured, 6000)"
   ]
  },
  {
   "cell_type": "markdown",
   "id": "49f56e77-ca94-49ae-bc04-16b786d6b5ed",
   "metadata": {},
   "source": [
    "Клиенты из кластера с высокой суммой покупок составляют примерно четверть от общего количества клиентов. Они совершают целевую покупку приблизительно в два раза чаще прочих."
   ]
  },
  {
   "cell_type": "code",
   "execution_count": 37,
   "id": "d2d21c59-eaf0-41bb-a862-5bb9867d4bf9",
   "metadata": {},
   "outputs": [
    {
     "name": "stdout",
     "output_type": "stream",
     "text": [
      "Доля клиентов, входящих в кластер с общей суммой покупок больше 35000:  0.24351\n",
      "Доля клиентов из кластера с общей суммой покупок больше 35000, совершивших целевую покупку:  0.04\n",
      "Доля клиентов из кластера с общей суммой покупок меньше 35000, совершивших целевую покупку:  0.00429\n",
      "Доля всех клиентов, совершивших целевую покупку:  0.01299\n"
     ]
    }
   ],
   "source": [
    "# проверим гипотезу для магазина подарков\n",
    "check_cluster_target(gifts_featured, 35000)"
   ]
  },
  {
   "cell_type": "markdown",
   "id": "c67be06e-01d4-4302-9c7b-e9ef1b6b0c45",
   "metadata": {},
   "source": [
    "Клиенты из кластера с высокой суммой покупок составляют примерно четверть от общего количества клиентов. Они совершают целевую покупку приблизительно в десять раз чаще прочих."
   ]
  },
  {
   "cell_type": "code",
   "execution_count": 38,
   "id": "9db1253e-8730-49b2-84fc-6dae0182ec89",
   "metadata": {},
   "outputs": [
    {
     "name": "stdout",
     "output_type": "stream",
     "text": [
      "Доля клиентов, входящих в кластер с общей суммой покупок больше 90000:  0.25296\n",
      "Доля клиентов из кластера с общей суммой покупок больше 90000, совершивших целевую покупку:  0.04137\n",
      "Доля клиентов из кластера с общей суммой покупок меньше 90000, совершивших целевую покупку:  0.02669\n",
      "Доля всех клиентов, совершивших целевую покупку:  0.0304\n"
     ]
    }
   ],
   "source": [
    "# проверим гипотезу для маркетплейса\n",
    "check_cluster_target(marketplace_featured, 90000)"
   ]
  },
  {
   "cell_type": "markdown",
   "id": "67dcc80e-822e-42c1-8edc-cf76645b50a6",
   "metadata": {},
   "source": [
    "Клиенты из кластера с высокой суммой покупок составляют примерно четверть от общего количества клиентов. Они совершают целевую покупку приблизительно в два раза чаще прочих. Наша гипотеза подтвердилась для всех магазинов - используем эти данные для создания признака."
   ]
  },
  {
   "cell_type": "code",
   "execution_count": 39,
   "id": "6e9133d6-ca1d-4e79-b9bd-a193bb39b8e6",
   "metadata": {},
   "outputs": [],
   "source": [
    "def get_target_feature(X_train, X_test, cluster_threshold, return_train=False):\n",
    "    train = X_train.copy()\n",
    "    test = X_test.copy()\n",
    "    # найдем признак кластера с высокой общей суммой покупок\n",
    "    train['total_cluster'] = np.where(train['user_total'] > cluster_threshold, 1, 0)\n",
    "    \n",
    "    # найдем средний таргет для кластеров\n",
    "    mean_target_1_cluster = len(train[train['total_cluster'] == 1]) / len(train)\n",
    "    mean_target_0_cluster = len(train[train['total_cluster'] == 0]) / len(train)\n",
    "    train['mean_cluster_target'] = np.where(train['total_cluster'] == 1, mean_target_1_cluster, mean_target_0_cluster)\n",
    "\n",
    "    # добавим средний таргет для тестовой выборки\n",
    "    test['total_cluster'] = np.where(test['user_total'] > cluster_threshold, 1, 0)\n",
    "    test['mean_cluster_target'] = np.where(test['total_cluster'] == 1, mean_target_1_cluster, mean_target_0_cluster)\n",
    "\n",
    "    # уберем ненужный столбец\n",
    "    train.drop(['total_cluster'], axis=1, inplace=True)\n",
    "    test.drop(['total_cluster'], axis=1, inplace=True)\n",
    "\n",
    "    # вернем нужные выборки в зависимости от условий\n",
    "    if return_train:\n",
    "        return train, test\n",
    "    return test"
   ]
  },
  {
   "cell_type": "markdown",
   "id": "bf4bb6c0-bc3f-472f-acc1-e38807d32a6b",
   "metadata": {},
   "source": [
    "Создадим признак кластера по таргету на основе выборки до балансировки. Так мы избежим создания признака на искусственных данных. Добавим значение признака к тестовой выборке и к сбалансированной тренировочной выборке:"
   ]
  },
  {
   "cell_type": "code",
   "execution_count": 40,
   "id": "d2af7026-4857-43d4-8ab1-695479c0f3f1",
   "metadata": {},
   "outputs": [
    {
     "data": {
      "text/html": [
       "<div>\n",
       "<style scoped>\n",
       "    .dataframe tbody tr th:only-of-type {\n",
       "        vertical-align: middle;\n",
       "    }\n",
       "\n",
       "    .dataframe tbody tr th {\n",
       "        vertical-align: top;\n",
       "    }\n",
       "\n",
       "    .dataframe thead th {\n",
       "        text-align: right;\n",
       "    }\n",
       "</style>\n",
       "<table border=\"1\" class=\"dataframe\">\n",
       "  <thead>\n",
       "    <tr style=\"text-align: right;\">\n",
       "      <th></th>\n",
       "      <th>client_id</th>\n",
       "      <th>num_purchases</th>\n",
       "      <th>user_total</th>\n",
       "      <th>max_interval</th>\n",
       "      <th>recency</th>\n",
       "      <th>mean_cluster_target</th>\n",
       "    </tr>\n",
       "  </thead>\n",
       "  <tbody>\n",
       "    <tr>\n",
       "      <th>0</th>\n",
       "      <td>1515915625703361475</td>\n",
       "      <td>1</td>\n",
       "      <td>3998</td>\n",
       "      <td>0</td>\n",
       "      <td>0</td>\n",
       "      <td>0.750177</td>\n",
       "    </tr>\n",
       "  </tbody>\n",
       "</table>\n",
       "</div>"
      ],
      "text/plain": [
       "             client_id  num_purchases  user_total  max_interval  recency  \\\n",
       "0  1515915625703361475              1        3998             0        0   \n",
       "\n",
       "   mean_cluster_target  \n",
       "0             0.750177  "
      ]
     },
     "metadata": {},
     "output_type": "display_data"
    },
    {
     "data": {
      "text/plain": [
       "0.750177    30093\n",
       "0.249823    14825\n",
       "Name: mean_cluster_target, dtype: int64"
      ]
     },
     "metadata": {},
     "output_type": "display_data"
    },
    {
     "data": {
      "text/html": [
       "<div>\n",
       "<style scoped>\n",
       "    .dataframe tbody tr th:only-of-type {\n",
       "        vertical-align: middle;\n",
       "    }\n",
       "\n",
       "    .dataframe tbody tr th {\n",
       "        vertical-align: top;\n",
       "    }\n",
       "\n",
       "    .dataframe thead th {\n",
       "        text-align: right;\n",
       "    }\n",
       "</style>\n",
       "<table border=\"1\" class=\"dataframe\">\n",
       "  <thead>\n",
       "    <tr style=\"text-align: right;\">\n",
       "      <th></th>\n",
       "      <th>client_id</th>\n",
       "      <th>num_purchases</th>\n",
       "      <th>user_total</th>\n",
       "      <th>max_interval</th>\n",
       "      <th>recency</th>\n",
       "      <th>mean_cluster_target</th>\n",
       "    </tr>\n",
       "  </thead>\n",
       "  <tbody>\n",
       "    <tr>\n",
       "      <th>3825</th>\n",
       "      <td>1515915625468267083</td>\n",
       "      <td>1</td>\n",
       "      <td>330</td>\n",
       "      <td>0</td>\n",
       "      <td>0</td>\n",
       "      <td>0.750177</td>\n",
       "    </tr>\n",
       "  </tbody>\n",
       "</table>\n",
       "</div>"
      ],
      "text/plain": [
       "                client_id  num_purchases  user_total  max_interval  recency  \\\n",
       "3825  1515915625468267083              1         330             0        0   \n",
       "\n",
       "      mean_cluster_target  \n",
       "3825             0.750177  "
      ]
     },
     "metadata": {},
     "output_type": "display_data"
    },
    {
     "data": {
      "text/plain": [
       "0.750177    4270\n",
       "0.249823    1378\n",
       "Name: mean_cluster_target, dtype: int64"
      ]
     },
     "metadata": {},
     "output_type": "display_data"
    },
    {
     "data": {
      "text/html": [
       "<div>\n",
       "<style scoped>\n",
       "    .dataframe tbody tr th:only-of-type {\n",
       "        vertical-align: middle;\n",
       "    }\n",
       "\n",
       "    .dataframe tbody tr th {\n",
       "        vertical-align: top;\n",
       "    }\n",
       "\n",
       "    .dataframe thead th {\n",
       "        text-align: right;\n",
       "    }\n",
       "</style>\n",
       "<table border=\"1\" class=\"dataframe\">\n",
       "  <thead>\n",
       "    <tr style=\"text-align: right;\">\n",
       "      <th></th>\n",
       "      <th>client_id</th>\n",
       "      <th>num_purchases</th>\n",
       "      <th>user_total</th>\n",
       "      <th>max_interval</th>\n",
       "      <th>recency</th>\n",
       "      <th>mean_cluster_target</th>\n",
       "    </tr>\n",
       "  </thead>\n",
       "  <tbody>\n",
       "    <tr>\n",
       "      <th>0</th>\n",
       "      <td>1515915625897493329</td>\n",
       "      <td>1</td>\n",
       "      <td>8125</td>\n",
       "      <td>0</td>\n",
       "      <td>0</td>\n",
       "      <td>0.772093</td>\n",
       "    </tr>\n",
       "  </tbody>\n",
       "</table>\n",
       "</div>"
      ],
      "text/plain": [
       "             client_id  num_purchases  user_total  max_interval  recency  \\\n",
       "0  1515915625897493329              1        8125             0        0   \n",
       "\n",
       "   mean_cluster_target  \n",
       "0             0.772093  "
      ]
     },
     "metadata": {},
     "output_type": "display_data"
    },
    {
     "data": {
      "text/plain": [
       "0.772093    257\n",
       "0.227907    167\n",
       "Name: mean_cluster_target, dtype: int64"
      ]
     },
     "metadata": {},
     "output_type": "display_data"
    },
    {
     "data": {
      "text/html": [
       "<div>\n",
       "<style scoped>\n",
       "    .dataframe tbody tr th:only-of-type {\n",
       "        vertical-align: middle;\n",
       "    }\n",
       "\n",
       "    .dataframe tbody tr th {\n",
       "        vertical-align: top;\n",
       "    }\n",
       "\n",
       "    .dataframe thead th {\n",
       "        text-align: right;\n",
       "    }\n",
       "</style>\n",
       "<table border=\"1\" class=\"dataframe\">\n",
       "  <thead>\n",
       "    <tr style=\"text-align: right;\">\n",
       "      <th></th>\n",
       "      <th>client_id</th>\n",
       "      <th>num_purchases</th>\n",
       "      <th>user_total</th>\n",
       "      <th>max_interval</th>\n",
       "      <th>recency</th>\n",
       "      <th>mean_cluster_target</th>\n",
       "    </tr>\n",
       "  </thead>\n",
       "  <tbody>\n",
       "    <tr>\n",
       "      <th>235</th>\n",
       "      <td>1515915625951763240</td>\n",
       "      <td>2</td>\n",
       "      <td>9263</td>\n",
       "      <td>39</td>\n",
       "      <td>39</td>\n",
       "      <td>0.772093</td>\n",
       "    </tr>\n",
       "  </tbody>\n",
       "</table>\n",
       "</div>"
      ],
      "text/plain": [
       "               client_id  num_purchases  user_total  max_interval  recency  \\\n",
       "235  1515915625951763240              2        9263            39       39   \n",
       "\n",
       "     mean_cluster_target  \n",
       "235             0.772093  "
      ]
     },
     "metadata": {},
     "output_type": "display_data"
    },
    {
     "data": {
      "text/plain": [
       "0.772093    67\n",
       "0.227907    26\n",
       "Name: mean_cluster_target, dtype: int64"
      ]
     },
     "metadata": {},
     "output_type": "display_data"
    },
    {
     "data": {
      "text/html": [
       "<div>\n",
       "<style scoped>\n",
       "    .dataframe tbody tr th:only-of-type {\n",
       "        vertical-align: middle;\n",
       "    }\n",
       "\n",
       "    .dataframe tbody tr th {\n",
       "        vertical-align: top;\n",
       "    }\n",
       "\n",
       "    .dataframe thead th {\n",
       "        text-align: right;\n",
       "    }\n",
       "</style>\n",
       "<table border=\"1\" class=\"dataframe\">\n",
       "  <thead>\n",
       "    <tr style=\"text-align: right;\">\n",
       "      <th></th>\n",
       "      <th>client_id</th>\n",
       "      <th>num_purchases</th>\n",
       "      <th>user_total</th>\n",
       "      <th>max_interval</th>\n",
       "      <th>recency</th>\n",
       "      <th>mean_cluster_target</th>\n",
       "    </tr>\n",
       "  </thead>\n",
       "  <tbody>\n",
       "    <tr>\n",
       "      <th>0</th>\n",
       "      <td>1515915625539052563</td>\n",
       "      <td>1</td>\n",
       "      <td>68</td>\n",
       "      <td>0</td>\n",
       "      <td>0</td>\n",
       "      <td>0.746884</td>\n",
       "    </tr>\n",
       "  </tbody>\n",
       "</table>\n",
       "</div>"
      ],
      "text/plain": [
       "             client_id  num_purchases  user_total  max_interval  recency  \\\n",
       "0  1515915625539052563              1          68             0        0   \n",
       "\n",
       "   mean_cluster_target  \n",
       "0             0.746884  "
      ]
     },
     "metadata": {},
     "output_type": "display_data"
    },
    {
     "data": {
      "text/plain": [
       "0.746884    17479\n",
       "0.253116     7559\n",
       "Name: mean_cluster_target, dtype: int64"
      ]
     },
     "metadata": {},
     "output_type": "display_data"
    },
    {
     "data": {
      "text/html": [
       "<div>\n",
       "<style scoped>\n",
       "    .dataframe tbody tr th:only-of-type {\n",
       "        vertical-align: middle;\n",
       "    }\n",
       "\n",
       "    .dataframe tbody tr th {\n",
       "        vertical-align: top;\n",
       "    }\n",
       "\n",
       "    .dataframe thead th {\n",
       "        text-align: right;\n",
       "    }\n",
       "</style>\n",
       "<table border=\"1\" class=\"dataframe\">\n",
       "  <thead>\n",
       "    <tr style=\"text-align: right;\">\n",
       "      <th></th>\n",
       "      <th>client_id</th>\n",
       "      <th>num_purchases</th>\n",
       "      <th>user_total</th>\n",
       "      <th>max_interval</th>\n",
       "      <th>recency</th>\n",
       "      <th>mean_cluster_target</th>\n",
       "    </tr>\n",
       "  </thead>\n",
       "  <tbody>\n",
       "    <tr>\n",
       "      <th>1504</th>\n",
       "      <td>1515915625498567696</td>\n",
       "      <td>2</td>\n",
       "      <td>4748</td>\n",
       "      <td>21</td>\n",
       "      <td>21</td>\n",
       "      <td>0.746884</td>\n",
       "    </tr>\n",
       "  </tbody>\n",
       "</table>\n",
       "</div>"
      ],
      "text/plain": [
       "                client_id  num_purchases  user_total  max_interval  recency  \\\n",
       "1504  1515915625498567696              2        4748            21       21   \n",
       "\n",
       "      mean_cluster_target  \n",
       "1504             0.746884  "
      ]
     },
     "metadata": {},
     "output_type": "display_data"
    },
    {
     "data": {
      "text/plain": [
       "0.746884    2415\n",
       "0.253116     815\n",
       "Name: mean_cluster_target, dtype: int64"
      ]
     },
     "metadata": {},
     "output_type": "display_data"
    }
   ],
   "source": [
    "# создадим признак таргета кластера для тренировочной сбалансированной выборки\n",
    "apparel_clustered_X_train = get_target_feature(apparel_X_train, apparel_X_train_up, 6000, False)\n",
    "gifts_clustered_X_train = get_target_feature(gifts_X_train, gifts_X_train_up, 35000, False)\n",
    "marketplace_clustered_X_train = get_target_feature(marketplace_X_train, marketplace_X_train_up, 90000, False)\n",
    "\n",
    "# создадим признак таргета кластера для тестовой выборки\n",
    "apparel_clustered_X_test = get_target_feature(apparel_X_train, apparel_X_test, 6000, False)\n",
    "gifts_clustered_X_test = get_target_feature(gifts_X_train, gifts_X_test, 35000, False)\n",
    "marketplace_clustered_X_test = get_target_feature(marketplace_X_train, marketplace_X_test, 90000, False)\n",
    "\n",
    "# проверим результат\n",
    "display(\n",
    "    apparel_clustered_X_train.head(1),\n",
    "    apparel_clustered_X_train['mean_cluster_target'].value_counts(),\n",
    "    apparel_clustered_X_test.head(1),\n",
    "    apparel_clustered_X_test['mean_cluster_target'].value_counts(),\n",
    "    gifts_clustered_X_train.head(1),\n",
    "    gifts_clustered_X_train['mean_cluster_target'].value_counts(),\n",
    "    gifts_clustered_X_test.head(1),\n",
    "    gifts_clustered_X_test['mean_cluster_target'].value_counts(),\n",
    "    marketplace_clustered_X_train.head(1),\n",
    "    marketplace_clustered_X_train['mean_cluster_target'].value_counts(),\n",
    "    marketplace_clustered_X_test.head(1),\n",
    "    marketplace_clustered_X_test['mean_cluster_target'].value_counts()\n",
    ")"
   ]
  },
  {
   "cell_type": "code",
   "execution_count": 41,
   "id": "34f163b4-cf9d-40d7-a40d-88a405f955a5",
   "metadata": {},
   "outputs": [
    {
     "data": {
      "text/plain": [
       "Index(['num_purchases', 'user_total', 'max_interval', 'recency',\n",
       "       'mean_cluster_target'],\n",
       "      dtype='object')"
      ]
     },
     "metadata": {},
     "output_type": "display_data"
    },
    {
     "data": {
      "text/plain": [
       "Index(['num_purchases', 'user_total', 'max_interval', 'recency',\n",
       "       'mean_cluster_target'],\n",
       "      dtype='object')"
      ]
     },
     "metadata": {},
     "output_type": "display_data"
    },
    {
     "data": {
      "text/plain": [
       "Index(['num_purchases', 'user_total', 'max_interval', 'recency',\n",
       "       'mean_cluster_target'],\n",
       "      dtype='object')"
      ]
     },
     "metadata": {},
     "output_type": "display_data"
    },
    {
     "data": {
      "text/plain": [
       "Index(['num_purchases', 'user_total', 'max_interval', 'recency',\n",
       "       'mean_cluster_target'],\n",
       "      dtype='object')"
      ]
     },
     "metadata": {},
     "output_type": "display_data"
    },
    {
     "data": {
      "text/plain": [
       "Index(['num_purchases', 'user_total', 'max_interval', 'recency',\n",
       "       'mean_cluster_target'],\n",
       "      dtype='object')"
      ]
     },
     "metadata": {},
     "output_type": "display_data"
    },
    {
     "data": {
      "text/plain": [
       "Index(['num_purchases', 'user_total', 'max_interval', 'recency',\n",
       "       'mean_cluster_target'],\n",
       "      dtype='object')"
      ]
     },
     "metadata": {},
     "output_type": "display_data"
    }
   ],
   "source": [
    "# уберем лишнюю колонку\n",
    "def clean_data(df):\n",
    "    df_final = df.drop(['client_id'], axis=1)\n",
    "    display(df_final.columns)\n",
    "    return df_final\n",
    "\n",
    "apparel_final_X_train = clean_data(apparel_clustered_X_train)\n",
    "apparel_final_X_test = clean_data(apparel_clustered_X_test)\n",
    "gifts_final_X_train = clean_data(gifts_clustered_X_train)\n",
    "gifts_final_X_test = clean_data(gifts_clustered_X_test)\n",
    "marketplace_final_X_train = clean_data(marketplace_clustered_X_train)\n",
    "marketplace_final_X_test = clean_data(marketplace_clustered_X_test)"
   ]
  },
  {
   "cell_type": "markdown",
   "id": "766aa6fe-94b5-4736-971d-7cb6a13f604a",
   "metadata": {},
   "source": [
    "Данных у нас немного, особенно у магазина подарков, поэтому будет целесообразно объединить информацию по всем магазинам в один датасет."
   ]
  },
  {
   "cell_type": "code",
   "execution_count": 42,
   "id": "25fe3c8d-0d59-430f-a03e-8a380ee0c842",
   "metadata": {},
   "outputs": [],
   "source": [
    "# объединим датасеты\n",
    "def concat_data(df1, df2, df3):\n",
    "    final_df = pd.concat([df1, df2], ignore_index=True)\n",
    "    final_df = pd.concat([final_df, df3], ignore_index=True)\n",
    "    display(\n",
    "        final_df.shape,\n",
    "        final_df.head(2)\n",
    "    )\n",
    "    return final_df"
   ]
  },
  {
   "cell_type": "code",
   "execution_count": 43,
   "id": "7e200e15-d0b7-4de1-b892-0cc64dfdfb2c",
   "metadata": {},
   "outputs": [
    {
     "data": {
      "text/plain": [
       "(70380, 5)"
      ]
     },
     "metadata": {},
     "output_type": "display_data"
    },
    {
     "data": {
      "text/html": [
       "<div>\n",
       "<style scoped>\n",
       "    .dataframe tbody tr th:only-of-type {\n",
       "        vertical-align: middle;\n",
       "    }\n",
       "\n",
       "    .dataframe tbody tr th {\n",
       "        vertical-align: top;\n",
       "    }\n",
       "\n",
       "    .dataframe thead th {\n",
       "        text-align: right;\n",
       "    }\n",
       "</style>\n",
       "<table border=\"1\" class=\"dataframe\">\n",
       "  <thead>\n",
       "    <tr style=\"text-align: right;\">\n",
       "      <th></th>\n",
       "      <th>num_purchases</th>\n",
       "      <th>user_total</th>\n",
       "      <th>max_interval</th>\n",
       "      <th>recency</th>\n",
       "      <th>mean_cluster_target</th>\n",
       "    </tr>\n",
       "  </thead>\n",
       "  <tbody>\n",
       "    <tr>\n",
       "      <th>0</th>\n",
       "      <td>1</td>\n",
       "      <td>3998</td>\n",
       "      <td>0</td>\n",
       "      <td>0</td>\n",
       "      <td>0.750177</td>\n",
       "    </tr>\n",
       "    <tr>\n",
       "      <th>1</th>\n",
       "      <td>1</td>\n",
       "      <td>2598</td>\n",
       "      <td>0</td>\n",
       "      <td>0</td>\n",
       "      <td>0.750177</td>\n",
       "    </tr>\n",
       "  </tbody>\n",
       "</table>\n",
       "</div>"
      ],
      "text/plain": [
       "   num_purchases  user_total  max_interval  recency  mean_cluster_target\n",
       "0              1        3998             0        0             0.750177\n",
       "1              1        2598             0        0             0.750177"
      ]
     },
     "metadata": {},
     "output_type": "display_data"
    },
    {
     "data": {
      "text/plain": [
       "(70380,)"
      ]
     },
     "metadata": {},
     "output_type": "display_data"
    },
    {
     "data": {
      "text/plain": [
       "0    0\n",
       "1    0\n",
       "Name: target, dtype: int32"
      ]
     },
     "metadata": {},
     "output_type": "display_data"
    },
    {
     "data": {
      "text/plain": [
       "(8971, 5)"
      ]
     },
     "metadata": {},
     "output_type": "display_data"
    },
    {
     "data": {
      "text/html": [
       "<div>\n",
       "<style scoped>\n",
       "    .dataframe tbody tr th:only-of-type {\n",
       "        vertical-align: middle;\n",
       "    }\n",
       "\n",
       "    .dataframe tbody tr th {\n",
       "        vertical-align: top;\n",
       "    }\n",
       "\n",
       "    .dataframe thead th {\n",
       "        text-align: right;\n",
       "    }\n",
       "</style>\n",
       "<table border=\"1\" class=\"dataframe\">\n",
       "  <thead>\n",
       "    <tr style=\"text-align: right;\">\n",
       "      <th></th>\n",
       "      <th>num_purchases</th>\n",
       "      <th>user_total</th>\n",
       "      <th>max_interval</th>\n",
       "      <th>recency</th>\n",
       "      <th>mean_cluster_target</th>\n",
       "    </tr>\n",
       "  </thead>\n",
       "  <tbody>\n",
       "    <tr>\n",
       "      <th>0</th>\n",
       "      <td>1</td>\n",
       "      <td>330</td>\n",
       "      <td>0</td>\n",
       "      <td>0</td>\n",
       "      <td>0.750177</td>\n",
       "    </tr>\n",
       "    <tr>\n",
       "      <th>1</th>\n",
       "      <td>1</td>\n",
       "      <td>6773</td>\n",
       "      <td>0</td>\n",
       "      <td>0</td>\n",
       "      <td>0.249823</td>\n",
       "    </tr>\n",
       "  </tbody>\n",
       "</table>\n",
       "</div>"
      ],
      "text/plain": [
       "   num_purchases  user_total  max_interval  recency  mean_cluster_target\n",
       "0              1         330             0        0             0.750177\n",
       "1              1        6773             0        0             0.249823"
      ]
     },
     "metadata": {},
     "output_type": "display_data"
    },
    {
     "data": {
      "text/plain": [
       "(8971,)"
      ]
     },
     "metadata": {},
     "output_type": "display_data"
    },
    {
     "data": {
      "text/plain": [
       "0    0\n",
       "1    0\n",
       "Name: target, dtype: int32"
      ]
     },
     "metadata": {},
     "output_type": "display_data"
    }
   ],
   "source": [
    "# объединим данные магазинов\n",
    "total_X_train = concat_data(\n",
    "    apparel_final_X_train, \n",
    "    gifts_final_X_train, \n",
    "    marketplace_final_X_train\n",
    ")\n",
    "total_y_train = concat_data(\n",
    "    apparel_y_train_up, \n",
    "    gifts_y_train_up, \n",
    "    marketplace_y_train_up\n",
    ")\n",
    "total_X_test = concat_data(\n",
    "    apparel_final_X_test, \n",
    "    gifts_final_X_test, \n",
    "    marketplace_final_X_test\n",
    ")\n",
    "total_y_test = concat_data(\n",
    "    apparel_y_test, \n",
    "    gifts_y_test, \n",
    "    marketplace_y_test\n",
    ")"
   ]
  },
  {
   "cell_type": "markdown",
   "id": "b59e1843-d3bd-4f73-93e5-d0c3804224cf",
   "metadata": {},
   "source": [
    "**Итоги обработки данных:**\n",
    "\n",
    "- Мы синтезировали целевой признак на основе последних 30 дней датасета. Присвоили положительный класс клиентам, которые совершили покупку в этот период.\n",
    "- Синтезировали признаки на основе истории покупок каждого клиента\n",
    "- Выявили сильную корреляцию некоторых признаков - попробуем исключить их из обучения и сравним результаты.\n",
    "- У всех магазинов ярко выраженный дисбаланс классов. Клиентов, совершивших покупку в целевом периоде, крайне мало. Мы устранили дисбаланс тренировочной выборки при помощи синтетических данных.\n",
    "- Мы кластеризовали клиентов по общей сумме покупок и добавили признак на основе среднего таргета для каждого кластера."
   ]
  },
  {
   "cell_type": "markdown",
   "id": "d27c3eed-195d-4491-95c4-8706456f978e",
   "metadata": {},
   "source": [
    "# Обучение моделей"
   ]
  },
  {
   "cell_type": "markdown",
   "id": "2c1d8f7a-c964-43ec-aa5c-d115ee9b9c74",
   "metadata": {},
   "source": [
    "## Выбор метрики"
   ]
  },
  {
   "cell_type": "markdown",
   "id": "31e7c4b6-844e-4a6e-85ad-c4b278ffa03e",
   "metadata": {},
   "source": [
    "Нам важно определить как можно больше покупателей, которые совершат покупку в целевом периоде. Таких покупателей очень мало в датасетах, поэтому важно отслеживать recall, чтобы не пропустить потенциальную продажу. Этот параметр будет важнее precision в нашей ситуации. Тем не менее мы не можем совсем пренебречь precision, поэтому при обучении модели используем F1-меру, но также будем отслеживать recall в приоритетном порядке и дополнительно - precision. После обучения настроим модель на максимизацию recall с приемлемым precision, сдвигая порог предсказания."
   ]
  },
  {
   "cell_type": "markdown",
   "id": "bb499937-79ae-451e-8c8f-732d1e1274a8",
   "metadata": {},
   "source": [
    "## Dummy-модель"
   ]
  },
  {
   "cell_type": "code",
   "execution_count": 44,
   "id": "6be23cd9-c4db-4743-a6ed-044a0dee3fc6",
   "metadata": {},
   "outputs": [
    {
     "name": "stdout",
     "output_type": "stream",
     "text": [
      "F1 dummy-модели:  0.030834213305174236\n",
      "Recall dummy-модели:  0.6033057851239669\n",
      "Precision dummy-модели:  0.015821413090593844\n"
     ]
    }
   ],
   "source": [
    "# создадим константную модель для оценки адекватности наших моделей\n",
    "dummy = DummyClassifier(strategy='uniform', random_state=RS).fit(total_X_train, total_y_train)\n",
    "dummy_preds = dummy.predict(total_X_test)\n",
    "\n",
    "# получим результат dummy-модели\n",
    "dummy_f1_test = f1_score(total_y_test, dummy_preds)\n",
    "dummy_recall_test = recall_score(total_y_test, dummy_preds)\n",
    "dummy_precision_test = precision_score(total_y_test, dummy_preds)\n",
    "\n",
    "print('F1 dummy-модели: ', dummy_f1_test)\n",
    "print('Recall dummy-модели: ', dummy_recall_test)\n",
    "print('Precision dummy-модели: ', dummy_precision_test)"
   ]
  },
  {
   "cell_type": "markdown",
   "id": "81434759-5fb5-469e-9f86-81534ee19f74",
   "metadata": {},
   "source": [
    "## Градиентный бустинг"
   ]
  },
  {
   "cell_type": "code",
   "execution_count": 45,
   "id": "2ac7e8f5-23e8-4532-81be-890050fd759a",
   "metadata": {},
   "outputs": [],
   "source": [
    "# подготовим выборки для градиентного бустинга\n",
    "X_train_grad = total_X_train.copy()\n",
    "X_test_grad = total_X_test.copy()\n",
    "\n",
    "# создадим тренировочный и тестовый пулы для CatBoost\n",
    "train_pool = Pool(X_train_grad, total_y_train)\n",
    "test_pool = Pool(X_test_grad, total_y_test)"
   ]
  },
  {
   "cell_type": "code",
   "execution_count": 46,
   "id": "9c62529a-11bc-48a4-a5c9-033c07ef64d8",
   "metadata": {},
   "outputs": [
    {
     "data": {
      "application/vnd.jupyter.widget-view+json": {
       "model_id": "6c93f2dce912438488622bda7c83050b",
       "version_major": 2,
       "version_minor": 0
      },
      "text/plain": [
       "MetricVisualizer(layout=Layout(align_self='stretch', height='500px'))"
      ]
     },
     "metadata": {},
     "output_type": "display_data"
    },
    {
     "name": "stdout",
     "output_type": "stream",
     "text": [
      "0:\tlearn: 0.7338624\ttest: 0.7385142\tbest: 0.7385142 (0)\ttotal: 165ms\tremaining: 2m 44s\n",
      "Stopped by overfitting detector  (10 iterations wait)\n",
      "\n",
      "bestTest = 0.740420675\n",
      "bestIteration = 2\n",
      "\n",
      "0:\tloss: 0.7404207\tbest: 0.7404207 (0)\ttotal: 351ms\tremaining: 0us\n",
      "Estimating final quality...\n",
      "Training on fold [0/5]\n",
      "0:\tlearn: 0.7359089\ttest: 0.7378039\tbest: 0.7378039 (0)\ttotal: 28.9ms\tremaining: 28.8s\n",
      "\n",
      "bestTest = 0.738418953\n",
      "bestIteration = 11\n",
      "\n",
      "Training on fold [1/5]\n",
      "0:\tlearn: 0.7366829\ttest: 0.7347073\tbest: 0.7347073 (0)\ttotal: 17ms\tremaining: 17s\n",
      "\n",
      "bestTest = 0.7356925856\n",
      "bestIteration = 2\n",
      "\n",
      "Training on fold [2/5]\n",
      "0:\tlearn: 0.7375997\ttest: 0.7310311\tbest: 0.7310311 (0)\ttotal: 27ms\tremaining: 27s\n",
      "\n",
      "bestTest = 0.7328481478\n",
      "bestIteration = 19\n",
      "\n",
      "Training on fold [3/5]\n",
      "0:\tlearn: 0.7357784\ttest: 0.7383331\tbest: 0.7383331 (0)\ttotal: 18.9ms\tremaining: 18.9s\n",
      "\n",
      "bestTest = 0.7387004495\n",
      "bestIteration = 5\n",
      "\n",
      "Training on fold [4/5]\n",
      "0:\tlearn: 0.7354736\ttest: 0.7394355\tbest: 0.7394355 (0)\ttotal: 26.3ms\tremaining: 26.3s\n",
      "\n",
      "bestTest = 0.7406199021\n",
      "bestIteration = 2\n",
      "\n"
     ]
    }
   ],
   "source": [
    "# зададим параметры модели\n",
    "model_catboost = CatBoostClassifier(\n",
    "    random_state=RS,\n",
    "    eval_metric='F1',\n",
    "    verbose=100,\n",
    ")\n",
    "\n",
    "# пока проведем обучение без подбора гиперпараметров\n",
    "param_grid_catboost = {\n",
    "    'early_stopping_rounds':[10]\n",
    "}\n",
    "# соберем все вместе и запустим\n",
    "model_catboost_result = model_catboost.grid_search(\n",
    "    param_grid_catboost, \n",
    "    train_pool, \n",
    "    cv=5, \n",
    "    refit=True,\n",
    "    search_by_train_test_split=True,\n",
    "    plot=True\n",
    ")"
   ]
  },
  {
   "cell_type": "markdown",
   "id": "45e81760-1564-4ae8-9dec-10b9114c2764",
   "metadata": {},
   "source": [
    "Наша модель довольно быстро переобучается - это видно по раннему срабатыванию детектора переобучения, когда метрика на тестовой подвыборке перестает расти."
   ]
  },
  {
   "cell_type": "code",
   "execution_count": 47,
   "id": "8d263246-97f6-4a37-83c9-e92e3181be5a",
   "metadata": {},
   "outputs": [
    {
     "name": "stdout",
     "output_type": "stream",
     "text": [
      "{'od_wait': 10}\n",
      "F1:  0.08205128205128205\n",
      "Recall:  0.3305785123966942\n",
      "Precision:  0.0468384074941452\n"
     ]
    }
   ],
   "source": [
    "# узнаем метрики обученной модели\n",
    "def get_score(model, result, test_pool, y_test):\n",
    "    preds = model.predict(test_pool)\n",
    "    print(result['params'])  # гиперпараметры обученной модели \n",
    "    print('F1: ', f1_score(y_test, preds))\n",
    "    print('Recall: ', recall_score(y_test, preds))\n",
    "    print('Precision: ', precision_score(y_test, preds))\n",
    "\n",
    "get_score(model_catboost, model_catboost_result, test_pool, total_y_test)"
   ]
  },
  {
   "cell_type": "markdown",
   "id": "2ab84409-3282-4abd-bb77-d17eebc6f8a7",
   "metadata": {},
   "source": [
    "Модель показала невысокие метрики на базовых настройках. Далее попробуем исключить часть признаков из обучения, настроить гиперпараметры и поменять порог предстказания для увеличения recall. Проверим признаки обученной модели на важность:"
   ]
  },
  {
   "cell_type": "code",
   "execution_count": 48,
   "id": "82e96719-863c-4733-9577-1825e10dfa3f",
   "metadata": {},
   "outputs": [
    {
     "data": {
      "image/png": "[encoded data removed]",
      "text/plain": [
       "<Figure size 864x576 with 1 Axes>"
      ]
     },
     "metadata": {},
     "output_type": "display_data"
    }
   ],
   "source": [
    "# извлечем из модели важность признаков и отсортируем признаки по доле важности\n",
    "feature_importances = pd.Series(model_catboost.get_feature_importance(train_pool), X_train_grad.columns).sort_values(ascending=False)\n",
    "\n",
    "# построим график важности признаков\n",
    "fig, ax = plt.subplots(figsize=(12, 8))\n",
    "feature_importances.plot.barh(ax=ax)\n",
    "ax.set_title(\"Важность признаков\")\n",
    "ax.set_xlabel('Важность')\n",
    "fig.tight_layout()"
   ]
  },
  {
   "cell_type": "markdown",
   "id": "47ff28b3-de3a-4790-814d-22c57cbfd272",
   "metadata": {},
   "source": [
    "Наименьшую важность показал признак среднего значения таргета для кластера. Далее обучим модель без этого признака. Также в процессе отбора признаков мы исключили минимальный интервал между заказами, оставив максимальный интервал. Оба интервала значительно коррелировали между собой, при этом максимальный интервал сильнее влиял на целевой признак. Отсев признака минимального интервала увеличил показатели метрик.\n",
    "\n",
    "Наиболее важным признаком оказалось количество заказов клиента, что логично - значительная доля клиентов сделала лишь один заказ за все время наблюдений, следовательно заказа в целевом периоде уже не будет. \n",
    "\n",
    "В ходе исследования мы пробовали обучать модель без recency, но это привело к снижению метрик."
   ]
  },
  {
   "cell_type": "code",
   "execution_count": 49,
   "id": "54cdfd0d-e239-4383-8752-c2e7b38b96dc",
   "metadata": {},
   "outputs": [
    {
     "data": {
      "text/plain": [
       "(70380, 5)"
      ]
     },
     "metadata": {},
     "output_type": "display_data"
    },
    {
     "data": {
      "text/html": [
       "<div>\n",
       "<style scoped>\n",
       "    .dataframe tbody tr th:only-of-type {\n",
       "        vertical-align: middle;\n",
       "    }\n",
       "\n",
       "    .dataframe tbody tr th {\n",
       "        vertical-align: top;\n",
       "    }\n",
       "\n",
       "    .dataframe thead th {\n",
       "        text-align: right;\n",
       "    }\n",
       "</style>\n",
       "<table border=\"1\" class=\"dataframe\">\n",
       "  <thead>\n",
       "    <tr style=\"text-align: right;\">\n",
       "      <th></th>\n",
       "      <th>client_id</th>\n",
       "      <th>num_purchases</th>\n",
       "      <th>user_total</th>\n",
       "      <th>max_interval</th>\n",
       "      <th>recency</th>\n",
       "    </tr>\n",
       "  </thead>\n",
       "  <tbody>\n",
       "    <tr>\n",
       "      <th>0</th>\n",
       "      <td>1515915625703361475</td>\n",
       "      <td>1</td>\n",
       "      <td>3998</td>\n",
       "      <td>0</td>\n",
       "      <td>0</td>\n",
       "    </tr>\n",
       "    <tr>\n",
       "      <th>1</th>\n",
       "      <td>1515915625489049675</td>\n",
       "      <td>1</td>\n",
       "      <td>2598</td>\n",
       "      <td>0</td>\n",
       "      <td>0</td>\n",
       "    </tr>\n",
       "  </tbody>\n",
       "</table>\n",
       "</div>"
      ],
      "text/plain": [
       "             client_id  num_purchases  user_total  max_interval  recency\n",
       "0  1515915625703361475              1        3998             0        0\n",
       "1  1515915625489049675              1        2598             0        0"
      ]
     },
     "metadata": {},
     "output_type": "display_data"
    },
    {
     "data": {
      "text/plain": [
       "(8971, 5)"
      ]
     },
     "metadata": {},
     "output_type": "display_data"
    },
    {
     "data": {
      "text/html": [
       "<div>\n",
       "<style scoped>\n",
       "    .dataframe tbody tr th:only-of-type {\n",
       "        vertical-align: middle;\n",
       "    }\n",
       "\n",
       "    .dataframe tbody tr th {\n",
       "        vertical-align: top;\n",
       "    }\n",
       "\n",
       "    .dataframe thead th {\n",
       "        text-align: right;\n",
       "    }\n",
       "</style>\n",
       "<table border=\"1\" class=\"dataframe\">\n",
       "  <thead>\n",
       "    <tr style=\"text-align: right;\">\n",
       "      <th></th>\n",
       "      <th>client_id</th>\n",
       "      <th>num_purchases</th>\n",
       "      <th>user_total</th>\n",
       "      <th>max_interval</th>\n",
       "      <th>recency</th>\n",
       "    </tr>\n",
       "  </thead>\n",
       "  <tbody>\n",
       "    <tr>\n",
       "      <th>0</th>\n",
       "      <td>1515915625468267083</td>\n",
       "      <td>1</td>\n",
       "      <td>330</td>\n",
       "      <td>0</td>\n",
       "      <td>0</td>\n",
       "    </tr>\n",
       "    <tr>\n",
       "      <th>1</th>\n",
       "      <td>1515915625491338392</td>\n",
       "      <td>1</td>\n",
       "      <td>6773</td>\n",
       "      <td>0</td>\n",
       "      <td>0</td>\n",
       "    </tr>\n",
       "  </tbody>\n",
       "</table>\n",
       "</div>"
      ],
      "text/plain": [
       "             client_id  num_purchases  user_total  max_interval  recency\n",
       "0  1515915625468267083              1         330             0        0\n",
       "1  1515915625491338392              1        6773             0        0"
      ]
     },
     "metadata": {},
     "output_type": "display_data"
    },
    {
     "data": {
      "text/plain": [
       "Index(['num_purchases', 'user_total', 'max_interval', 'recency'], dtype='object')"
      ]
     },
     "metadata": {},
     "output_type": "display_data"
    },
    {
     "data": {
      "text/plain": [
       "Index(['num_purchases', 'user_total', 'max_interval', 'recency'], dtype='object')"
      ]
     },
     "metadata": {},
     "output_type": "display_data"
    },
    {
     "data": {
      "application/vnd.jupyter.widget-view+json": {
       "model_id": "7be72839be6c4df09b263e3fc8310e77",
       "version_major": 2,
       "version_minor": 0
      },
      "text/plain": [
       "MetricVisualizer(layout=Layout(align_self='stretch', height='500px'))"
      ]
     },
     "metadata": {},
     "output_type": "display_data"
    },
    {
     "name": "stdout",
     "output_type": "stream",
     "text": [
      "0:\tlearn: 0.7351146\ttest: 0.7397706\tbest: 0.7397706 (0)\ttotal: 13.2ms\tremaining: 13.2s\n",
      "Stopped by overfitting detector  (10 iterations wait)\n",
      "\n",
      "bestTest = 0.7404511768\n",
      "bestIteration = 2\n",
      "\n",
      "0:\tloss: 0.7404512\tbest: 0.7404512 (0)\ttotal: 180ms\tremaining: 0us\n",
      "Estimating final quality...\n",
      "Training on fold [0/5]\n",
      "0:\tlearn: 0.7342315\ttest: 0.7362593\tbest: 0.7362593 (0)\ttotal: 9.27ms\tremaining: 9.26s\n",
      "\n",
      "bestTest = 0.7384966202\n",
      "bestIteration = 16\n",
      "\n",
      "Training on fold [1/5]\n",
      "0:\tlearn: 0.7349901\ttest: 0.7332242\tbest: 0.7332242 (0)\ttotal: 14.3ms\tremaining: 14.2s\n",
      "\n",
      "bestTest = 0.7345597898\n",
      "bestIteration = 1\n",
      "\n",
      "Training on fold [2/5]\n",
      "0:\tlearn: 0.7360310\ttest: 0.7290439\tbest: 0.7290439 (0)\ttotal: 22.5ms\tremaining: 22.5s\n",
      "\n",
      "bestTest = 0.7304106004\n",
      "bestIteration = 2\n",
      "\n",
      "Training on fold [3/5]\n",
      "0:\tlearn: 0.7340703\ttest: 0.7369109\tbest: 0.7369109 (0)\ttotal: 22.8ms\tremaining: 22.7s\n",
      "\n",
      "bestTest = 0.7388993376\n",
      "bestIteration = 37\n",
      "\n",
      "Training on fold [4/5]\n",
      "0:\tlearn: 0.7338644\ttest: 0.7376117\tbest: 0.7376117 (0)\ttotal: 26.3ms\tremaining: 26.3s\n",
      "\n",
      "bestTest = 0.7408312958\n",
      "bestIteration = 72\n",
      "\n"
     ]
    }
   ],
   "source": [
    "# объединим данные всех магазинов без признака среднего таргета по кластеру\n",
    "total_X_train_no_clusters = concat_data(\n",
    "    apparel_X_train_up, \n",
    "    gifts_X_train_up, \n",
    "    marketplace_X_train_up\n",
    ")\n",
    "total_X_test_no_clusters = concat_data(\n",
    "    apparel_X_test, \n",
    "    gifts_X_test, \n",
    "    marketplace_X_test\n",
    ")\n",
    "# уберем лишние столбцы\n",
    "total_X_train_no_clusters = clean_data(total_X_train_no_clusters)\n",
    "total_X_test_no_clusters = clean_data(total_X_test_no_clusters)\n",
    "\n",
    "# подготовим выборки для градиентного бустинга\n",
    "X_train_grad = total_X_train_no_clusters.copy()\n",
    "X_test_grad = total_X_test_no_clusters.copy()\n",
    "\n",
    "# создадим тренировочный и тестовый пулы для CatBoost\n",
    "train_pool = Pool(X_train_grad, total_y_train)\n",
    "test_pool = Pool(X_test_grad, total_y_test)\n",
    "\n",
    "# зададим параметры модели\n",
    "model_catboost_no_clusters = CatBoostClassifier(\n",
    "    random_state=RS,\n",
    "    eval_metric='F1',\n",
    "    verbose=100,\n",
    ")\n",
    "\n",
    "# пока проведем обучение без подбора гиперпараметров\n",
    "param_grid_catboost = {\n",
    "    'early_stopping_rounds':[10]\n",
    "}\n",
    "# соберем все вместе и запустим\n",
    "model_catboost_no_clusters_result = model_catboost_no_clusters.grid_search(\n",
    "    param_grid_catboost, \n",
    "    train_pool, \n",
    "    cv=5, \n",
    "    refit=True,\n",
    "    search_by_train_test_split=True,\n",
    "    plot=True\n",
    ")"
   ]
  },
  {
   "cell_type": "code",
   "execution_count": 50,
   "id": "9ad6648e-a4d6-490f-9f50-4f3aec6413a9",
   "metadata": {},
   "outputs": [
    {
     "name": "stdout",
     "output_type": "stream",
     "text": [
      "{'od_wait': 10}\n",
      "F1:  0.08641975308641975\n",
      "Recall:  0.34710743801652894\n",
      "Precision:  0.04935370152761457\n"
     ]
    }
   ],
   "source": [
    "get_score(model_catboost_no_clusters, model_catboost_no_clusters_result, test_pool, total_y_test)"
   ]
  },
  {
   "cell_type": "markdown",
   "id": "141ab820-0390-4501-8edc-13ce37749a73",
   "metadata": {},
   "source": [
    "Нам удалось улучшить метрики без признака среднего таргета по кластеру. Далее уменьшим порог срабатывания переобучения, подберем гиперпараметры и оптимальный порог предсказания:"
   ]
  },
  {
   "cell_type": "code",
   "execution_count": 51,
   "id": "11c89c60-55b3-4e69-9a7e-95b4a12ad85e",
   "metadata": {},
   "outputs": [
    {
     "data": {
      "application/vnd.jupyter.widget-view+json": {
       "model_id": "018e7a3c78cb44e5a809888def07cffb",
       "version_major": 2,
       "version_minor": 0
      },
      "text/plain": [
       "MetricVisualizer(layout=Layout(align_self='stretch', height='500px'))"
      ]
     },
     "metadata": {},
     "output_type": "display_data"
    },
    {
     "name": "stdout",
     "output_type": "stream",
     "text": [
      "0:\tlearn: 0.7333347\ttest: 0.7373212\tbest: 0.7373212 (0)\ttotal: 58.6ms\tremaining: 58.5s\n",
      "Stopped by overfitting detector  (5 iterations wait)\n",
      "\n",
      "bestTest = 0.7376209448\n",
      "bestIteration = 1\n",
      "\n",
      "0:\tloss: 0.7376209\tbest: 0.7376209 (0)\ttotal: 319ms\tremaining: 15s\n",
      "0:\tlearn: 0.7333347\ttest: 0.7373212\tbest: 0.7373212 (0)\ttotal: 53ms\tremaining: 53s\n",
      "Stopped by overfitting detector  (5 iterations wait)\n",
      "\n",
      "bestTest = 0.7391163093\n",
      "bestIteration = 6\n",
      "\n",
      "1:\tloss: 0.7391163\tbest: 0.7391163 (1)\ttotal: 779ms\tremaining: 17.9s\n",
      "0:\tlearn: 0.7333347\ttest: 0.7373212\tbest: 0.7373212 (0)\ttotal: 46.1ms\tremaining: 46.1s\n",
      "Stopped by overfitting detector  (5 iterations wait)\n",
      "\n",
      "bestTest = 0.7375182957\n",
      "bestIteration = 1\n",
      "\n",
      "2:\tloss: 0.7375183\tbest: 0.7391163 (1)\ttotal: 1.05s\tremaining: 15.8s\n",
      "0:\tlearn: 0.7333347\ttest: 0.7373212\tbest: 0.7373212 (0)\ttotal: 55.7ms\tremaining: 55.7s\n",
      "Stopped by overfitting detector  (5 iterations wait)\n",
      "\n",
      "bestTest = 0.7373211964\n",
      "bestIteration = 0\n",
      "\n",
      "3:\tloss: 0.7373212\tbest: 0.7391163 (1)\ttotal: 1.3s\tremaining: 14.3s\n",
      "0:\tlearn: 0.7333347\ttest: 0.7373212\tbest: 0.7373212 (0)\ttotal: 55.4ms\tremaining: 55.3s\n",
      "Stopped by overfitting detector  (5 iterations wait)\n",
      "\n",
      "bestTest = 0.7375182957\n",
      "bestIteration = 1\n",
      "\n",
      "4:\tloss: 0.7375183\tbest: 0.7391163 (1)\ttotal: 1.58s\tremaining: 13.6s\n",
      "0:\tlearn: 0.7333347\ttest: 0.7373212\tbest: 0.7373212 (0)\ttotal: 40.3ms\tremaining: 40.2s\n",
      "Stopped by overfitting detector  (5 iterations wait)\n",
      "\n",
      "bestTest = 0.7391163093\n",
      "bestIteration = 8\n",
      "\n",
      "5:\tloss: 0.7391163\tbest: 0.7391163 (1)\ttotal: 2.1s\tremaining: 14.7s\n",
      "0:\tlearn: 0.7333347\ttest: 0.7373212\tbest: 0.7373212 (0)\ttotal: 66ms\tremaining: 1m 5s\n",
      "Stopped by overfitting detector  (5 iterations wait)\n",
      "\n",
      "bestTest = 0.7392187119\n",
      "bestIteration = 2\n",
      "\n",
      "6:\tloss: 0.7392187\tbest: 0.7392187 (6)\ttotal: 2.51s\tremaining: 14.7s\n",
      "0:\tlearn: 0.7333347\ttest: 0.7373212\tbest: 0.7373212 (0)\ttotal: 63ms\tremaining: 1m 2s\n",
      "Stopped by overfitting detector  (5 iterations wait)\n",
      "\n",
      "bestTest = 0.7392187119\n",
      "bestIteration = 2\n",
      "\n",
      "7:\tloss: 0.7392187\tbest: 0.7392187 (6)\ttotal: 2.92s\tremaining: 14.6s\n",
      "0:\tlearn: 0.7333347\ttest: 0.7373212\tbest: 0.7373212 (0)\ttotal: 51.4ms\tremaining: 51.3s\n",
      "Stopped by overfitting detector  (5 iterations wait)\n",
      "\n",
      "bestTest = 0.7392187119\n",
      "bestIteration = 2\n",
      "\n",
      "8:\tloss: 0.7392187\tbest: 0.7392187 (6)\ttotal: 3.31s\tremaining: 14.4s\n",
      "0:\tlearn: 0.7333347\ttest: 0.7373212\tbest: 0.7373212 (0)\ttotal: 66.2ms\tremaining: 1m 6s\n",
      "Stopped by overfitting detector  (5 iterations wait)\n",
      "\n",
      "bestTest = 0.7392187119\n",
      "bestIteration = 2\n",
      "\n",
      "9:\tloss: 0.7392187\tbest: 0.7392187 (6)\ttotal: 3.73s\tremaining: 14.2s\n",
      "0:\tlearn: 0.7333347\ttest: 0.7373212\tbest: 0.7373212 (0)\ttotal: 53.8ms\tremaining: 53.7s\n",
      "Stopped by overfitting detector  (5 iterations wait)\n",
      "\n",
      "bestTest = 0.7392187119\n",
      "bestIteration = 2\n",
      "\n",
      "10:\tloss: 0.7392187\tbest: 0.7392187 (6)\ttotal: 4.19s\tremaining: 14.1s\n",
      "0:\tlearn: 0.7333347\ttest: 0.7373212\tbest: 0.7373212 (0)\ttotal: 76.8ms\tremaining: 1m 16s\n",
      "Stopped by overfitting detector  (5 iterations wait)\n",
      "\n",
      "bestTest = 0.7392187119\n",
      "bestIteration = 2\n",
      "\n",
      "11:\tloss: 0.7392187\tbest: 0.7392187 (6)\ttotal: 4.66s\tremaining: 14s\n",
      "0:\tlearn: 0.7327834\ttest: 0.7366440\tbest: 0.7366440 (0)\ttotal: 81.8ms\tremaining: 1m 21s\n",
      "Stopped by overfitting detector  (5 iterations wait)\n",
      "\n",
      "bestTest = 0.7392187119\n",
      "bestIteration = 1\n",
      "\n",
      "12:\tloss: 0.7392187\tbest: 0.7392187 (6)\ttotal: 5.18s\tremaining: 14s\n",
      "0:\tlearn: 0.7327834\ttest: 0.7366440\tbest: 0.7366440 (0)\ttotal: 73.4ms\tremaining: 1m 13s\n",
      "Stopped by overfitting detector  (5 iterations wait)\n",
      "\n",
      "bestTest = 0.7392187119\n",
      "bestIteration = 1\n",
      "\n",
      "13:\tloss: 0.7392187\tbest: 0.7392187 (6)\ttotal: 5.78s\tremaining: 14s\n",
      "0:\tlearn: 0.7327834\ttest: 0.7366440\tbest: 0.7366440 (0)\ttotal: 90.7ms\tremaining: 1m 30s\n",
      "Stopped by overfitting detector  (5 iterations wait)\n",
      "\n",
      "bestTest = 0.7392187119\n",
      "bestIteration = 1\n",
      "\n",
      "14:\tloss: 0.7392187\tbest: 0.7392187 (6)\ttotal: 6.26s\tremaining: 13.8s\n",
      "0:\tlearn: 0.7327834\ttest: 0.7366440\tbest: 0.7366440 (0)\ttotal: 64.5ms\tremaining: 1m 4s\n",
      "Stopped by overfitting detector  (5 iterations wait)\n",
      "\n",
      "bestTest = 0.7392187119\n",
      "bestIteration = 1\n",
      "\n",
      "15:\tloss: 0.7392187\tbest: 0.7392187 (6)\ttotal: 6.7s\tremaining: 13.4s\n",
      "0:\tlearn: 0.7327834\ttest: 0.7366440\tbest: 0.7366440 (0)\ttotal: 69.3ms\tremaining: 1m 9s\n",
      "Stopped by overfitting detector  (5 iterations wait)\n",
      "\n",
      "bestTest = 0.7392187119\n",
      "bestIteration = 1\n",
      "\n",
      "16:\tloss: 0.7392187\tbest: 0.7392187 (6)\ttotal: 7.1s\tremaining: 13s\n",
      "0:\tlearn: 0.7327834\ttest: 0.7366440\tbest: 0.7366440 (0)\ttotal: 67.8ms\tremaining: 1m 7s\n",
      "Stopped by overfitting detector  (5 iterations wait)\n",
      "\n",
      "bestTest = 0.7392187119\n",
      "bestIteration = 1\n",
      "\n",
      "17:\tloss: 0.7392187\tbest: 0.7392187 (6)\ttotal: 7.53s\tremaining: 12.5s\n",
      "0:\tlearn: 0.7331445\ttest: 0.7370058\tbest: 0.7370058 (0)\ttotal: 62.8ms\tremaining: 1m 2s\n",
      "Stopped by overfitting detector  (5 iterations wait)\n",
      "\n",
      "bestTest = 0.7399088542\n",
      "bestIteration = 4\n",
      "\n",
      "18:\tloss: 0.7399089\tbest: 0.7399089 (18)\ttotal: 8.17s\tremaining: 12.5s\n",
      "0:\tlearn: 0.7331445\ttest: 0.7370058\tbest: 0.7370058 (0)\ttotal: 65.6ms\tremaining: 1m 5s\n",
      "Stopped by overfitting detector  (5 iterations wait)\n",
      "\n",
      "bestTest = 0.7398129321\n",
      "bestIteration = 6\n",
      "\n",
      "19:\tloss: 0.7398129\tbest: 0.7399089 (18)\ttotal: 8.94s\tremaining: 12.5s\n",
      "0:\tlearn: 0.7331445\ttest: 0.7370058\tbest: 0.7370058 (0)\ttotal: 66.7ms\tremaining: 1m 6s\n",
      "Stopped by overfitting detector  (5 iterations wait)\n",
      "\n",
      "bestTest = 0.7399088542\n",
      "bestIteration = 4\n",
      "\n",
      "20:\tloss: 0.7399089\tbest: 0.7399089 (18)\ttotal: 9.59s\tremaining: 12.3s\n",
      "0:\tlearn: 0.7331445\ttest: 0.7370058\tbest: 0.7370058 (0)\ttotal: 62.1ms\tremaining: 1m 2s\n",
      "Stopped by overfitting detector  (5 iterations wait)\n",
      "\n",
      "bestTest = 0.7398129321\n",
      "bestIteration = 6\n",
      "\n",
      "21:\tloss: 0.7398129\tbest: 0.7399089 (18)\ttotal: 10.3s\tremaining: 12.2s\n",
      "0:\tlearn: 0.7331445\ttest: 0.7370058\tbest: 0.7370058 (0)\ttotal: 62.3ms\tremaining: 1m 2s\n",
      "Stopped by overfitting detector  (5 iterations wait)\n",
      "\n",
      "bestTest = 0.7398731088\n",
      "bestIteration = 4\n",
      "\n",
      "22:\tloss: 0.7398731\tbest: 0.7399089 (18)\ttotal: 11s\tremaining: 12s\n",
      "0:\tlearn: 0.7331445\ttest: 0.7370058\tbest: 0.7370058 (0)\ttotal: 64.6ms\tremaining: 1m 4s\n",
      "Stopped by overfitting detector  (5 iterations wait)\n",
      "\n",
      "bestTest = 0.7398129321\n",
      "bestIteration = 6\n",
      "\n",
      "23:\tloss: 0.7398129\tbest: 0.7399089 (18)\ttotal: 11.8s\tremaining: 11.8s\n",
      "0:\tlearn: 0.7222805\ttest: 0.7263486\tbest: 0.7263486 (0)\ttotal: 13.6ms\tremaining: 13.6s\n",
      "Stopped by overfitting detector  (5 iterations wait)\n",
      "\n",
      "bestTest = 0.7267060367\n",
      "bestIteration = 1\n",
      "\n",
      "24:\tloss: 0.7267060\tbest: 0.7399089 (18)\ttotal: 11.9s\tremaining: 10.9s\n",
      "0:\tlearn: 0.7222805\ttest: 0.7263486\tbest: 0.7263486 (0)\ttotal: 18.4ms\tremaining: 18.4s\n",
      "Stopped by overfitting detector  (5 iterations wait)\n",
      "\n",
      "bestTest = 0.7375182957\n",
      "bestIteration = 2\n",
      "\n",
      "25:\tloss: 0.7375183\tbest: 0.7399089 (18)\ttotal: 12s\tremaining: 10.1s\n",
      "0:\tlearn: 0.7222805\ttest: 0.7263486\tbest: 0.7263486 (0)\ttotal: 10.8ms\tremaining: 10.8s\n",
      "Stopped by overfitting detector  (5 iterations wait)\n",
      "\n",
      "bestTest = 0.7391163093\n",
      "bestIteration = 12\n",
      "\n",
      "26:\tloss: 0.7391163\tbest: 0.7399089 (18)\ttotal: 12.1s\tremaining: 9.43s\n",
      "0:\tlearn: 0.7222805\ttest: 0.7263486\tbest: 0.7263486 (0)\ttotal: 9.68ms\tremaining: 9.67s\n",
      "Stopped by overfitting detector  (5 iterations wait)\n",
      "\n",
      "bestTest = 0.7375182957\n",
      "bestIteration = 2\n",
      "\n",
      "27:\tloss: 0.7375183\tbest: 0.7399089 (18)\ttotal: 12.2s\tremaining: 8.72s\n",
      "0:\tlearn: 0.7222805\ttest: 0.7263486\tbest: 0.7263486 (0)\ttotal: 7.78ms\tremaining: 7.77s\n",
      "Stopped by overfitting detector  (5 iterations wait)\n",
      "\n",
      "bestTest = 0.7375782711\n",
      "bestIteration = 3\n",
      "\n",
      "28:\tloss: 0.7375783\tbest: 0.7399089 (18)\ttotal: 12.3s\tremaining: 8.05s\n",
      "0:\tlearn: 0.7222805\ttest: 0.7263486\tbest: 0.7263486 (0)\ttotal: 9.08ms\tremaining: 9.07s\n",
      "Stopped by overfitting detector  (5 iterations wait)\n",
      "\n",
      "bestTest = 0.739056282\n",
      "bestIteration = 6\n",
      "\n",
      "29:\tloss: 0.7390563\tbest: 0.7399089 (18)\ttotal: 12.4s\tremaining: 7.44s\n",
      "0:\tlearn: 0.7344451\ttest: 0.7387563\tbest: 0.7387563 (0)\ttotal: 15.3ms\tremaining: 15.3s\n",
      "Stopped by overfitting detector  (5 iterations wait)\n",
      "\n",
      "bestTest = 0.7391163093\n",
      "bestIteration = 6\n",
      "\n",
      "30:\tloss: 0.7391163\tbest: 0.7399089 (18)\ttotal: 12.5s\tremaining: 6.88s\n",
      "0:\tlearn: 0.7344451\ttest: 0.7387563\tbest: 0.7387563 (0)\ttotal: 10.7ms\tremaining: 10.7s\n",
      "Stopped by overfitting detector  (5 iterations wait)\n",
      "\n",
      "bestTest = 0.7391163093\n",
      "bestIteration = 6\n",
      "\n",
      "31:\tloss: 0.7391163\tbest: 0.7399089 (18)\ttotal: 12.7s\tremaining: 6.33s\n",
      "0:\tlearn: 0.7344451\ttest: 0.7387563\tbest: 0.7387563 (0)\ttotal: 11.5ms\tremaining: 11.5s\n",
      "Stopped by overfitting detector  (5 iterations wait)\n",
      "\n",
      "bestTest = 0.7391163093\n",
      "bestIteration = 6\n",
      "\n",
      "32:\tloss: 0.7391163\tbest: 0.7399089 (18)\ttotal: 12.8s\tremaining: 5.83s\n",
      "0:\tlearn: 0.7344451\ttest: 0.7387563\tbest: 0.7387563 (0)\ttotal: 15.3ms\tremaining: 15.2s\n",
      "Stopped by overfitting detector  (5 iterations wait)\n",
      "\n",
      "bestTest = 0.7389362566\n",
      "bestIteration = 2\n",
      "\n",
      "33:\tloss: 0.7389363\tbest: 0.7399089 (18)\ttotal: 12.9s\tremaining: 5.32s\n",
      "0:\tlearn: 0.7344451\ttest: 0.7387563\tbest: 0.7387563 (0)\ttotal: 14.5ms\tremaining: 14.5s\n",
      "Stopped by overfitting detector  (5 iterations wait)\n",
      "\n",
      "bestTest = 0.739056282\n",
      "bestIteration = 1\n",
      "\n",
      "34:\tloss: 0.7390563\tbest: 0.7399089 (18)\ttotal: 13s\tremaining: 4.83s\n",
      "0:\tlearn: 0.7344451\ttest: 0.7387563\tbest: 0.7387563 (0)\ttotal: 12.6ms\tremaining: 12.6s\n",
      "Stopped by overfitting detector  (5 iterations wait)\n",
      "\n",
      "bestTest = 0.7391693083\n",
      "bestIteration = 4\n",
      "\n",
      "35:\tloss: 0.7391693\tbest: 0.7399089 (18)\ttotal: 13.1s\tremaining: 4.38s\n",
      "0:\tlearn: 0.7344451\ttest: 0.7387563\tbest: 0.7387563 (0)\ttotal: 19.7ms\tremaining: 19.6s\n",
      "Stopped by overfitting detector  (5 iterations wait)\n",
      "\n",
      "bestTest = 0.7400601675\n",
      "bestIteration = 5\n",
      "\n",
      "36:\tloss: 0.7400602\tbest: 0.7400602 (36)\ttotal: 13.3s\tremaining: 3.95s\n",
      "0:\tlearn: 0.7344451\ttest: 0.7387563\tbest: 0.7387563 (0)\ttotal: 19.2ms\tremaining: 19.2s\n",
      "Stopped by overfitting detector  (5 iterations wait)\n",
      "\n",
      "bestTest = 0.7392187119\n",
      "bestIteration = 2\n",
      "\n",
      "37:\tloss: 0.7392187\tbest: 0.7400602 (36)\ttotal: 13.5s\tremaining: 3.56s\n",
      "0:\tlearn: 0.7344451\ttest: 0.7387563\tbest: 0.7387563 (0)\ttotal: 21ms\tremaining: 21s\n",
      "Stopped by overfitting detector  (5 iterations wait)\n",
      "\n",
      "bestTest = 0.7399577167\n",
      "bestIteration = 8\n",
      "\n",
      "38:\tloss: 0.7399577\tbest: 0.7400602 (36)\ttotal: 13.8s\tremaining: 3.19s\n",
      "0:\tlearn: 0.7344451\ttest: 0.7387563\tbest: 0.7387563 (0)\ttotal: 17.9ms\tremaining: 17.9s\n",
      "Stopped by overfitting detector  (5 iterations wait)\n",
      "\n",
      "bestTest = 0.7392187119\n",
      "bestIteration = 2\n",
      "\n",
      "39:\tloss: 0.7392187\tbest: 0.7400602 (36)\ttotal: 14s\tremaining: 2.79s\n",
      "0:\tlearn: 0.7344451\ttest: 0.7387563\tbest: 0.7387563 (0)\ttotal: 17.6ms\tremaining: 17.6s\n",
      "Stopped by overfitting detector  (5 iterations wait)\n",
      "\n",
      "bestTest = 0.7404331542\n",
      "bestIteration = 26\n",
      "\n",
      "40:\tloss: 0.7404332\tbest: 0.7404332 (40)\ttotal: 14.4s\tremaining: 2.46s\n",
      "0:\tlearn: 0.7344451\ttest: 0.7387563\tbest: 0.7387563 (0)\ttotal: 11.8ms\tremaining: 11.7s\n",
      "Stopped by overfitting detector  (5 iterations wait)\n",
      "\n",
      "bestTest = 0.7392187119\n",
      "bestIteration = 2\n",
      "\n",
      "41:\tloss: 0.7392187\tbest: 0.7404332 (40)\ttotal: 14.5s\tremaining: 2.08s\n",
      "0:\tlearn: 0.7351146\ttest: 0.7397706\tbest: 0.7397706 (0)\ttotal: 29.4ms\tremaining: 29.3s\n",
      "Stopped by overfitting detector  (5 iterations wait)\n",
      "\n",
      "bestTest = 0.740330592\n",
      "bestIteration = 5\n",
      "\n",
      "42:\tloss: 0.7403306\tbest: 0.7404332 (40)\ttotal: 14.7s\tremaining: 1.71s\n",
      "0:\tlearn: 0.7351146\ttest: 0.7397706\tbest: 0.7397706 (0)\ttotal: 25.9ms\tremaining: 25.9s\n",
      "Stopped by overfitting detector  (5 iterations wait)\n",
      "\n",
      "bestTest = 0.7404511768\n",
      "bestIteration = 2\n",
      "\n",
      "43:\tloss: 0.7404512\tbest: 0.7404512 (43)\ttotal: 14.8s\tremaining: 1.35s\n",
      "0:\tlearn: 0.7351146\ttest: 0.7397706\tbest: 0.7397706 (0)\ttotal: 24.8ms\tremaining: 24.8s\n",
      "Stopped by overfitting detector  (5 iterations wait)\n",
      "\n",
      "bestTest = 0.7402882971\n",
      "bestIteration = 2\n",
      "\n",
      "44:\tloss: 0.7402883\tbest: 0.7404512 (43)\ttotal: 15s\tremaining: 998ms\n",
      "0:\tlearn: 0.7351146\ttest: 0.7397706\tbest: 0.7397706 (0)\ttotal: 14.5ms\tremaining: 14.4s\n",
      "Stopped by overfitting detector  (5 iterations wait)\n",
      "\n",
      "bestTest = 0.7404511768\n",
      "bestIteration = 2\n",
      "\n",
      "45:\tloss: 0.7404512\tbest: 0.7404512 (43)\ttotal: 15.1s\tremaining: 657ms\n",
      "0:\tlearn: 0.7351146\ttest: 0.7397706\tbest: 0.7397706 (0)\ttotal: 15.6ms\tremaining: 15.6s\n",
      "Stopped by overfitting detector  (5 iterations wait)\n",
      "\n",
      "bestTest = 0.7402882971\n",
      "bestIteration = 2\n",
      "\n",
      "46:\tloss: 0.7402883\tbest: 0.7404512 (43)\ttotal: 15.2s\tremaining: 324ms\n",
      "0:\tlearn: 0.7351146\ttest: 0.7397706\tbest: 0.7397706 (0)\ttotal: 19.5ms\tremaining: 19.4s\n",
      "Stopped by overfitting detector  (5 iterations wait)\n",
      "\n",
      "bestTest = 0.7404511768\n",
      "bestIteration = 2\n",
      "\n",
      "47:\tloss: 0.7404512\tbest: 0.7404512 (43)\ttotal: 15.4s\tremaining: 0us\n",
      "Estimating final quality...\n",
      "Training on fold [0/5]\n",
      "0:\tlearn: 0.7342315\ttest: 0.7362593\tbest: 0.7362593 (0)\ttotal: 21.7ms\tremaining: 21.6s\n",
      "\n",
      "bestTest = 0.7377502849\n",
      "bestIteration = 5\n",
      "\n",
      "Training on fold [1/5]\n",
      "0:\tlearn: 0.7349901\ttest: 0.7332242\tbest: 0.7332242 (0)\ttotal: 18.9ms\tremaining: 18.8s\n",
      "\n",
      "bestTest = 0.7345597898\n",
      "bestIteration = 1\n",
      "\n",
      "Training on fold [2/5]\n",
      "0:\tlearn: 0.7360310\ttest: 0.7290439\tbest: 0.7290439 (0)\ttotal: 15.7ms\tremaining: 15.7s\n",
      "\n",
      "bestTest = 0.7304703476\n",
      "bestIteration = 4\n",
      "\n",
      "Training on fold [3/5]\n",
      "0:\tlearn: 0.7340703\ttest: 0.7369109\tbest: 0.7369109 (0)\ttotal: 26.7ms\tremaining: 26.7s\n",
      "\n",
      "bestTest = 0.73803691\n",
      "bestIteration = 2\n",
      "\n",
      "Training on fold [4/5]\n",
      "0:\tlearn: 0.7338644\ttest: 0.7376117\tbest: 0.7376117 (0)\ttotal: 15.2ms\tremaining: 15.2s\n",
      "\n",
      "bestTest = 0.7397482745\n",
      "bestIteration = 13\n",
      "\n"
     ]
    }
   ],
   "source": [
    "# зададим параметры модели\n",
    "model_catboost_tuning = CatBoostClassifier(\n",
    "    early_stopping_rounds=5,\n",
    "    random_state=RS,\n",
    "    eval_metric='F1',\n",
    "    verbose=100,\n",
    ")\n",
    "\n",
    "# выберем сетку гиперпараметров модели\n",
    "param_grid_catboost = {\n",
    "    'depth':[3, 4, 5, 6],\n",
    "    'learning_rate': [0.06, 0.03],\n",
    "    'l2_leaf_reg': [2, 3, 4],\n",
    "    'boosting_type': ['Ordered', 'Plain']\n",
    "}\n",
    "# соберем все вместе и запустим\n",
    "model_catboost_tuning_result = model_catboost_tuning.grid_search(\n",
    "    param_grid_catboost, \n",
    "    train_pool, \n",
    "    cv=5, \n",
    "    refit=True,\n",
    "    search_by_train_test_split=True,\n",
    "    plot=True\n",
    ")"
   ]
  },
  {
   "cell_type": "code",
   "execution_count": 52,
   "id": "5080f02e-cbac-4b3d-a5c3-3910f3f07343",
   "metadata": {},
   "outputs": [
    {
     "name": "stdout",
     "output_type": "stream",
     "text": [
      "{'depth': 6, 'l2_leaf_reg': 2, 'learning_rate': 0.03, 'boosting_type': 'Plain'}\n",
      "F1:  0.08235294117647059\n",
      "Recall:  0.34710743801652894\n",
      "Precision:  0.04671857619577308\n"
     ]
    }
   ],
   "source": [
    "get_score(model_catboost_tuning, model_catboost_tuning_result, test_pool, total_y_test)"
   ]
  },
  {
   "cell_type": "code",
   "execution_count": 53,
   "id": "b26a237a-46ef-4cf0-a4e5-086faba5d267",
   "metadata": {},
   "outputs": [],
   "source": [
    "# найдем оптимальный порог вероятности\n",
    "def get_best_threshold(model_catboost, recall_min, threshold_interval, test_pool, y_test):\n",
    "    best_score = 0\n",
    "    # проверим интервал значений порога\n",
    "    for t in threshold_interval:\n",
    "        model_catboost.set_probability_threshold(t)\n",
    "        preds = model_catboost.predict(test_pool)\n",
    "        score = f1_score(y_test, preds)\n",
    "        # сохраним лучший порог\n",
    "        if (score > best_score) & (recall_score(y_test, preds) >= recall_min):\n",
    "            best_score = score\n",
    "            best_threshold = t\n",
    "    # установим оптимальный порог\n",
    "    model_catboost.set_probability_threshold(best_threshold)\n",
    "    \n",
    "    catboost_preds = model_catboost.predict(test_pool)\n",
    "    print('Лучший F1 на тестовой выборке: ', best_score)\n",
    "    print('Recall: ', recall_score(y_test, catboost_preds))\n",
    "    print('Precision: ', precision_score(y_test, catboost_preds))\n",
    "    print('Оптимальный порог предсказания: ', round(best_threshold, 2))\n",
    "    \n",
    "    return best_threshold"
   ]
  },
  {
   "cell_type": "markdown",
   "id": "cbd8436b-3777-4c50-9c31-9eba7d86eef8",
   "metadata": {},
   "source": [
    "Настроим модель для получения recall не ниже 0.7. Так мы сможем определить большую часть клиентов из целевого периода, но не до конца пожертвовать точностью предсказания."
   ]
  },
  {
   "cell_type": "code",
   "execution_count": 54,
   "id": "e39fdc1f-7541-4c5f-b249-3e94d0aecafe",
   "metadata": {},
   "outputs": [
    {
     "name": "stdout",
     "output_type": "stream",
     "text": [
      "Лучший F1 на тестовой выборке:  0.03331373701744072\n",
      "Recall:  0.7024793388429752\n",
      "Precision:  0.017061421116017664\n",
      "Оптимальный порог предсказания:  0.28\n"
     ]
    },
    {
     "data": {
      "text/plain": [
       "0.2800000000000001"
      ]
     },
     "execution_count": 54,
     "metadata": {},
     "output_type": "execute_result"
    }
   ],
   "source": [
    "threshold_interval = np.arange(0.2, 0.8, 0.01)\n",
    "recall_min = 0.7\n",
    "get_best_threshold(model_catboost_tuning, recall_min, threshold_interval, test_pool, total_y_test)"
   ]
  },
  {
   "cell_type": "markdown",
   "id": "c08495e4-b82c-472b-a26b-714e20bcd0e7",
   "metadata": {},
   "source": [
    "## Оценка финальной модели"
   ]
  },
  {
   "cell_type": "code",
   "execution_count": 55,
   "id": "04d26bdb-dd9e-4115-b0fa-85694af712e5",
   "metadata": {},
   "outputs": [
    {
     "data": {
      "text/html": [
       "<div>\n",
       "<style scoped>\n",
       "    .dataframe tbody tr th:only-of-type {\n",
       "        vertical-align: middle;\n",
       "    }\n",
       "\n",
       "    .dataframe tbody tr th {\n",
       "        vertical-align: top;\n",
       "    }\n",
       "\n",
       "    .dataframe thead th {\n",
       "        text-align: right;\n",
       "    }\n",
       "</style>\n",
       "<table border=\"1\" class=\"dataframe\">\n",
       "  <thead>\n",
       "    <tr style=\"text-align: right;\">\n",
       "      <th></th>\n",
       "      <th>dummy</th>\n",
       "      <th>CatBoost</th>\n",
       "    </tr>\n",
       "  </thead>\n",
       "  <tbody>\n",
       "    <tr>\n",
       "      <th>F1</th>\n",
       "      <td>0.030834</td>\n",
       "      <td>0.033314</td>\n",
       "    </tr>\n",
       "    <tr>\n",
       "      <th>Recall</th>\n",
       "      <td>0.603306</td>\n",
       "      <td>0.702479</td>\n",
       "    </tr>\n",
       "    <tr>\n",
       "      <th>Precision</th>\n",
       "      <td>0.015821</td>\n",
       "      <td>0.017061</td>\n",
       "    </tr>\n",
       "  </tbody>\n",
       "</table>\n",
       "</div>"
      ],
      "text/plain": [
       "              dummy  CatBoost\n",
       "F1         0.030834  0.033314\n",
       "Recall     0.603306  0.702479\n",
       "Precision  0.015821  0.017061"
      ]
     },
     "execution_count": 55,
     "metadata": {},
     "output_type": "execute_result"
    }
   ],
   "source": [
    "# проверим модель на адекватность\n",
    "best_model_pred = model_catboost_tuning.predict(test_pool)\n",
    "pd.DataFrame(\n",
    "    {\n",
    "        'dummy': [\n",
    "            dummy_f1_test, \n",
    "            dummy_recall_test, \n",
    "            dummy_precision_test\n",
    "        ],\n",
    "        'CatBoost': [\n",
    "            f1_score(total_y_test, best_model_pred), \n",
    "            recall_score(total_y_test, best_model_pred), \n",
    "            precision_score(total_y_test, best_model_pred)\n",
    "        ]\n",
    "    },\n",
    "    index=['F1', 'Recall', 'Precision']\n",
    ")"
   ]
  },
  {
   "cell_type": "markdown",
   "id": "c1745edb-f546-4c08-9a24-0a1c57d10475",
   "metadata": {},
   "source": [
    "Настроенная модель показала свою адекватность по сравнению с dummy. Удалось улучшить все метрики. Наша модель небесполезна. Далее построим матрицу ошибок модели:"
   ]
  },
  {
   "cell_type": "code",
   "execution_count": 56,
   "id": "a40eb0e6-07a7-4d2b-b1d7-f92c2f697721",
   "metadata": {},
   "outputs": [
    {
     "name": "stdout",
     "output_type": "stream",
     "text": [
      "\n",
      "True Positives(TP) =  3953\n",
      "\n",
      "True Negatives(TN) =  85\n",
      "\n",
      "False Positives(FP) =  4897\n",
      "\n",
      "False Negatives(FN) =  36\n"
     ]
    },
    {
     "data": {
      "image/png": "[encoded data removed]",
      "text/plain": [
       "<Figure size 432x288 with 2 Axes>"
      ]
     },
     "metadata": {},
     "output_type": "display_data"
    }
   ],
   "source": [
    "# найдем предсказания и вероятности\n",
    "best_model_pred_proba = model_catboost_tuning.predict_proba(test_pool)[:, 1]\n",
    "\n",
    "# найдем матрицу ошибок лучшей модели\n",
    "cm = confusion_matrix(total_y_test, best_model_pred)\n",
    "\n",
    "print('\\nTrue Positives(TP) = ', cm[0,0])\n",
    "print('\\nTrue Negatives(TN) = ', cm[1,1])\n",
    "print('\\nFalse Positives(FP) = ', cm[0,1])\n",
    "print('\\nFalse Negatives(FN) = ', cm[1,0])\n",
    "\n",
    "# визуализируем матрицу ошибок лучшей модели\n",
    "cm_matrix = pd.DataFrame(\n",
    "    data=cm, \n",
    "    columns=['Actual Positive:1', 'Actual Negative:0'], \n",
    "    index=['Predict Positive:1', 'Predict Negative:0']\n",
    ")\n",
    "\n",
    "sns.heatmap(\n",
    "    cm_matrix, \n",
    "    annot=True, \n",
    "    fmt='d', \n",
    "    cmap='YlGnBu'\n",
    ");\n",
    "plt.title('Матрица ошибок лучшей модели')\n",
    "plt.show()"
   ]
  },
  {
   "cell_type": "markdown",
   "id": "b611b081-0b4b-454f-931a-1a0c3a309c29",
   "metadata": {},
   "source": [
    "Модель правильно определила большинство клиентов, которые совершат покупку в целевом периоде. Но за счет высокой полноты сильно пострадала точность. Модель отнесла к целевому признаку тысячи клиентов, которые не совершали заказ в последние 30 дней. Тем не менее recall в нашей задаче гораздо важнее precision, поскольку целевых клиентов крайне мало, баланс классов очень плохой. Потенциальные покупки принесут прибыль, поэтому так важно определить большую часть таких покупок. Если низкая точность неприемлема, можно сдвинуть порог предсказания, уменьшив полноту. Покажем это на ROC-кривой:"
   ]
  },
  {
   "cell_type": "code",
   "execution_count": 57,
   "id": "a659417a-8858-459a-872b-05374d78c972",
   "metadata": {},
   "outputs": [
    {
     "name": "stdout",
     "output_type": "stream",
     "text": [
      "ROC-AUC:  0.6623140495867769\n"
     ]
    },
    {
     "data": {
      "image/png": "[encoded data removed]",
      "text/plain": [
       "<Figure size 720x504 with 1 Axes>"
      ]
     },
     "metadata": {},
     "output_type": "display_data"
    }
   ],
   "source": [
    "# найдем ROC-AUC\n",
    "print('ROC-AUC: ', roc_auc_score(total_y_test, best_model_pred_proba))\n",
    "\n",
    "# построим ROC-кривую\n",
    "fpr, tpr, thresholds = roc_curve(total_y_test, best_model_pred_proba)\n",
    "plt.figure(figsize=(10, 7))\n",
    "plt.plot(fpr, tpr)\n",
    "\n",
    "# для сравнения пунктиром отобразим на графике ROC-кривую случайной модели\n",
    "plt.plot([0, 1], [0, 1], linestyle='--')\n",
    "\n",
    "plt.xlim(0, 1)\n",
    "plt.ylim(0, 1)\n",
    "plt.xlabel('False Positive Rate')\n",
    "plt.ylabel('True Positive Rate')\n",
    "plt.title('ROC-кривая')\n",
    "plt.show()"
   ]
  },
  {
   "cell_type": "markdown",
   "id": "af2651eb-7bd6-456b-9d49-91e47fdd1989",
   "metadata": {},
   "source": [
    "Наша модель показала невысокие метрики, но она не бесполезна, что еще раз подтверждает график. Двигая порог предсказания по ROC-кривой мы сможем балансировать между recall и precision.\n",
    "\n",
    "**Итог обучения моделей:**\n",
    "\n",
    "Мы создали не бесполезную модель, которая показала свою адекватность. Сдвинув порог предсказания, нам удалось получить приемлемую полноту, пожертвовав точностью, поскольку это больше отвечает задаче бизнеса. При желании баланс можно изменить, увеличив точность, но снизив полноту."
   ]
  },
  {
   "cell_type": "markdown",
   "id": "15839bf0-5436-4dee-8619-1b279f838114",
   "metadata": {},
   "source": [
    "# Выводы"
   ]
  },
  {
   "cell_type": "markdown",
   "id": "a5e70677-d5bd-4fe4-b462-1ccdc8a864a7",
   "metadata": {},
   "source": [
    "1. Мы обнаружили значительное количество дубликатов строк, но оставили их. Вероятно дубликаты - это похожие товары в одном заказе, имеющие небольшие различия. Например, одежда разных размеров или предметы разных цветов.\n",
    "2. Продажи во всех магазинах имеют нормальный характер, с вплесками и падениями в определенные периоды. Чаще всего клиенты совершают один заказ в магазине.\n",
    "3. Мы подтвердили гипотезу об увеличении доли целевого признака в кластерах клиентов с высокими общими суммами покупок. Тем не менее этот признак оказался бесполезен при обучении модели. Он был наимее важен, без него модель обучалась лучше. Возможно увеличение количества кластеров может быть полезным для модели. Это может быть одно из точек роста нашего решения. Но важно помнить об ограниченном количестве данных, которое может мешать кластеризации клиентов.\n",
    "4. Мы синтезировали признаки на основе покупок каждого клиента и проверили признаки на корреляцию. В дальнейшем убрали признак минимального интервала между заказами, который сильно коррелировал с максимальным интервалом - это дало небольшой прирост метрик.\n",
    "5. Во всех магазинах клиентов, совершивших покупку в целевом периоде, крайне мало. Мы устранили дисбаланс тренировочной выборки при помощи синтетических данных.\n",
    "6. В качестве целевых метрик мы использовали F1-меру и recall. Нам важно определить как можно больше покупателей, которые совершат покупку в целевом периоде. Таких покупателей очень мало, поэтому важно отслеживать recall, чтобы не пропустить потенциальную продажу. Этот параметр будет важнее precision в нашей ситуации. Тем не менее мы не можем совсем пренебречь precision, поэтому при обучении модели использовали F1-меру.\n",
    "7. Мы обучили модель градиентного бустинга CatBoost Classifier. Решение показало адекватность в сравнении с dummy-моделью и оказалось полезным. Сдвинув порог предсказания, нам удалось получить приемлемую полноту, пожертвовав точностью, поскольку это больше отвечает задаче бизнеса. При желании баланс можно изменить, увеличив точность, но снизив полноту.\n",
    "\n",
    "**Итог исследования:**\n",
    "\n",
    "Нам удалось достичь цели. Мы создали полезное решение, которое предсказывает факт совершения клиентом покупки в ближайшие 30 дней."
   ]
  }
 ],
 "metadata": {
  "kernelspec": {
   "display_name": "Python 3 (ipykernel)",
   "language": "python",
   "name": "python3"
  },
  "language_info": {
   "codemirror_mode": {
    "name": "ipython",
    "version": 3
   },
   "file_extension": ".py",
   "mimetype": "text/x-python",
   "name": "python",
   "nbconvert_exporter": "python",
   "pygments_lexer": "ipython3",
   "version": "3.9.5"
  },
  "widgets": {
   "application/vnd.jupyter.widget-state+json": {
    "state": {
     "3098d10c4c0b41d2ade023df49d4ae7b": {
      "model_module": "@jupyter-widgets/base",
      "model_module_version": "2.0.0",
      "model_name": "LayoutModel",
      "state": {
       "align_self": "stretch",
       "height": "500px"
      }
     },
     "798ce5c0a4d640e484868ec4c0ab2da5": {
      "model_module": "@jupyter-widgets/base",
      "model_module_version": "2.0.0",
      "model_name": "LayoutModel",
      "state": {
       "align_self": "stretch",
       "height": "500px"
      }
     },
     "e9e15a0ccda54dd494a9d53b61fe17c4": {
      "model_module": "@jupyter-widgets/base",
      "model_module_version": "2.0.0",
      "model_name": "LayoutModel",
      "state": {
       "align_self": "stretch",
       "height": "500px"
      }
     },
     "undefined": {
      "model_module": "catboost-widget",
      "model_module_version": "2.0.0",
      "model_name": "CatboostWidgetModel",
      "state": {
       "_view_name": "ErrorWidgetView",
       "error": {},
       "msg": "Model class 'CatboostWidgetModel' from module 'catboost-widget' is loaded but can not be instantiated"
      }
     }
    },
    "version_major": 2,
    "version_minor": 0
   }
  }
 },
 "nbformat": 4,
 "nbformat_minor": 5
}
